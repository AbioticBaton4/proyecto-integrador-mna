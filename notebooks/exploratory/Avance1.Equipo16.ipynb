{
 "cells": [
  {
   "cell_type": "markdown",
   "id": "70cf8846",
   "metadata": {},
   "source": [
    "# Avance 1. Análisis exploratorio de datos\n"
   ]
  },
  {
   "cell_type": "markdown",
   "id": "063aac6e",
   "metadata": {},
   "source": [
    "Este primer avance consiste en realizar un análisis exploratorio de datos (EDA - Exploratory Data Analysis), es decir, describir los datos utilizando técnicas estadísticas y de visualización (análisis univariante y bi/multivariante) para hacer enfoque en sus aspectos más relevantes, así como aplicar y justificar operaciones de preprocesamiento, relacionadas con el manejo de valores faltantes, atípicos y alta cardinalidad. "
   ]
  }
 ],
 "metadata": {
  "language_info": {
   "name": "python"
  }
 },
 "nbformat": 4,
 "nbformat_minor": 5
}
