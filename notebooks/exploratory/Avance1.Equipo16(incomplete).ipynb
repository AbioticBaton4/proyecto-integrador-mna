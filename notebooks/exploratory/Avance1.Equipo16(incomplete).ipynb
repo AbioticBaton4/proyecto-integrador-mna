{
 "cells": [
  {
   "cell_type": "markdown",
   "id": "70cf8846",
   "metadata": {},
   "source": [
    "# Avance 1. Análisis exploratorio de datos\n"
   ]
  },
  {
   "cell_type": "markdown",
   "id": "063aac6e",
   "metadata": {},
   "source": [
    "Este primer avance consiste en realizar un análisis exploratorio de datos (EDA - Exploratory Data Analysis), es decir, describir los datos utilizando técnicas estadísticas y de visualización (análisis univariante y bi/multivariante) para hacer enfoque en sus aspectos más relevantes, así como aplicar y justificar operaciones de preprocesamiento, relacionadas con el manejo de valores faltantes, atípicos y alta cardinalidad. "
   ]
  },
  {
   "cell_type": "markdown",
   "id": "cda7c75f",
   "metadata": {},
   "source": [
    "## Introducción \n",
    "### Contexto y Objetivos del Análisis\n",
    "#### Descripción del problema de negocio o investigación.\n",
    "#### Preguntas a responder con el análisis\n",
    "\n",
    "\n"
   ]
  },
  {
   "cell_type": "markdown",
   "id": "b647e85f",
   "metadata": {},
   "source": [
    "## Descripción del Conjunto de Datos\n",
    "#### Origen y descripción de los datos.\n",
    "#### Significado de cada variable.\n",
    "#### Granularidad temporal"
   ]
  },
  {
   "cell_type": "markdown",
   "id": "4ce02dc7",
   "metadata": {},
   "source": [
    "### Librerías y Carga de Datos"
   ]
  },
  {
   "cell_type": "markdown",
   "id": "89a00012",
   "metadata": {},
   "source": [
    "#### Librerías"
   ]
  },
  {
   "cell_type": "code",
   "execution_count": 62,
   "id": "d13c11ae",
   "metadata": {},
   "outputs": [],
   "source": [
    "import pandas as pd\n",
    "from tabulate import tabulate\n",
    "import seaborn as sns\n",
    "import matplotlib.pyplot as plt\n",
    "import plotly.express as px\n",
    "import plotly.graph_objects as go\n"
   ]
  },
  {
   "cell_type": "markdown",
   "id": "3c19c253",
   "metadata": {},
   "source": [
    "#### Carga de Datos"
   ]
  },
  {
   "cell_type": "code",
   "execution_count": 2,
   "id": "42804707",
   "metadata": {},
   "outputs": [
    {
     "data": {
      "text/html": [
       "<div>\n",
       "<style scoped>\n",
       "    .dataframe tbody tr th:only-of-type {\n",
       "        vertical-align: middle;\n",
       "    }\n",
       "\n",
       "    .dataframe tbody tr th {\n",
       "        vertical-align: top;\n",
       "    }\n",
       "\n",
       "    .dataframe thead th {\n",
       "        text-align: right;\n",
       "    }\n",
       "</style>\n",
       "<table border=\"1\" class=\"dataframe\">\n",
       "  <thead>\n",
       "    <tr style=\"text-align: right;\">\n",
       "      <th></th>\n",
       "      <th>Año</th>\n",
       "      <th>Semana</th>\n",
       "      <th>Pag.</th>\n",
       "      <th>Cuadro</th>\n",
       "      <th>No_01</th>\n",
       "      <th>Entidad</th>\n",
       "      <th>No_02</th>\n",
       "      <th>Padecimiento</th>\n",
       "      <th>Ax_001</th>\n",
       "      <th>Ax_002</th>\n",
       "      <th>Ax_003</th>\n",
       "      <th>No_03</th>\n",
       "      <th>Valor</th>\n",
       "      <th>No_04</th>\n",
       "    </tr>\n",
       "  </thead>\n",
       "  <tbody>\n",
       "    <tr>\n",
       "      <th>0</th>\n",
       "      <td>2014</td>\n",
       "      <td>sem02</td>\n",
       "      <td>57</td>\n",
       "      <td>CUADRO 17.</td>\n",
       "      <td>NaN</td>\n",
       "      <td>Aguascalientes</td>\n",
       "      <td>NaN</td>\n",
       "      <td>DepresiónCIE-10ª REV.F32</td>\n",
       "      <td>2014</td>\n",
       "      <td>0</td>\n",
       "      <td>Sem.</td>\n",
       "      <td>NaN</td>\n",
       "      <td>1</td>\n",
       "      <td>NaN</td>\n",
       "    </tr>\n",
       "    <tr>\n",
       "      <th>1</th>\n",
       "      <td>2014</td>\n",
       "      <td>sem02</td>\n",
       "      <td>57</td>\n",
       "      <td>CUADRO 17.</td>\n",
       "      <td>NaN</td>\n",
       "      <td>Aguascalientes</td>\n",
       "      <td>NaN</td>\n",
       "      <td>DepresiónCIE-10ª REV.F32</td>\n",
       "      <td>2014</td>\n",
       "      <td>Acum.</td>\n",
       "      <td>H</td>\n",
       "      <td>NaN</td>\n",
       "      <td>1</td>\n",
       "      <td>NaN</td>\n",
       "    </tr>\n",
       "    <tr>\n",
       "      <th>2</th>\n",
       "      <td>2014</td>\n",
       "      <td>sem02</td>\n",
       "      <td>57</td>\n",
       "      <td>CUADRO 17.</td>\n",
       "      <td>NaN</td>\n",
       "      <td>Aguascalientes</td>\n",
       "      <td>NaN</td>\n",
       "      <td>DepresiónCIE-10ª REV.F32</td>\n",
       "      <td>2014</td>\n",
       "      <td>Acum.</td>\n",
       "      <td>M</td>\n",
       "      <td>NaN</td>\n",
       "      <td>-</td>\n",
       "      <td>NaN</td>\n",
       "    </tr>\n",
       "    <tr>\n",
       "      <th>3</th>\n",
       "      <td>2014</td>\n",
       "      <td>sem02</td>\n",
       "      <td>57</td>\n",
       "      <td>CUADRO 17.</td>\n",
       "      <td>NaN</td>\n",
       "      <td>Aguascalientes</td>\n",
       "      <td>NaN</td>\n",
       "      <td>Enfermedad de Parkinson\\nCIE-10ª REV.\\nG20</td>\n",
       "      <td>2014</td>\n",
       "      <td>0</td>\n",
       "      <td>Sem.</td>\n",
       "      <td>NaN</td>\n",
       "      <td>-</td>\n",
       "      <td>NaN</td>\n",
       "    </tr>\n",
       "    <tr>\n",
       "      <th>4</th>\n",
       "      <td>2014</td>\n",
       "      <td>sem02</td>\n",
       "      <td>57</td>\n",
       "      <td>CUADRO 17.</td>\n",
       "      <td>NaN</td>\n",
       "      <td>Aguascalientes</td>\n",
       "      <td>NaN</td>\n",
       "      <td>Enfermedad de Parkinson\\nCIE-10ª REV.\\nG20</td>\n",
       "      <td>2014</td>\n",
       "      <td>Acum.</td>\n",
       "      <td>H</td>\n",
       "      <td>NaN</td>\n",
       "      <td>-</td>\n",
       "      <td>NaN</td>\n",
       "    </tr>\n",
       "  </tbody>\n",
       "</table>\n",
       "</div>"
      ],
      "text/plain": [
       "    Año Semana  Pag.     Cuadro   No_01         Entidad  No_02  \\\n",
       "0  2014  sem02    57  CUADRO 17.    NaN  Aguascalientes    NaN   \n",
       "1  2014  sem02    57  CUADRO 17.    NaN  Aguascalientes    NaN   \n",
       "2  2014  sem02    57  CUADRO 17.    NaN  Aguascalientes    NaN   \n",
       "3  2014  sem02    57  CUADRO 17.    NaN  Aguascalientes    NaN   \n",
       "4  2014  sem02    57  CUADRO 17.    NaN  Aguascalientes    NaN   \n",
       "\n",
       "                                 Padecimiento  Ax_001 Ax_002 Ax_003  No_03  \\\n",
       "0                    DepresiónCIE-10ª REV.F32    2014      0   Sem.    NaN   \n",
       "1                    DepresiónCIE-10ª REV.F32    2014  Acum.      H    NaN   \n",
       "2                    DepresiónCIE-10ª REV.F32    2014  Acum.      M    NaN   \n",
       "3  Enfermedad de Parkinson\\nCIE-10ª REV.\\nG20    2014      0   Sem.    NaN   \n",
       "4  Enfermedad de Parkinson\\nCIE-10ª REV.\\nG20    2014  Acum.      H    NaN   \n",
       "\n",
       "  Valor  No_04  \n",
       "0     1    NaN  \n",
       "1     1    NaN  \n",
       "2     -    NaN  \n",
       "3     -    NaN  \n",
       "4     -    NaN  "
      ]
     },
     "execution_count": 2,
     "metadata": {},
     "output_type": "execute_result"
    }
   ],
   "source": [
    "path = '../../data/raw/data.csv'\n",
    "df = pd.read_csv(path)\n",
    "df.head()"
   ]
  },
  {
   "cell_type": "markdown",
   "id": "8b1d9f4a",
   "metadata": {},
   "source": [
    "## Limpieza e Inspección Inicial de **Datos**"
   ]
  },
  {
   "cell_type": "markdown",
   "id": "cb2c6526",
   "metadata": {},
   "source": [
    "### Análisis de los Datos\n",
    "\n",
    "En esta sección realizaremos un análisis exploratorio inicial para entender la estructura y características de nuestro dataset. Examinaremos:"
   ]
  },
  {
   "cell_type": "markdown",
   "id": "5602ee10",
   "metadata": {},
   "source": [
    "- **Dimensiones del dataset**: Número de filas y columnas"
   ]
  },
  {
   "cell_type": "code",
   "execution_count": 3,
   "id": "6fd80a46",
   "metadata": {},
   "outputs": [
    {
     "name": "stdout",
     "output_type": "stream",
     "text": [
      "Dimensiones del DataFrame: (329637, 14)\n",
      "Total de registros: 329,637\n",
      "Total de columnas: 14\n"
     ]
    }
   ],
   "source": [
    "print('Dimensiones del DataFrame:', df.shape)\n",
    "print(f'Total de registros: {df.shape[0]:,}')\n",
    "print(f'Total de columnas: {df.shape[1]}')"
   ]
  },
  {
   "cell_type": "markdown",
   "id": "b40c5ba1",
   "metadata": {},
   "source": [
    "- **Valores faltantes**: Identificación de datos ausentes por columna"
   ]
  },
  {
   "cell_type": "code",
   "execution_count": 4,
   "id": "bd73d385",
   "metadata": {},
   "outputs": [
    {
     "name": "stdout",
     "output_type": "stream",
     "text": [
      "\n",
      "Valores faltantes por columna:\n",
      "╭──────────────┬─────────────────────╮\n",
      "│ Columna      │   Valores faltantes │\n",
      "├──────────────┼─────────────────────┤\n",
      "│ Año          │                   0 │\n",
      "│ Semana       │                   0 │\n",
      "│ Pag.         │                   0 │\n",
      "│ Cuadro       │                   0 │\n",
      "│ No_01        │              329637 │\n",
      "│ Entidad      │                   0 │\n",
      "│ No_02        │              329637 │\n",
      "│ Padecimiento │                   0 │\n",
      "│ Ax_001       │                   0 │\n",
      "│ Ax_002       │                   0 │\n",
      "│ Ax_003       │                   0 │\n",
      "│ No_03        │              329637 │\n",
      "│ Valor        │                   0 │\n",
      "│ No_04        │              329637 │\n",
      "╰──────────────┴─────────────────────╯\n"
     ]
    }
   ],
   "source": [
    "print('\\nValores faltantes por columna:')\n",
    "print(tabulate(df.isnull().sum().reset_index(), \n",
    "               headers=['Columna', 'Valores faltantes'], \n",
    "               tablefmt='rounded_outline', \n",
    "               showindex=False))"
   ]
  },
  {
   "cell_type": "markdown",
   "id": "d5404de2",
   "metadata": {},
   "source": [
    "- **Tipos de datos**: Verificación de tipos de variables (numéricas, categóricas, fechas)"
   ]
  },
  {
   "cell_type": "code",
   "execution_count": 5,
   "id": "ef063464",
   "metadata": {},
   "outputs": [
    {
     "name": "stdout",
     "output_type": "stream",
     "text": [
      "\n",
      "Tipos de datos por columna:\n",
      "╭──────────────┬────────────────╮\n",
      "│ Columna      │ Tipo de dato   │\n",
      "├──────────────┼────────────────┤\n",
      "│ Año          │ int64          │\n",
      "│ Semana       │ object         │\n",
      "│ Pag.         │ int64          │\n",
      "│ Cuadro       │ object         │\n",
      "│ No_01        │ float64        │\n",
      "│ Entidad      │ object         │\n",
      "│ No_02        │ float64        │\n",
      "│ Padecimiento │ object         │\n",
      "│ Ax_001       │ int64          │\n",
      "│ Ax_002       │ object         │\n",
      "│ Ax_003       │ object         │\n",
      "│ No_03        │ float64        │\n",
      "│ Valor        │ object         │\n",
      "│ No_04        │ float64        │\n",
      "╰──────────────┴────────────────╯\n"
     ]
    }
   ],
   "source": [
    "print('\\nTipos de datos por columna:')\n",
    "print(tabulate(df.dtypes.reset_index(), \n",
    "               headers=['Columna', 'Tipo de dato'], \n",
    "               tablefmt='rounded_outline', \n",
    "               showindex=False))"
   ]
  },
  {
   "cell_type": "markdown",
   "id": "f65d8316",
   "metadata": {},
   "source": [
    "- **Valores únicos**: Cardinalidad de cada variable para detectar posibles problemas"
   ]
  },
  {
   "cell_type": "code",
   "execution_count": 6,
   "id": "8d3a0ce9",
   "metadata": {},
   "outputs": [
    {
     "name": "stdout",
     "output_type": "stream",
     "text": [
      "\n",
      "Valores únicos por columna:\n",
      "╭──────────────┬──────────────────╮\n",
      "│ Columna      │   Valores únicos │\n",
      "├──────────────┼──────────────────┤\n",
      "│ Año          │               11 │\n",
      "│ Semana       │               53 │\n",
      "│ Pag.         │               26 │\n",
      "│ Cuadro       │                4 │\n",
      "│ No_01        │                0 │\n",
      "│ Entidad      │               34 │\n",
      "│ No_02        │                0 │\n",
      "│ Padecimiento │               18 │\n",
      "│ Ax_001       │               12 │\n",
      "│ Ax_002       │                3 │\n",
      "│ Ax_003       │                4 │\n",
      "│ No_03        │                0 │\n",
      "│ Valor        │             7740 │\n",
      "│ No_04        │                0 │\n",
      "╰──────────────┴──────────────────╯\n"
     ]
    }
   ],
   "source": [
    "print('\\nValores únicos por columna:')\n",
    "print(tabulate(df.nunique().reset_index(), \n",
    "               headers=['Columna', 'Valores únicos'], \n",
    "               tablefmt='rounded_outline', \n",
    "               showindex=False))"
   ]
  },
  {
   "cell_type": "markdown",
   "id": "983cd7d0",
   "metadata": {},
   "source": [
    "- **Limpieza inicial**: Renombrado de columnas para mejorar la legibilidad"
   ]
  },
  {
   "cell_type": "code",
   "execution_count": 7,
   "id": "2b43e767",
   "metadata": {},
   "outputs": [],
   "source": [
    "new_columns = {'Cuadro ': 'Cuadro', 'Entidad': 'Estado'}\n",
    "df.rename(columns=new_columns, inplace=True)"
   ]
  },
  {
   "cell_type": "markdown",
   "id": "6cf97a0f",
   "metadata": {},
   "source": [
    "Este análisis nos permite identificar operaciones de preprocesamiento necesarias antes del análisis más profundo."
   ]
  },
  {
   "cell_type": "markdown",
   "id": "33edcab2",
   "metadata": {},
   "source": [
    "### Preprocesamiento \n",
    "\n",
    "Basándose en el análisis inicial, aplicaremos las siguientes transformaciones a los datos:"
   ]
  },
  {
   "cell_type": "markdown",
   "id": "0aec7fcc",
   "metadata": {},
   "source": [
    "**1. Procesamiento de la columna 'Semana'**\n",
    "- Remover el prefijo 'sem' de los valores\n",
    "- Convertir a tipo entero para facilitar cálculos temporales"
   ]
  },
  {
   "cell_type": "code",
   "execution_count": 8,
   "id": "51896415",
   "metadata": {},
   "outputs": [],
   "source": [
    "df['Semana'] = df['Semana'].str.replace('sem', '').astype('int')"
   ]
  },
  {
   "cell_type": "markdown",
   "id": "6a0358ab",
   "metadata": {},
   "source": [
    "**2. Creación de columna 'Fecha'**\n",
    "- Generar fechas utilizando año y semana ISO\n",
    "- Formato: Año + Semana + día 1 (lunes de cada semana)\n",
    "- Facilita análisis de series temporales"
   ]
  },
  {
   "cell_type": "code",
   "execution_count": 9,
   "id": "fc27cf3f",
   "metadata": {},
   "outputs": [],
   "source": [
    "df['Fecha'] = pd.to_datetime(df['Año'].astype(str) + df['Semana'].astype(str) + '1', format='%G%V%u')"
   ]
  },
  {
   "cell_type": "markdown",
   "id": "57ae3ff0",
   "metadata": {},
   "source": [
    "**3. Limpieza de la columna 'Valor'**\n",
    "- Eliminar caracteres no numéricos usando regex\n",
    "- Convertir a tipo numérico, reemplazando valores inválidos con 0\n",
    "- Asegurar consistencia en los datos de análisis"
   ]
  },
  {
   "cell_type": "code",
   "execution_count": 10,
   "id": "1b026cd6",
   "metadata": {},
   "outputs": [],
   "source": [
    "# df['Valor'] = pd.to_numeric(df['Valor'], errors='coerce').fillna(0).astype(int)\n",
    "df['Valor'] = pd.to_numeric(df['Valor'].str.replace(r'[^0-9]', '', regex=True), errors='coerce').fillna(0).astype(int)"
   ]
  },
  {
   "cell_type": "markdown",
   "id": "144ff23d",
   "metadata": {},
   "source": [
    "**4. Procesamiento de 'Padecimiento'**\n",
    "- Eliminar saltos de línea que pueden causar problemas\n",
    "- Extraer códigos de padecimiento (formato REV.X) para análisis"
   ]
  },
  {
   "cell_type": "code",
   "execution_count": 11,
   "id": "84a1ee0b",
   "metadata": {},
   "outputs": [],
   "source": [
    "df['Padecimiento'] = df['Padecimiento'].astype(str).str.replace('\\n', '')\n",
    "df['Codigo Padecimiento'] = df['Padecimiento'].str.extract(r'REV\\.(.*)')"
   ]
  },
  {
   "cell_type": "markdown",
   "id": "0690f1a5",
   "metadata": {},
   "source": [
    "**5. Eliminación de columnas innecesarias**\n",
    "- Remover columnas que inician con 'No' (columnas vacías)\n",
    "- Eliminar columna 'Pag.' que no aporta valor analítico"
   ]
  },
  {
   "cell_type": "code",
   "execution_count": 12,
   "id": "f87d9bf0",
   "metadata": {},
   "outputs": [],
   "source": [
    "# Eliminar las columnas que tengan el prefijo \"No\" (Columnas Vacías)\n",
    "df = df.loc[:, ~df.columns.str.startswith('No')]\n",
    "# Eliminar la columna Pag.\n",
    "df.drop(columns='Pag.', inplace=True)"
   ]
  },
  {
   "cell_type": "code",
   "execution_count": 13,
   "id": "c9b1b19c",
   "metadata": {},
   "outputs": [
    {
     "data": {
      "text/html": [
       "<div>\n",
       "<style scoped>\n",
       "    .dataframe tbody tr th:only-of-type {\n",
       "        vertical-align: middle;\n",
       "    }\n",
       "\n",
       "    .dataframe tbody tr th {\n",
       "        vertical-align: top;\n",
       "    }\n",
       "\n",
       "    .dataframe thead th {\n",
       "        text-align: right;\n",
       "    }\n",
       "</style>\n",
       "<table border=\"1\" class=\"dataframe\">\n",
       "  <thead>\n",
       "    <tr style=\"text-align: right;\">\n",
       "      <th></th>\n",
       "      <th>Año</th>\n",
       "      <th>Semana</th>\n",
       "      <th>Cuadro</th>\n",
       "      <th>Estado</th>\n",
       "      <th>Padecimiento</th>\n",
       "      <th>Ax_001</th>\n",
       "      <th>Ax_002</th>\n",
       "      <th>Ax_003</th>\n",
       "      <th>Valor</th>\n",
       "      <th>Fecha</th>\n",
       "      <th>Codigo Padecimiento</th>\n",
       "    </tr>\n",
       "  </thead>\n",
       "  <tbody>\n",
       "    <tr>\n",
       "      <th>0</th>\n",
       "      <td>2014</td>\n",
       "      <td>2</td>\n",
       "      <td>CUADRO 17.</td>\n",
       "      <td>Aguascalientes</td>\n",
       "      <td>DepresiónCIE-10ª REV.F32</td>\n",
       "      <td>2014</td>\n",
       "      <td>0</td>\n",
       "      <td>Sem.</td>\n",
       "      <td>1</td>\n",
       "      <td>2014-01-06</td>\n",
       "      <td>F32</td>\n",
       "    </tr>\n",
       "    <tr>\n",
       "      <th>1</th>\n",
       "      <td>2014</td>\n",
       "      <td>2</td>\n",
       "      <td>CUADRO 17.</td>\n",
       "      <td>Aguascalientes</td>\n",
       "      <td>DepresiónCIE-10ª REV.F32</td>\n",
       "      <td>2014</td>\n",
       "      <td>Acum.</td>\n",
       "      <td>H</td>\n",
       "      <td>1</td>\n",
       "      <td>2014-01-06</td>\n",
       "      <td>F32</td>\n",
       "    </tr>\n",
       "    <tr>\n",
       "      <th>2</th>\n",
       "      <td>2014</td>\n",
       "      <td>2</td>\n",
       "      <td>CUADRO 17.</td>\n",
       "      <td>Aguascalientes</td>\n",
       "      <td>DepresiónCIE-10ª REV.F32</td>\n",
       "      <td>2014</td>\n",
       "      <td>Acum.</td>\n",
       "      <td>M</td>\n",
       "      <td>0</td>\n",
       "      <td>2014-01-06</td>\n",
       "      <td>F32</td>\n",
       "    </tr>\n",
       "    <tr>\n",
       "      <th>3</th>\n",
       "      <td>2014</td>\n",
       "      <td>2</td>\n",
       "      <td>CUADRO 17.</td>\n",
       "      <td>Aguascalientes</td>\n",
       "      <td>Enfermedad de ParkinsonCIE-10ª REV.G20</td>\n",
       "      <td>2014</td>\n",
       "      <td>0</td>\n",
       "      <td>Sem.</td>\n",
       "      <td>0</td>\n",
       "      <td>2014-01-06</td>\n",
       "      <td>G20</td>\n",
       "    </tr>\n",
       "    <tr>\n",
       "      <th>4</th>\n",
       "      <td>2014</td>\n",
       "      <td>2</td>\n",
       "      <td>CUADRO 17.</td>\n",
       "      <td>Aguascalientes</td>\n",
       "      <td>Enfermedad de ParkinsonCIE-10ª REV.G20</td>\n",
       "      <td>2014</td>\n",
       "      <td>Acum.</td>\n",
       "      <td>H</td>\n",
       "      <td>0</td>\n",
       "      <td>2014-01-06</td>\n",
       "      <td>G20</td>\n",
       "    </tr>\n",
       "  </tbody>\n",
       "</table>\n",
       "</div>"
      ],
      "text/plain": [
       "    Año  Semana      Cuadro          Estado  \\\n",
       "0  2014       2  CUADRO 17.  Aguascalientes   \n",
       "1  2014       2  CUADRO 17.  Aguascalientes   \n",
       "2  2014       2  CUADRO 17.  Aguascalientes   \n",
       "3  2014       2  CUADRO 17.  Aguascalientes   \n",
       "4  2014       2  CUADRO 17.  Aguascalientes   \n",
       "\n",
       "                             Padecimiento  Ax_001 Ax_002 Ax_003  Valor  \\\n",
       "0                DepresiónCIE-10ª REV.F32    2014      0   Sem.      1   \n",
       "1                DepresiónCIE-10ª REV.F32    2014  Acum.      H      1   \n",
       "2                DepresiónCIE-10ª REV.F32    2014  Acum.      M      0   \n",
       "3  Enfermedad de ParkinsonCIE-10ª REV.G20    2014      0   Sem.      0   \n",
       "4  Enfermedad de ParkinsonCIE-10ª REV.G20    2014  Acum.      H      0   \n",
       "\n",
       "       Fecha Codigo Padecimiento  \n",
       "0 2014-01-06                 F32  \n",
       "1 2014-01-06                 F32  \n",
       "2 2014-01-06                 F32  \n",
       "3 2014-01-06                 G20  \n",
       "4 2014-01-06                 G20  "
      ]
     },
     "execution_count": 13,
     "metadata": {},
     "output_type": "execute_result"
    }
   ],
   "source": [
    "df.head(5)"
   ]
  },
  {
   "cell_type": "markdown",
   "id": "e708f2ec",
   "metadata": {},
   "source": [
    "## Inspección Profunda de Datos"
   ]
  },
  {
   "cell_type": "markdown",
   "id": "46c5ebe0",
   "metadata": {},
   "source": [
    "En esta sección realizaremos un análisis exhaustivo para detectar y cuantificar datos faltantes en las series temporales del dataset."
   ]
  },
  {
   "cell_type": "markdown",
   "id": "31450381",
   "metadata": {},
   "source": [
    "### Análisis de Datos de la Serie Completa por Combinación"
   ]
  },
  {
   "cell_type": "markdown",
   "id": "fd7be84e",
   "metadata": {},
   "source": [
    "**1. Detección de combinaciones únicas respecto a las columnas** `Cuadro`, `Estado`, `Codigo Padecimiento` y `Ax_003`"
   ]
  },
  {
   "cell_type": "code",
   "execution_count": 14,
   "id": "35266480",
   "metadata": {},
   "outputs": [
    {
     "name": "stdout",
     "output_type": "stream",
     "text": [
      "Total de combinaciones únicas: 1464\n",
      "Primeras 10 combinaciones únicas:\n",
      "╭────────────┬─────────────────┬───────────────────────┬──────────╮\n",
      "│ Cuadro     │ Estado          │ Codigo Padecimiento   │ Ax_003   │\n",
      "├────────────┼─────────────────┼───────────────────────┼──────────┤\n",
      "│ CUADRO 17. │ Aguascalientes  │ F32                   │ Sem.     │\n",
      "│ CUADRO 17. │ Aguascalientes  │ F32                   │ H        │\n",
      "│ CUADRO 17. │ Aguascalientes  │ F32                   │ M        │\n",
      "│ CUADRO 17. │ Aguascalientes  │ G20                   │ Sem.     │\n",
      "│ CUADRO 17. │ Aguascalientes  │ G20                   │ H        │\n",
      "│ CUADRO 17. │ Aguascalientes  │ G20                   │ M        │\n",
      "│ CUADRO 17. │ Aguascalientes  │ G30                   │ Sem.     │\n",
      "│ CUADRO 17. │ Aguascalientes  │ G30                   │ H        │\n",
      "│ CUADRO 17. │ Aguascalientes  │ G30                   │ M        │\n",
      "│ CUADRO 17. │ Baja California │ F32                   │ Sem.     │\n",
      "╰────────────┴─────────────────┴───────────────────────┴──────────╯\n"
     ]
    }
   ],
   "source": [
    "columnas_grupo = ['Cuadro', 'Estado', 'Codigo Padecimiento', 'Ax_003']\n",
    "combinaciones_unicas = df[columnas_grupo].drop_duplicates()\n",
    "print(f'Total de combinaciones únicas: {len(combinaciones_unicas):}')\n",
    "print('Primeras 10 combinaciones únicas:')\n",
    "print(tabulate(combinaciones_unicas.head(10), headers='keys', tablefmt='rounded_outline',showindex=False))\n"
   ]
  },
  {
   "cell_type": "markdown",
   "id": "02a31839",
   "metadata": {},
   "source": [
    "**2. Definición del rango temporal completo**: \n",
    "- Rango de fechas desde la fecha mínima hasta la máxima del dataset\n",
    "- Cantidad de fechas a existir por combinación"
   ]
  },
  {
   "cell_type": "code",
   "execution_count": 15,
   "id": "edb37ba3",
   "metadata": {},
   "outputs": [
    {
     "name": "stdout",
     "output_type": "stream",
     "text": [
      "Rango de fechas: 2014-01-06 a 2024-12-23\n",
      "Cantidad de fechas únicas a existir en el DataFrame para cada Combinación: 573\n"
     ]
    }
   ],
   "source": [
    "fecha_inicial = df['Fecha'].min()\n",
    "fecha_final = df['Fecha'].max()\n",
    "fechas_completas = pd.date_range(fecha_inicial, fecha_final, freq=\"W-MON\")\n",
    "print(f'Rango de fechas: {fecha_inicial.date()} a {fecha_final.date()}')\n",
    "print(f'Cantidad de fechas únicas a existir en el DataFrame para cada Combinación: {len(fechas_completas)}')"
   ]
  },
  {
   "cell_type": "markdown",
   "id": "5e16003a",
   "metadata": {},
   "source": [
    "**3. Detección de valores faltantes por combinación**: \n",
    "\n"
   ]
  },
  {
   "cell_type": "markdown",
   "id": "733fec92",
   "metadata": {},
   "source": [
    "- Cantidad de combinaciones con fechas faltantes"
   ]
  },
  {
   "cell_type": "code",
   "execution_count": 16,
   "id": "6d54300c",
   "metadata": {},
   "outputs": [
    {
     "name": "stdout",
     "output_type": "stream",
     "text": [
      "Total de combinaciones con fechas faltantes: 1464/1464\n"
     ]
    }
   ],
   "source": [
    "fechas_faltantes_dict = {}\n",
    "\n",
    "# Agrupar por las combinaciones que te interesan\n",
    "for keys, grupo in df.groupby(columnas_grupo):\n",
    "    fechas_existentes = grupo[\"Fecha\"].unique()\n",
    "    # fechas_completas = pd.date_range(\n",
    "    #     grupo[\"Fecha\"].min(), grupo[\"Fecha\"].max(), freq=\"W-MON\"\n",
    "    # )\n",
    "    fechas_faltantes = fechas_completas.difference(fechas_existentes)\n",
    "    if len(fechas_faltantes) > 0:\n",
    "        fechas_faltantes_dict[keys] = fechas_faltantes\n",
    "\n",
    "# Mostrar resultados\n",
    "print(f'Total de combinaciones con fechas faltantes: {len(fechas_faltantes_dict):}/{len(combinaciones_unicas):}')\n"
   ]
  },
  {
   "cell_type": "markdown",
   "id": "718ed6f8",
   "metadata": {},
   "source": []
  },
  {
   "cell_type": "code",
   "execution_count": 17,
   "id": "4970cac9",
   "metadata": {},
   "outputs": [
    {
     "name": "stdout",
     "output_type": "stream",
     "text": [
      "Mostrando las primeras 10 combinaciones con fechas faltantes:\n",
      "╭────────────┬────────────────┬───────────────────────┬──────────┬────────────────────┬──────────────╮\n",
      "│ Cuadro     │ Estado         │ Codigo Padecimiento   │ Ax_003   │   Fechas faltantes │ % faltante   │\n",
      "├────────────┼────────────────┼───────────────────────┼──────────┼────────────────────┼──────────────┤\n",
      "│ CUADRO 17. │ Aguascalientes │ F32                   │ Acum.    │                 54 │ 9.42%        │\n",
      "│ CUADRO 17. │ Aguascalientes │ F32                   │ H        │                  2 │ 0.35%        │\n",
      "│ CUADRO 17. │ Aguascalientes │ F32                   │ M        │                  2 │ 0.35%        │\n",
      "│ CUADRO 17. │ Aguascalientes │ F32                   │ Sem.     │                  2 │ 0.35%        │\n",
      "│ CUADRO 17. │ Aguascalientes │ G20                   │ Acum.    │                 54 │ 9.42%        │\n",
      "│ CUADRO 17. │ Aguascalientes │ G20                   │ H        │                  2 │ 0.35%        │\n",
      "│ CUADRO 17. │ Aguascalientes │ G20                   │ M        │                  2 │ 0.35%        │\n",
      "│ CUADRO 17. │ Aguascalientes │ G20                   │ Sem.     │                  2 │ 0.35%        │\n",
      "│ CUADRO 17. │ Aguascalientes │ G30                   │ Acum.    │                 54 │ 9.42%        │\n",
      "│ CUADRO 17. │ Aguascalientes │ G30                   │ H        │                  2 │ 0.35%        │\n",
      "╰────────────┴────────────────┴───────────────────────┴──────────┴────────────────────┴──────────────╯\n"
     ]
    }
   ],
   "source": [
    "ncol = 10\n",
    "print(f'Mostrando las primeras {ncol} combinaciones con fechas faltantes:')\n",
    "\n",
    "tabla_fechas_faltantes = [\n",
    "    [\n",
    "        *combo,\n",
    "        len(f),\n",
    "        f\"{len(f)*100/len(fechas_completas):.2f}%\",\n",
    "        f\n",
    "    ]\n",
    "    for combo, f in list(fechas_faltantes_dict.items())\n",
    "]\n",
    "df_fechas_faltantes = pd.DataFrame(\n",
    "    tabla_fechas_faltantes,\n",
    "    columns=columnas_grupo + ['Fechas faltantes', '% faltante', 'Listado de fechas faltantes']\n",
    ")\n",
    "# Excluye la columnas de Listado de fechas faltantes para mejor visualización\n",
    "print(tabulate(df_fechas_faltantes.loc[:,df_fechas_faltantes.columns != 'Listado de fechas faltantes'].head(ncol), headers='keys', tablefmt='rounded_outline', showindex=False))"
   ]
  },
  {
   "cell_type": "markdown",
   "id": "269814c2",
   "metadata": {},
   "source": [
    "- Fechas con mayor cantidad de valores Faltantes"
   ]
  },
  {
   "cell_type": "code",
   "execution_count": 18,
   "id": "33f95790",
   "metadata": {},
   "outputs": [
    {
     "name": "stdout",
     "output_type": "stream",
     "text": [
      "Fechas con mayor cantidad de valores faltantes (Top 10):\n",
      "╭─────────────────────┬───────────────────────────╮\n",
      "│ Fecha               │   Combinaciones_faltantes │\n",
      "├─────────────────────┼───────────────────────────┤\n",
      "│ 2015-12-28 00:00:00 │                      1464 │\n",
      "│ 2014-04-21 00:00:00 │                      1167 │\n",
      "│ 2014-12-15 00:00:00 │                      1167 │\n",
      "│ 2014-12-22 00:00:00 │                      1167 │\n",
      "│ 2014-01-06 00:00:00 │                      1167 │\n",
      "│ 2014-12-29 00:00:00 │                      1167 │\n",
      "│ 2014-05-05 00:00:00 │                      1167 │\n",
      "│ 2014-01-13 00:00:00 │                      1167 │\n",
      "│ 2014-01-20 00:00:00 │                      1167 │\n",
      "│ 2014-01-27 00:00:00 │                      1167 │\n",
      "╰─────────────────────┴───────────────────────────╯\n",
      "\n",
      "Resumen estadístico:\n",
      "Total de fechas con valores faltantes: 573\n",
      "Fecha con más faltantes: 2015-12-28 (1464 combinaciones)\n",
      "Fecha con menos faltantes: 2024-12-23 (12 combinaciones)\n"
     ]
    }
   ],
   "source": [
    "# Crear un diccionario para contar cuántas combinaciones faltan en cada fecha\n",
    "conteo_fechas_faltantes = {}\n",
    "\n",
    "# Iterar sobre todas las fechas faltantes de cada combinación\n",
    "for combo, fechas_faltantes in fechas_faltantes_dict.items():\n",
    "    for fecha in fechas_faltantes:\n",
    "        if fecha not in conteo_fechas_faltantes:\n",
    "            conteo_fechas_faltantes[fecha] = 0\n",
    "        conteo_fechas_faltantes[fecha] += 1\n",
    "\n",
    "# Convertir a DataFrame y ordenar por cantidad de combinaciones faltantes\n",
    "df_conteo_fechas = pd.DataFrame([\n",
    "    [fecha, cantidad] \n",
    "    for fecha, cantidad in conteo_fechas_faltantes.items()\n",
    "], columns=['Fecha', 'Combinaciones_faltantes'])\n",
    "\n",
    "# Ordenar por cantidad de combinaciones faltantes (descendente)\n",
    "df_conteo_fechas = df_conteo_fechas.sort_values('Combinaciones_faltantes', ascending=False)\n",
    "\n",
    "print(f'Fechas con mayor cantidad de valores faltantes (Top {ncol}):')\n",
    "print(tabulate(\n",
    "    df_conteo_fechas.head(ncol), \n",
    "    headers='keys', \n",
    "    tablefmt='rounded_outline', \n",
    "    showindex=False\n",
    "))\n",
    "\n",
    "print(f'\\nResumen estadístico:')\n",
    "print(f'Total de fechas con valores faltantes: {len(df_conteo_fechas)}')\n",
    "print(f'Fecha con más faltantes: {df_conteo_fechas.iloc[0][\"Fecha\"].date()} ({df_conteo_fechas.iloc[0][\"Combinaciones_faltantes\"]} combinaciones)')\n",
    "print(f'Fecha con menos faltantes: {df_conteo_fechas.iloc[-1][\"Fecha\"].date()} ({df_conteo_fechas.iloc[-1][\"Combinaciones_faltantes\"]} combinaciones)')"
   ]
  },
  {
   "cell_type": "markdown",
   "id": "8f9952a9",
   "metadata": {},
   "source": [
    "### Análisis de Datos de la Serie Completa"
   ]
  },
  {
   "cell_type": "markdown",
   "id": "efd9cf2a",
   "metadata": {},
   "source": [
    "#### Obtención de la Serie Completa de acuerdo al rango de Fechas establecido"
   ]
  },
  {
   "cell_type": "code",
   "execution_count": 19,
   "id": "d07cabf9",
   "metadata": {},
   "outputs": [],
   "source": [
    "# Todas las combinaciones únicas\n",
    "# combos = df[columnas_grupo].drop_duplicates()\n",
    "\n",
    "# Producto cartesiano (todas las combinaciones × todas las semanas)\n",
    "idx = pd.MultiIndex.from_product(\n",
    "    [combinaciones_unicas.itertuples(index=False, name=None), fechas_completas],\n",
    "    names=[\"Combo\", \"Fecha\"]\n",
    ")\n",
    "df_completo = pd.DataFrame(index=idx).reset_index()\n",
    "\n",
    "# Expandir las columnas del combo\n",
    "df_completo[columnas_grupo] = pd.DataFrame(\n",
    "    df_completo[\"Combo\"].tolist(), index=df_completo.index\n",
    ")\n",
    "\n",
    "df_completo = df_completo.drop(columns=\"Combo\")\n",
    "\n",
    "# Unir con tu df original\n",
    "df_merge = df_completo.merge(\n",
    "    df, on=[\"Fecha\", \"Cuadro\", \"Estado\", \"Ax_003\", \"Codigo Padecimiento\"], how=\"left\"\n",
    ")\n",
    "\n",
    "# Filtrar los registros faltantes\n",
    "faltantes = df_merge[df_merge.isna().any(axis=1)]"
   ]
  },
  {
   "cell_type": "markdown",
   "id": "2731a88c",
   "metadata": {},
   "source": [
    "#### Consolidación del Dataset y Enriquecimiento Temporal"
   ]
  },
  {
   "cell_type": "markdown",
   "id": "bb117d25",
   "metadata": {},
   "source": [
    "Este proceso finaliza la preparación del dataset mediante la integración de información de referencia y la creación de variables temporales adicionales para facilitar el análisis de series de tiempo.\n",
    "\n"
   ]
  },
  {
   "cell_type": "markdown",
   "id": "c7dee838",
   "metadata": {},
   "source": [
    "**1. Creación de tabla de referencia de Padecimientos e Integracion de datos:**\n",
    "\n",
    "- Extracción de códigos y nombres únicos de padecimientos\n",
    "- Eliminación de duplicados para crear un catálogo limpio\n",
    "- Merge entre el dataset expandido (`df_merge`) y la tabla de referencia\n",
    "- Recuperación de nombres completos de padecimientos para registros con datos faltantes\n",
    "    - Uso de `right join` para preservar todos los códigos de padecimiento"
   ]
  },
  {
   "cell_type": "code",
   "execution_count": 20,
   "id": "e1c96f63",
   "metadata": {},
   "outputs": [],
   "source": [
    "df_ref = df[[\"Codigo Padecimiento\", \"Padecimiento\"]].drop_duplicates()\n",
    "df_final = df_merge.merge(df_ref, on=\"Codigo Padecimiento\", how=\"right\", suffixes=(\"_ref\", \"\"))\n",
    "df_final.drop(columns=['Padecimiento_ref'], inplace=True)"
   ]
  },
  {
   "cell_type": "markdown",
   "id": "7da22cee",
   "metadata": {},
   "source": [
    "**2. Enriquecimiento temporal:**\n",
    "\n",
    "- Generación de variables Año y Semana a partir de fechas ISO\n",
    "- Facilitación de análisis por períodos temporales específicos"
   ]
  },
  {
   "cell_type": "code",
   "execution_count": 21,
   "id": "0f864156",
   "metadata": {},
   "outputs": [],
   "source": [
    "df_final[\"Año\"] = df_final[\"Fecha\"].dt.isocalendar().year\n",
    "df_final[\"Semana\"] = df_final[\"Fecha\"].dt.isocalendar().week"
   ]
  },
  {
   "cell_type": "code",
   "execution_count": 22,
   "id": "424e0de2",
   "metadata": {},
   "outputs": [
    {
     "data": {
      "text/html": [
       "<div>\n",
       "<style scoped>\n",
       "    .dataframe tbody tr th:only-of-type {\n",
       "        vertical-align: middle;\n",
       "    }\n",
       "\n",
       "    .dataframe tbody tr th {\n",
       "        vertical-align: top;\n",
       "    }\n",
       "\n",
       "    .dataframe thead th {\n",
       "        text-align: right;\n",
       "    }\n",
       "</style>\n",
       "<table border=\"1\" class=\"dataframe\">\n",
       "  <thead>\n",
       "    <tr style=\"text-align: right;\">\n",
       "      <th></th>\n",
       "      <th>Fecha</th>\n",
       "      <th>Cuadro</th>\n",
       "      <th>Estado</th>\n",
       "      <th>Codigo Padecimiento</th>\n",
       "      <th>Ax_003</th>\n",
       "      <th>Año</th>\n",
       "      <th>Semana</th>\n",
       "      <th>Ax_001</th>\n",
       "      <th>Ax_002</th>\n",
       "      <th>Valor</th>\n",
       "      <th>Padecimiento</th>\n",
       "    </tr>\n",
       "  </thead>\n",
       "  <tbody>\n",
       "    <tr>\n",
       "      <th>0</th>\n",
       "      <td>2014-01-06</td>\n",
       "      <td>CUADRO 17.</td>\n",
       "      <td>Aguascalientes</td>\n",
       "      <td>F32</td>\n",
       "      <td>Sem.</td>\n",
       "      <td>2014</td>\n",
       "      <td>2</td>\n",
       "      <td>2014.0</td>\n",
       "      <td>0</td>\n",
       "      <td>1.0</td>\n",
       "      <td>DepresiónCIE-10ª REV.F32</td>\n",
       "    </tr>\n",
       "    <tr>\n",
       "      <th>1</th>\n",
       "      <td>2014-01-13</td>\n",
       "      <td>CUADRO 17.</td>\n",
       "      <td>Aguascalientes</td>\n",
       "      <td>F32</td>\n",
       "      <td>Sem.</td>\n",
       "      <td>2014</td>\n",
       "      <td>3</td>\n",
       "      <td>2014.0</td>\n",
       "      <td>0</td>\n",
       "      <td>2.0</td>\n",
       "      <td>DepresiónCIE-10ª REV.F32</td>\n",
       "    </tr>\n",
       "    <tr>\n",
       "      <th>2</th>\n",
       "      <td>2014-01-20</td>\n",
       "      <td>CUADRO 17.</td>\n",
       "      <td>Aguascalientes</td>\n",
       "      <td>F32</td>\n",
       "      <td>Sem.</td>\n",
       "      <td>2014</td>\n",
       "      <td>4</td>\n",
       "      <td>2014.0</td>\n",
       "      <td>0</td>\n",
       "      <td>1.0</td>\n",
       "      <td>DepresiónCIE-10ª REV.F32</td>\n",
       "    </tr>\n",
       "    <tr>\n",
       "      <th>3</th>\n",
       "      <td>2014-01-27</td>\n",
       "      <td>CUADRO 17.</td>\n",
       "      <td>Aguascalientes</td>\n",
       "      <td>F32</td>\n",
       "      <td>Sem.</td>\n",
       "      <td>2014</td>\n",
       "      <td>5</td>\n",
       "      <td>2014.0</td>\n",
       "      <td>0</td>\n",
       "      <td>1.0</td>\n",
       "      <td>DepresiónCIE-10ª REV.F32</td>\n",
       "    </tr>\n",
       "    <tr>\n",
       "      <th>4</th>\n",
       "      <td>2014-02-03</td>\n",
       "      <td>CUADRO 17.</td>\n",
       "      <td>Aguascalientes</td>\n",
       "      <td>F32</td>\n",
       "      <td>Sem.</td>\n",
       "      <td>2014</td>\n",
       "      <td>6</td>\n",
       "      <td>2014.0</td>\n",
       "      <td>0</td>\n",
       "      <td>2.0</td>\n",
       "      <td>DepresiónCIE-10ª REV.F32</td>\n",
       "    </tr>\n",
       "  </tbody>\n",
       "</table>\n",
       "</div>"
      ],
      "text/plain": [
       "       Fecha      Cuadro          Estado Codigo Padecimiento Ax_003   Año  \\\n",
       "0 2014-01-06  CUADRO 17.  Aguascalientes                 F32   Sem.  2014   \n",
       "1 2014-01-13  CUADRO 17.  Aguascalientes                 F32   Sem.  2014   \n",
       "2 2014-01-20  CUADRO 17.  Aguascalientes                 F32   Sem.  2014   \n",
       "3 2014-01-27  CUADRO 17.  Aguascalientes                 F32   Sem.  2014   \n",
       "4 2014-02-03  CUADRO 17.  Aguascalientes                 F32   Sem.  2014   \n",
       "\n",
       "   Semana  Ax_001 Ax_002  Valor              Padecimiento  \n",
       "0       2  2014.0      0    1.0  DepresiónCIE-10ª REV.F32  \n",
       "1       3  2014.0      0    2.0  DepresiónCIE-10ª REV.F32  \n",
       "2       4  2014.0      0    1.0  DepresiónCIE-10ª REV.F32  \n",
       "3       5  2014.0      0    1.0  DepresiónCIE-10ª REV.F32  \n",
       "4       6  2014.0      0    2.0  DepresiónCIE-10ª REV.F32  "
      ]
     },
     "execution_count": 22,
     "metadata": {},
     "output_type": "execute_result"
    }
   ],
   "source": [
    "df_final.head()"
   ]
  },
  {
   "cell_type": "markdown",
   "id": "759e13f3",
   "metadata": {},
   "source": [
    "#### Análisis"
   ]
  },
  {
   "cell_type": "markdown",
   "id": "dfaaace3",
   "metadata": {},
   "source": [
    "En esta sección realizaremos un análisis exploratorio para entender la estructura y características de nuestro dataset. Examinaremos:"
   ]
  },
  {
   "cell_type": "markdown",
   "id": "9a9bc8b3",
   "metadata": {},
   "source": [
    "- **Dimensiones del dataset**: Número de filas y columnas"
   ]
  },
  {
   "cell_type": "code",
   "execution_count": 23,
   "id": "7e0c427d",
   "metadata": {},
   "outputs": [
    {
     "name": "stdout",
     "output_type": "stream",
     "text": [
      "Dimensiones del DataFrame: (839169, 11)\n",
      "Total de registros: 839,169\n",
      "Total de columnas: 11\n"
     ]
    }
   ],
   "source": [
    "print('Dimensiones del DataFrame:', df_final.shape)\n",
    "print(f'Total de registros: {df_final.shape[0]:,}')\n",
    "print(f'Total de columnas: {df_final.shape[1]}')"
   ]
  },
  {
   "cell_type": "markdown",
   "id": "a9982ea8",
   "metadata": {},
   "source": [
    "- **Valores faltantes**: Identificación de datos ausentes por columna"
   ]
  },
  {
   "cell_type": "code",
   "execution_count": 24,
   "id": "4666b113",
   "metadata": {},
   "outputs": [
    {
     "name": "stdout",
     "output_type": "stream",
     "text": [
      "\n",
      "Valores faltantes por columna:\n",
      "╭─────────────────────┬─────────────────────╮\n",
      "│ Columna             │   Valores faltantes │\n",
      "├─────────────────────┼─────────────────────┤\n",
      "│ Fecha               │                   0 │\n",
      "│ Cuadro              │                   0 │\n",
      "│ Estado              │                   0 │\n",
      "│ Codigo Padecimiento │                   0 │\n",
      "│ Ax_003              │                   0 │\n",
      "│ Año                 │                   0 │\n",
      "│ Semana              │                   0 │\n",
      "│ Ax_001              │              509532 │\n",
      "│ Ax_002              │              509532 │\n",
      "│ Valor               │              509532 │\n",
      "│ Padecimiento        │                   0 │\n",
      "╰─────────────────────┴─────────────────────╯\n"
     ]
    }
   ],
   "source": [
    "print('\\nValores faltantes por columna:')\n",
    "print(tabulate(df_final.isnull().sum().reset_index(), \n",
    "               headers=['Columna', 'Valores faltantes'], \n",
    "               tablefmt='rounded_outline', \n",
    "               showindex=False))"
   ]
  },
  {
   "cell_type": "markdown",
   "id": "327068d1",
   "metadata": {},
   "source": [
    "- **Tipos de datos**: Verificación de tipos de variables (numéricas, categóricas, fechas)"
   ]
  },
  {
   "cell_type": "code",
   "execution_count": 25,
   "id": "26f239d9",
   "metadata": {},
   "outputs": [
    {
     "name": "stdout",
     "output_type": "stream",
     "text": [
      "\n",
      "Tipos de datos por columna:\n",
      "╭─────────────────────┬────────────────╮\n",
      "│ Columna             │ Tipo de dato   │\n",
      "├─────────────────────┼────────────────┤\n",
      "│ Fecha               │ datetime64[ns] │\n",
      "│ Cuadro              │ object         │\n",
      "│ Estado              │ object         │\n",
      "│ Codigo Padecimiento │ object         │\n",
      "│ Ax_003              │ object         │\n",
      "│ Año                 │ UInt32         │\n",
      "│ Semana              │ UInt32         │\n",
      "│ Ax_001              │ float64        │\n",
      "│ Ax_002              │ object         │\n",
      "│ Valor               │ float64        │\n",
      "│ Padecimiento        │ object         │\n",
      "╰─────────────────────┴────────────────╯\n"
     ]
    }
   ],
   "source": [
    "print('\\nTipos de datos por columna:')\n",
    "print(tabulate(df_final.dtypes.reset_index(), \n",
    "               headers=['Columna', 'Tipo de dato'], \n",
    "               tablefmt='rounded_outline', \n",
    "               showindex=False))"
   ]
  },
  {
   "cell_type": "markdown",
   "id": "4d29c1b3",
   "metadata": {},
   "source": [
    "- **Valores únicos**: Cardinalidad de cada variable para detectar posibles problemas"
   ]
  },
  {
   "cell_type": "code",
   "execution_count": 30,
   "id": "1646aca2",
   "metadata": {},
   "outputs": [
    {
     "name": "stdout",
     "output_type": "stream",
     "text": [
      "\n",
      "Valores únicos por columna:\n",
      "╭─────────────────────┬──────────────────╮\n",
      "│ Columna             │   Valores únicos │\n",
      "├─────────────────────┼──────────────────┤\n",
      "│ Fecha               │              573 │\n",
      "│ Cuadro              │                4 │\n",
      "│ Estado              │               34 │\n",
      "│ Codigo Padecimiento │               11 │\n",
      "│ Ax_003              │                4 │\n",
      "│ Año                 │               11 │\n",
      "│ Semana              │               53 │\n",
      "│ Ax_001              │               12 │\n",
      "│ Ax_002              │                3 │\n",
      "│ Valor               │             7732 │\n",
      "│ Padecimiento        │               11 │\n",
      "╰─────────────────────┴──────────────────╯\n"
     ]
    }
   ],
   "source": [
    "print('\\nValores únicos por columna:')\n",
    "print(f\"{tabulate(df_final.nunique().reset_index(), \n",
    "               headers=['Columna', 'Valores únicos'], \n",
    "               tablefmt='rounded_outline', \n",
    "               showindex=False)}\")"
   ]
  },
  {
   "cell_type": "code",
   "execution_count": null,
   "id": "d9cbe4af",
   "metadata": {},
   "outputs": [],
   "source": [
    "# # Guarda el df_final en un archivo CSV\n",
    "# df_final.to_csv('../../data/processed/data.csv', index=False)\n",
    "# print(f'DataFrame guardado exitosamente con {len(df_final):,} registros')\n",
    "# print(f'Archivo guardado en: ../../data/processed/df_final.csv')"
   ]
  },
  {
   "cell_type": "markdown",
   "id": "9ba72e11",
   "metadata": {},
   "source": [
    "## Análisis Visual de la Serie Temporal"
   ]
  },
  {
   "cell_type": "markdown",
   "id": "95ea0308",
   "metadata": {},
   "source": [
    "### Gráfico General de la Serie Temporal"
   ]
  },
  {
   "cell_type": "markdown",
   "id": "289bc441",
   "metadata": {},
   "source": [
    "#### Datos Completos"
   ]
  },
  {
   "cell_type": "code",
   "execution_count": 55,
   "id": "4d4d9e2b",
   "metadata": {},
   "outputs": [
    {
     "data": {
      "text/html": [
       "<div>\n",
       "<style scoped>\n",
       "    .dataframe tbody tr th:only-of-type {\n",
       "        vertical-align: middle;\n",
       "    }\n",
       "\n",
       "    .dataframe tbody tr th {\n",
       "        vertical-align: top;\n",
       "    }\n",
       "\n",
       "    .dataframe thead th {\n",
       "        text-align: right;\n",
       "    }\n",
       "</style>\n",
       "<table border=\"1\" class=\"dataframe\">\n",
       "  <thead>\n",
       "    <tr style=\"text-align: right;\">\n",
       "      <th></th>\n",
       "      <th>Fecha</th>\n",
       "      <th>Valor</th>\n",
       "      <th>Semana</th>\n",
       "    </tr>\n",
       "  </thead>\n",
       "  <tbody>\n",
       "    <tr>\n",
       "      <th>0</th>\n",
       "      <td>2014-01-06</td>\n",
       "      <td>146.0</td>\n",
       "      <td>2</td>\n",
       "    </tr>\n",
       "    <tr>\n",
       "      <th>1</th>\n",
       "      <td>2014-01-13</td>\n",
       "      <td>923.0</td>\n",
       "      <td>3</td>\n",
       "    </tr>\n",
       "    <tr>\n",
       "      <th>2</th>\n",
       "      <td>2014-01-20</td>\n",
       "      <td>2033.0</td>\n",
       "      <td>4</td>\n",
       "    </tr>\n",
       "    <tr>\n",
       "      <th>3</th>\n",
       "      <td>2014-01-27</td>\n",
       "      <td>3218.0</td>\n",
       "      <td>5</td>\n",
       "    </tr>\n",
       "    <tr>\n",
       "      <th>4</th>\n",
       "      <td>2014-02-03</td>\n",
       "      <td>4664.0</td>\n",
       "      <td>6</td>\n",
       "    </tr>\n",
       "  </tbody>\n",
       "</table>\n",
       "</div>"
      ],
      "text/plain": [
       "       Fecha   Valor  Semana\n",
       "0 2014-01-06   146.0       2\n",
       "1 2014-01-13   923.0       3\n",
       "2 2014-01-20  2033.0       4\n",
       "3 2014-01-27  3218.0       5\n",
       "4 2014-02-03  4664.0       6"
      ]
     },
     "metadata": {},
     "output_type": "display_data"
    }
   ],
   "source": [
    "filtro_general = (df_final['Estado']=='TOTAL') \\\n",
    "          & ((df_final['Ax_003']=='H') | (df_final['Ax_003']=='M'))\n",
    "df_general = df_final[filtro_general]\n",
    "df_acumulado = df_general.groupby('Fecha')['Valor'].sum().reset_index()\n",
    "df_acumulado['Semana'] = df_acumulado[\"Fecha\"].dt.isocalendar().week\n",
    "display(df_acumulado.head())"
   ]
  },
  {
   "cell_type": "code",
   "execution_count": 59,
   "id": "fbe7777a",
   "metadata": {},
   "outputs": [
    {
     "data": {
      "text/html": [
       "<div>\n",
       "<style scoped>\n",
       "    .dataframe tbody tr th:only-of-type {\n",
       "        vertical-align: middle;\n",
       "    }\n",
       "\n",
       "    .dataframe tbody tr th {\n",
       "        vertical-align: top;\n",
       "    }\n",
       "\n",
       "    .dataframe thead th {\n",
       "        text-align: right;\n",
       "    }\n",
       "</style>\n",
       "<table border=\"1\" class=\"dataframe\">\n",
       "  <thead>\n",
       "    <tr style=\"text-align: right;\">\n",
       "      <th></th>\n",
       "      <th>Fecha</th>\n",
       "      <th>Valor</th>\n",
       "      <th>Semana</th>\n",
       "    </tr>\n",
       "  </thead>\n",
       "  <tbody>\n",
       "    <tr>\n",
       "      <th>0</th>\n",
       "      <td>2014-01-06</td>\n",
       "      <td>146</td>\n",
       "      <td>2</td>\n",
       "    </tr>\n",
       "    <tr>\n",
       "      <th>1</th>\n",
       "      <td>2014-01-13</td>\n",
       "      <td>923</td>\n",
       "      <td>3</td>\n",
       "    </tr>\n",
       "    <tr>\n",
       "      <th>2</th>\n",
       "      <td>2014-01-20</td>\n",
       "      <td>2033</td>\n",
       "      <td>4</td>\n",
       "    </tr>\n",
       "    <tr>\n",
       "      <th>3</th>\n",
       "      <td>2014-01-27</td>\n",
       "      <td>3218</td>\n",
       "      <td>5</td>\n",
       "    </tr>\n",
       "    <tr>\n",
       "      <th>4</th>\n",
       "      <td>2014-02-03</td>\n",
       "      <td>4664</td>\n",
       "      <td>6</td>\n",
       "    </tr>\n",
       "  </tbody>\n",
       "</table>\n",
       "</div>"
      ],
      "text/plain": [
       "       Fecha  Valor  Semana\n",
       "0 2014-01-06    146       2\n",
       "1 2014-01-13    923       3\n",
       "2 2014-01-20   2033       4\n",
       "3 2014-01-27   3218       5\n",
       "4 2014-02-03   4664       6"
      ]
     },
     "metadata": {},
     "output_type": "display_data"
    }
   ],
   "source": [
    "filtro_base = (df['Estado']=='TOTAL') \\\n",
    "          & ((df['Ax_003']=='H') | (df['Ax_003']=='M'))\n",
    "df_general_base = df[filtro_base]\n",
    "df_acumulado_base =df_general_base.groupby('Fecha')['Valor'].sum().reset_index()\n",
    "df_acumulado_base['Semana'] = df_acumulado_base['Fecha'].dt.isocalendar().week\n",
    "display(df_acumulado_base.head())"
   ]
  },
  {
   "cell_type": "code",
   "execution_count": null,
   "id": "6bf43724",
   "metadata": {},
   "outputs": [
    {
     "data": {
      "application/vnd.plotly.v1+json": {
       "config": {
        "plotlyServerURL": "https://plot.ly"
       },
       "data": [
        {
         "customdata": {
          "bdata": "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",
          "dtype": "u4",
          "shape": "573, 1"
         },
         "hovertemplate": "Fecha=%{x}<br>Valor=%{y}<br>Semana=%{customdata[0]}<extra></extra>",
         "legendgroup": "",
         "line": {
          "color": "#636efa",
          "dash": "solid"
         },
         "marker": {
          "size": 4,
          "symbol": "circle"
         },
         "mode": "lines+markers",
         "name": "",
         "orientation": "v",
         "showlegend": false,
         "type": "scatter",
         "x": [
          "2014-01-06T00:00:00",
          "2014-01-13T00:00:00",
          "2014-01-20T00:00:00",
          "2014-01-27T00:00:00",
          "2014-02-03T00:00:00",
          "2014-02-10T00:00:00",
          "2014-02-17T00:00:00",
          "2014-02-24T00:00:00",
          "2014-03-03T00:00:00",
          "2014-03-10T00:00:00",
          "2014-03-17T00:00:00",
          "2014-03-24T00:00:00",
          "2014-03-31T00:00:00",
          "2014-04-07T00:00:00",
          "2014-04-14T00:00:00",
          "2014-04-21T00:00:00",
          "2014-04-28T00:00:00",
          "2014-05-05T00:00:00",
          "2014-05-12T00:00:00",
          "2014-05-19T00:00:00",
          "2014-05-26T00:00:00",
          "2014-06-02T00:00:00",
          "2014-06-09T00:00:00",
          "2014-06-16T00:00:00",
          "2014-06-23T00:00:00",
          "2014-06-30T00:00:00",
          "2014-07-07T00:00:00",
          "2014-07-14T00:00:00",
          "2014-07-21T00:00:00",
          "2014-07-28T00:00:00",
          "2014-08-04T00:00:00",
          "2014-08-11T00:00:00",
          "2014-08-18T00:00:00",
          "2014-08-25T00:00:00",
          "2014-09-01T00:00:00",
          "2014-09-08T00:00:00",
          "2014-09-15T00:00:00",
          "2014-09-22T00:00:00",
          "2014-09-29T00:00:00",
          "2014-10-06T00:00:00",
          "2014-10-13T00:00:00",
          "2014-10-20T00:00:00",
          "2014-10-27T00:00:00",
          "2014-11-03T00:00:00",
          "2014-11-10T00:00:00",
          "2014-11-17T00:00:00",
          "2014-11-24T00:00:00",
          "2014-12-01T00:00:00",
          "2014-12-08T00:00:00",
          "2014-12-15T00:00:00",
          "2014-12-22T00:00:00",
          "2014-12-29T00:00:00",
          "2015-01-05T00:00:00",
          "2015-01-12T00:00:00",
          "2015-01-19T00:00:00",
          "2015-01-26T00:00:00",
          "2015-02-02T00:00:00",
          "2015-02-09T00:00:00",
          "2015-02-16T00:00:00",
          "2015-02-23T00:00:00",
          "2015-03-02T00:00:00",
          "2015-03-09T00:00:00",
          "2015-03-16T00:00:00",
          "2015-03-23T00:00:00",
          "2015-03-30T00:00:00",
          "2015-04-06T00:00:00",
          "2015-04-13T00:00:00",
          "2015-04-20T00:00:00",
          "2015-04-27T00:00:00",
          "2015-05-04T00:00:00",
          "2015-05-11T00:00:00",
          "2015-05-18T00:00:00",
          "2015-05-25T00:00:00",
          "2015-06-01T00:00:00",
          "2015-06-08T00:00:00",
          "2015-06-15T00:00:00",
          "2015-06-22T00:00:00",
          "2015-06-29T00:00:00",
          "2015-07-06T00:00:00",
          "2015-07-13T00:00:00",
          "2015-07-20T00:00:00",
          "2015-07-27T00:00:00",
          "2015-08-03T00:00:00",
          "2015-08-10T00:00:00",
          "2015-08-17T00:00:00",
          "2015-08-24T00:00:00",
          "2015-08-31T00:00:00",
          "2015-09-07T00:00:00",
          "2015-09-14T00:00:00",
          "2015-09-21T00:00:00",
          "2015-09-28T00:00:00",
          "2015-10-05T00:00:00",
          "2015-10-12T00:00:00",
          "2015-10-19T00:00:00",
          "2015-10-26T00:00:00",
          "2015-11-02T00:00:00",
          "2015-11-09T00:00:00",
          "2015-11-16T00:00:00",
          "2015-11-23T00:00:00",
          "2015-11-30T00:00:00",
          "2015-12-07T00:00:00",
          "2015-12-14T00:00:00",
          "2015-12-21T00:00:00",
          "2015-12-28T00:00:00",
          "2016-01-04T00:00:00",
          "2016-01-11T00:00:00",
          "2016-01-18T00:00:00",
          "2016-01-25T00:00:00",
          "2016-02-01T00:00:00",
          "2016-02-08T00:00:00",
          "2016-02-15T00:00:00",
          "2016-02-22T00:00:00",
          "2016-02-29T00:00:00",
          "2016-03-07T00:00:00",
          "2016-03-14T00:00:00",
          "2016-03-21T00:00:00",
          "2016-03-28T00:00:00",
          "2016-04-04T00:00:00",
          "2016-04-11T00:00:00",
          "2016-04-18T00:00:00",
          "2016-04-25T00:00:00",
          "2016-05-02T00:00:00",
          "2016-05-09T00:00:00",
          "2016-05-16T00:00:00",
          "2016-05-23T00:00:00",
          "2016-05-30T00:00:00",
          "2016-06-06T00:00:00",
          "2016-06-13T00:00:00",
          "2016-06-20T00:00:00",
          "2016-06-27T00:00:00",
          "2016-07-04T00:00:00",
          "2016-07-11T00:00:00",
          "2016-07-18T00:00:00",
          "2016-07-25T00:00:00",
          "2016-08-01T00:00:00",
          "2016-08-08T00:00:00",
          "2016-08-15T00:00:00",
          "2016-08-22T00:00:00",
          "2016-08-29T00:00:00",
          "2016-09-05T00:00:00",
          "2016-09-12T00:00:00",
          "2016-09-19T00:00:00",
          "2016-09-26T00:00:00",
          "2016-10-03T00:00:00",
          "2016-10-10T00:00:00",
          "2016-10-17T00:00:00",
          "2016-10-24T00:00:00",
          "2016-10-31T00:00:00",
          "2016-11-07T00:00:00",
          "2016-11-14T00:00:00",
          "2016-11-21T00:00:00",
          "2016-11-28T00:00:00",
          "2016-12-05T00:00:00",
          "2016-12-12T00:00:00",
          "2016-12-19T00:00:00",
          "2016-12-26T00:00:00",
          "2017-01-02T00:00:00",
          "2017-01-09T00:00:00",
          "2017-01-16T00:00:00",
          "2017-01-23T00:00:00",
          "2017-01-30T00:00:00",
          "2017-02-06T00:00:00",
          "2017-02-13T00:00:00",
          "2017-02-20T00:00:00",
          "2017-02-27T00:00:00",
          "2017-03-06T00:00:00",
          "2017-03-13T00:00:00",
          "2017-03-20T00:00:00",
          "2017-03-27T00:00:00",
          "2017-04-03T00:00:00",
          "2017-04-10T00:00:00",
          "2017-04-17T00:00:00",
          "2017-04-24T00:00:00",
          "2017-05-01T00:00:00",
          "2017-05-08T00:00:00",
          "2017-05-15T00:00:00",
          "2017-05-22T00:00:00",
          "2017-05-29T00:00:00",
          "2017-06-05T00:00:00",
          "2017-06-12T00:00:00",
          "2017-06-19T00:00:00",
          "2017-06-26T00:00:00",
          "2017-07-03T00:00:00",
          "2017-07-10T00:00:00",
          "2017-07-17T00:00:00",
          "2017-07-24T00:00:00",
          "2017-07-31T00:00:00",
          "2017-08-07T00:00:00",
          "2017-08-14T00:00:00",
          "2017-08-21T00:00:00",
          "2017-08-28T00:00:00",
          "2017-09-04T00:00:00",
          "2017-09-11T00:00:00",
          "2017-09-18T00:00:00",
          "2017-09-25T00:00:00",
          "2017-10-02T00:00:00",
          "2017-10-09T00:00:00",
          "2017-10-16T00:00:00",
          "2017-10-23T00:00:00",
          "2017-10-30T00:00:00",
          "2017-11-06T00:00:00",
          "2017-11-13T00:00:00",
          "2017-11-20T00:00:00",
          "2017-11-27T00:00:00",
          "2017-12-04T00:00:00",
          "2017-12-11T00:00:00",
          "2017-12-18T00:00:00",
          "2017-12-25T00:00:00",
          "2018-01-01T00:00:00",
          "2018-01-08T00:00:00",
          "2018-01-15T00:00:00",
          "2018-01-22T00:00:00",
          "2018-01-29T00:00:00",
          "2018-02-05T00:00:00",
          "2018-02-12T00:00:00",
          "2018-02-19T00:00:00",
          "2018-02-26T00:00:00",
          "2018-03-05T00:00:00",
          "2018-03-12T00:00:00",
          "2018-03-19T00:00:00",
          "2018-03-26T00:00:00",
          "2018-04-02T00:00:00",
          "2018-04-09T00:00:00",
          "2018-04-16T00:00:00",
          "2018-04-23T00:00:00",
          "2018-04-30T00:00:00",
          "2018-05-07T00:00:00",
          "2018-05-14T00:00:00",
          "2018-05-21T00:00:00",
          "2018-05-28T00:00:00",
          "2018-06-04T00:00:00",
          "2018-06-11T00:00:00",
          "2018-06-18T00:00:00",
          "2018-06-25T00:00:00",
          "2018-07-02T00:00:00",
          "2018-07-09T00:00:00",
          "2018-07-16T00:00:00",
          "2018-07-23T00:00:00",
          "2018-07-30T00:00:00",
          "2018-08-06T00:00:00",
          "2018-08-13T00:00:00",
          "2018-08-20T00:00:00",
          "2018-08-27T00:00:00",
          "2018-09-03T00:00:00",
          "2018-09-10T00:00:00",
          "2018-09-17T00:00:00",
          "2018-09-24T00:00:00",
          "2018-10-01T00:00:00",
          "2018-10-08T00:00:00",
          "2018-10-15T00:00:00",
          "2018-10-22T00:00:00",
          "2018-10-29T00:00:00",
          "2018-11-05T00:00:00",
          "2018-11-12T00:00:00",
          "2018-11-19T00:00:00",
          "2018-11-26T00:00:00",
          "2018-12-03T00:00:00",
          "2018-12-10T00:00:00",
          "2018-12-17T00:00:00",
          "2018-12-24T00:00:00",
          "2018-12-31T00:00:00",
          "2019-01-07T00:00:00",
          "2019-01-14T00:00:00",
          "2019-01-21T00:00:00",
          "2019-01-28T00:00:00",
          "2019-02-04T00:00:00",
          "2019-02-11T00:00:00",
          "2019-02-18T00:00:00",
          "2019-02-25T00:00:00",
          "2019-03-04T00:00:00",
          "2019-03-11T00:00:00",
          "2019-03-18T00:00:00",
          "2019-03-25T00:00:00",
          "2019-04-01T00:00:00",
          "2019-04-08T00:00:00",
          "2019-04-15T00:00:00",
          "2019-04-22T00:00:00",
          "2019-04-29T00:00:00",
          "2019-05-06T00:00:00",
          "2019-05-13T00:00:00",
          "2019-05-20T00:00:00",
          "2019-05-27T00:00:00",
          "2019-06-03T00:00:00",
          "2019-06-10T00:00:00",
          "2019-06-17T00:00:00",
          "2019-06-24T00:00:00",
          "2019-07-01T00:00:00",
          "2019-07-08T00:00:00",
          "2019-07-15T00:00:00",
          "2019-07-22T00:00:00",
          "2019-07-29T00:00:00",
          "2019-08-05T00:00:00",
          "2019-08-12T00:00:00",
          "2019-08-19T00:00:00",
          "2019-08-26T00:00:00",
          "2019-09-02T00:00:00",
          "2019-09-09T00:00:00",
          "2019-09-16T00:00:00",
          "2019-09-23T00:00:00",
          "2019-09-30T00:00:00",
          "2019-10-07T00:00:00",
          "2019-10-14T00:00:00",
          "2019-10-21T00:00:00",
          "2019-10-28T00:00:00",
          "2019-11-04T00:00:00",
          "2019-11-11T00:00:00",
          "2019-11-18T00:00:00",
          "2019-11-25T00:00:00",
          "2019-12-02T00:00:00",
          "2019-12-09T00:00:00",
          "2019-12-16T00:00:00",
          "2019-12-23T00:00:00",
          "2019-12-30T00:00:00",
          "2020-01-06T00:00:00",
          "2020-01-13T00:00:00",
          "2020-01-20T00:00:00",
          "2020-01-27T00:00:00",
          "2020-02-03T00:00:00",
          "2020-02-10T00:00:00",
          "2020-02-17T00:00:00",
          "2020-02-24T00:00:00",
          "2020-03-02T00:00:00",
          "2020-03-09T00:00:00",
          "2020-03-16T00:00:00",
          "2020-03-23T00:00:00",
          "2020-03-30T00:00:00",
          "2020-04-06T00:00:00",
          "2020-04-13T00:00:00",
          "2020-04-20T00:00:00",
          "2020-04-27T00:00:00",
          "2020-05-04T00:00:00",
          "2020-05-11T00:00:00",
          "2020-05-18T00:00:00",
          "2020-05-25T00:00:00",
          "2020-06-01T00:00:00",
          "2020-06-08T00:00:00",
          "2020-06-15T00:00:00",
          "2020-06-22T00:00:00",
          "2020-06-29T00:00:00",
          "2020-07-06T00:00:00",
          "2020-07-13T00:00:00",
          "2020-07-20T00:00:00",
          "2020-07-27T00:00:00",
          "2020-08-03T00:00:00",
          "2020-08-10T00:00:00",
          "2020-08-17T00:00:00",
          "2020-08-24T00:00:00",
          "2020-08-31T00:00:00",
          "2020-09-07T00:00:00",
          "2020-09-14T00:00:00",
          "2020-09-21T00:00:00",
          "2020-09-28T00:00:00",
          "2020-10-05T00:00:00",
          "2020-10-12T00:00:00",
          "2020-10-19T00:00:00",
          "2020-10-26T00:00:00",
          "2020-11-02T00:00:00",
          "2020-11-09T00:00:00",
          "2020-11-16T00:00:00",
          "2020-11-23T00:00:00",
          "2020-11-30T00:00:00",
          "2020-12-07T00:00:00",
          "2020-12-14T00:00:00",
          "2020-12-21T00:00:00",
          "2020-12-28T00:00:00",
          "2021-01-04T00:00:00",
          "2021-01-11T00:00:00",
          "2021-01-18T00:00:00",
          "2021-01-25T00:00:00",
          "2021-02-01T00:00:00",
          "2021-02-08T00:00:00",
          "2021-02-15T00:00:00",
          "2021-02-22T00:00:00",
          "2021-03-01T00:00:00",
          "2021-03-08T00:00:00",
          "2021-03-15T00:00:00",
          "2021-03-22T00:00:00",
          "2021-03-29T00:00:00",
          "2021-04-05T00:00:00",
          "2021-04-12T00:00:00",
          "2021-04-19T00:00:00",
          "2021-04-26T00:00:00",
          "2021-05-03T00:00:00",
          "2021-05-10T00:00:00",
          "2021-05-17T00:00:00",
          "2021-05-24T00:00:00",
          "2021-05-31T00:00:00",
          "2021-06-07T00:00:00",
          "2021-06-14T00:00:00",
          "2021-06-21T00:00:00",
          "2021-06-28T00:00:00",
          "2021-07-05T00:00:00",
          "2021-07-12T00:00:00",
          "2021-07-19T00:00:00",
          "2021-07-26T00:00:00",
          "2021-08-02T00:00:00",
          "2021-08-09T00:00:00",
          "2021-08-16T00:00:00",
          "2021-08-23T00:00:00",
          "2021-08-30T00:00:00",
          "2021-09-06T00:00:00",
          "2021-09-13T00:00:00",
          "2021-09-20T00:00:00",
          "2021-09-27T00:00:00",
          "2021-10-04T00:00:00",
          "2021-10-11T00:00:00",
          "2021-10-18T00:00:00",
          "2021-10-25T00:00:00",
          "2021-11-01T00:00:00",
          "2021-11-08T00:00:00",
          "2021-11-15T00:00:00",
          "2021-11-22T00:00:00",
          "2021-11-29T00:00:00",
          "2021-12-06T00:00:00",
          "2021-12-13T00:00:00",
          "2021-12-20T00:00:00",
          "2021-12-27T00:00:00",
          "2022-01-03T00:00:00",
          "2022-01-10T00:00:00",
          "2022-01-17T00:00:00",
          "2022-01-24T00:00:00",
          "2022-01-31T00:00:00",
          "2022-02-07T00:00:00",
          "2022-02-14T00:00:00",
          "2022-02-21T00:00:00",
          "2022-02-28T00:00:00",
          "2022-03-07T00:00:00",
          "2022-03-14T00:00:00",
          "2022-03-21T00:00:00",
          "2022-03-28T00:00:00",
          "2022-04-04T00:00:00",
          "2022-04-11T00:00:00",
          "2022-04-18T00:00:00",
          "2022-04-25T00:00:00",
          "2022-05-02T00:00:00",
          "2022-05-09T00:00:00",
          "2022-05-16T00:00:00",
          "2022-05-23T00:00:00",
          "2022-05-30T00:00:00",
          "2022-06-06T00:00:00",
          "2022-06-13T00:00:00",
          "2022-06-20T00:00:00",
          "2022-06-27T00:00:00",
          "2022-07-04T00:00:00",
          "2022-07-11T00:00:00",
          "2022-07-18T00:00:00",
          "2022-07-25T00:00:00",
          "2022-08-01T00:00:00",
          "2022-08-08T00:00:00",
          "2022-08-15T00:00:00",
          "2022-08-22T00:00:00",
          "2022-08-29T00:00:00",
          "2022-09-05T00:00:00",
          "2022-09-12T00:00:00",
          "2022-09-19T00:00:00",
          "2022-09-26T00:00:00",
          "2022-10-03T00:00:00",
          "2022-10-10T00:00:00",
          "2022-10-17T00:00:00",
          "2022-10-24T00:00:00",
          "2022-10-31T00:00:00",
          "2022-11-07T00:00:00",
          "2022-11-14T00:00:00",
          "2022-11-21T00:00:00",
          "2022-11-28T00:00:00",
          "2022-12-05T00:00:00",
          "2022-12-12T00:00:00",
          "2022-12-19T00:00:00",
          "2022-12-26T00:00:00",
          "2023-01-02T00:00:00",
          "2023-01-09T00:00:00",
          "2023-01-16T00:00:00",
          "2023-01-23T00:00:00",
          "2023-01-30T00:00:00",
          "2023-02-06T00:00:00",
          "2023-02-13T00:00:00",
          "2023-02-20T00:00:00",
          "2023-02-27T00:00:00",
          "2023-03-06T00:00:00",
          "2023-03-13T00:00:00",
          "2023-03-20T00:00:00",
          "2023-03-27T00:00:00",
          "2023-04-03T00:00:00",
          "2023-04-10T00:00:00",
          "2023-04-17T00:00:00",
          "2023-04-24T00:00:00",
          "2023-05-01T00:00:00",
          "2023-05-08T00:00:00",
          "2023-05-15T00:00:00",
          "2023-05-22T00:00:00",
          "2023-05-29T00:00:00",
          "2023-06-05T00:00:00",
          "2023-06-12T00:00:00",
          "2023-06-19T00:00:00",
          "2023-06-26T00:00:00",
          "2023-07-03T00:00:00",
          "2023-07-10T00:00:00",
          "2023-07-17T00:00:00",
          "2023-07-24T00:00:00",
          "2023-07-31T00:00:00",
          "2023-08-07T00:00:00",
          "2023-08-14T00:00:00",
          "2023-08-21T00:00:00",
          "2023-08-28T00:00:00",
          "2023-09-04T00:00:00",
          "2023-09-11T00:00:00",
          "2023-09-18T00:00:00",
          "2023-09-25T00:00:00",
          "2023-10-02T00:00:00",
          "2023-10-09T00:00:00",
          "2023-10-16T00:00:00",
          "2023-10-23T00:00:00",
          "2023-10-30T00:00:00",
          "2023-11-06T00:00:00",
          "2023-11-13T00:00:00",
          "2023-11-20T00:00:00",
          "2023-11-27T00:00:00",
          "2023-12-04T00:00:00",
          "2023-12-11T00:00:00",
          "2023-12-18T00:00:00",
          "2023-12-25T00:00:00",
          "2024-01-01T00:00:00",
          "2024-01-08T00:00:00",
          "2024-01-15T00:00:00",
          "2024-01-22T00:00:00",
          "2024-01-29T00:00:00",
          "2024-02-05T00:00:00",
          "2024-02-12T00:00:00",
          "2024-02-19T00:00:00",
          "2024-02-26T00:00:00",
          "2024-03-04T00:00:00",
          "2024-03-11T00:00:00",
          "2024-03-18T00:00:00",
          "2024-03-25T00:00:00",
          "2024-04-01T00:00:00",
          "2024-04-08T00:00:00",
          "2024-04-15T00:00:00",
          "2024-04-22T00:00:00",
          "2024-04-29T00:00:00",
          "2024-05-06T00:00:00",
          "2024-05-13T00:00:00",
          "2024-05-20T00:00:00",
          "2024-05-27T00:00:00",
          "2024-06-03T00:00:00",
          "2024-06-10T00:00:00",
          "2024-06-17T00:00:00",
          "2024-06-24T00:00:00",
          "2024-07-01T00:00:00",
          "2024-07-08T00:00:00",
          "2024-07-15T00:00:00",
          "2024-07-22T00:00:00",
          "2024-07-29T00:00:00",
          "2024-08-05T00:00:00",
          "2024-08-12T00:00:00",
          "2024-08-19T00:00:00",
          "2024-08-26T00:00:00",
          "2024-09-02T00:00:00",
          "2024-09-09T00:00:00",
          "2024-09-16T00:00:00",
          "2024-09-23T00:00:00",
          "2024-09-30T00:00:00",
          "2024-10-07T00:00:00",
          "2024-10-14T00:00:00",
          "2024-10-21T00:00:00",
          "2024-10-28T00:00:00",
          "2024-11-04T00:00:00",
          "2024-11-11T00:00:00",
          "2024-11-18T00:00:00",
          "2024-11-25T00:00:00",
          "2024-12-02T00:00:00",
          "2024-12-09T00:00:00",
          "2024-12-16T00:00:00",
          "2024-12-23T00:00:00"
         ],
         "xaxis": "x",
         "y": {
          "bdata": "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",
          "dtype": "f8"
         },
         "yaxis": "y"
        }
       ],
       "layout": {
        "legend": {
         "tracegroupgap": 0
        },
        "template": {
         "data": {
          "bar": [
           {
            "error_x": {
             "color": "#2a3f5f"
            },
            "error_y": {
             "color": "#2a3f5f"
            },
            "marker": {
             "line": {
              "color": "#E5ECF6",
              "width": 0.5
             },
             "pattern": {
              "fillmode": "overlay",
              "size": 10,
              "solidity": 0.2
             }
            },
            "type": "bar"
           }
          ],
          "barpolar": [
           {
            "marker": {
             "line": {
              "color": "#E5ECF6",
              "width": 0.5
             },
             "pattern": {
              "fillmode": "overlay",
              "size": 10,
              "solidity": 0.2
             }
            },
            "type": "barpolar"
           }
          ],
          "carpet": [
           {
            "aaxis": {
             "endlinecolor": "#2a3f5f",
             "gridcolor": "white",
             "linecolor": "white",
             "minorgridcolor": "white",
             "startlinecolor": "#2a3f5f"
            },
            "baxis": {
             "endlinecolor": "#2a3f5f",
             "gridcolor": "white",
             "linecolor": "white",
             "minorgridcolor": "white",
             "startlinecolor": "#2a3f5f"
            },
            "type": "carpet"
           }
          ],
          "choropleth": [
           {
            "colorbar": {
             "outlinewidth": 0,
             "ticks": ""
            },
            "type": "choropleth"
           }
          ],
          "contour": [
           {
            "colorbar": {
             "outlinewidth": 0,
             "ticks": ""
            },
            "colorscale": [
             [
              0,
              "#0d0887"
             ],
             [
              0.1111111111111111,
              "#46039f"
             ],
             [
              0.2222222222222222,
              "#7201a8"
             ],
             [
              0.3333333333333333,
              "#9c179e"
             ],
             [
              0.4444444444444444,
              "#bd3786"
             ],
             [
              0.5555555555555556,
              "#d8576b"
             ],
             [
              0.6666666666666666,
              "#ed7953"
             ],
             [
              0.7777777777777778,
              "#fb9f3a"
             ],
             [
              0.8888888888888888,
              "#fdca26"
             ],
             [
              1,
              "#f0f921"
             ]
            ],
            "type": "contour"
           }
          ],
          "contourcarpet": [
           {
            "colorbar": {
             "outlinewidth": 0,
             "ticks": ""
            },
            "type": "contourcarpet"
           }
          ],
          "heatmap": [
           {
            "colorbar": {
             "outlinewidth": 0,
             "ticks": ""
            },
            "colorscale": [
             [
              0,
              "#0d0887"
             ],
             [
              0.1111111111111111,
              "#46039f"
             ],
             [
              0.2222222222222222,
              "#7201a8"
             ],
             [
              0.3333333333333333,
              "#9c179e"
             ],
             [
              0.4444444444444444,
              "#bd3786"
             ],
             [
              0.5555555555555556,
              "#d8576b"
             ],
             [
              0.6666666666666666,
              "#ed7953"
             ],
             [
              0.7777777777777778,
              "#fb9f3a"
             ],
             [
              0.8888888888888888,
              "#fdca26"
             ],
             [
              1,
              "#f0f921"
             ]
            ],
            "type": "heatmap"
           }
          ],
          "histogram": [
           {
            "marker": {
             "pattern": {
              "fillmode": "overlay",
              "size": 10,
              "solidity": 0.2
             }
            },
            "type": "histogram"
           }
          ],
          "histogram2d": [
           {
            "colorbar": {
             "outlinewidth": 0,
             "ticks": ""
            },
            "colorscale": [
             [
              0,
              "#0d0887"
             ],
             [
              0.1111111111111111,
              "#46039f"
             ],
             [
              0.2222222222222222,
              "#7201a8"
             ],
             [
              0.3333333333333333,
              "#9c179e"
             ],
             [
              0.4444444444444444,
              "#bd3786"
             ],
             [
              0.5555555555555556,
              "#d8576b"
             ],
             [
              0.6666666666666666,
              "#ed7953"
             ],
             [
              0.7777777777777778,
              "#fb9f3a"
             ],
             [
              0.8888888888888888,
              "#fdca26"
             ],
             [
              1,
              "#f0f921"
             ]
            ],
            "type": "histogram2d"
           }
          ],
          "histogram2dcontour": [
           {
            "colorbar": {
             "outlinewidth": 0,
             "ticks": ""
            },
            "colorscale": [
             [
              0,
              "#0d0887"
             ],
             [
              0.1111111111111111,
              "#46039f"
             ],
             [
              0.2222222222222222,
              "#7201a8"
             ],
             [
              0.3333333333333333,
              "#9c179e"
             ],
             [
              0.4444444444444444,
              "#bd3786"
             ],
             [
              0.5555555555555556,
              "#d8576b"
             ],
             [
              0.6666666666666666,
              "#ed7953"
             ],
             [
              0.7777777777777778,
              "#fb9f3a"
             ],
             [
              0.8888888888888888,
              "#fdca26"
             ],
             [
              1,
              "#f0f921"
             ]
            ],
            "type": "histogram2dcontour"
           }
          ],
          "mesh3d": [
           {
            "colorbar": {
             "outlinewidth": 0,
             "ticks": ""
            },
            "type": "mesh3d"
           }
          ],
          "parcoords": [
           {
            "line": {
             "colorbar": {
              "outlinewidth": 0,
              "ticks": ""
             }
            },
            "type": "parcoords"
           }
          ],
          "pie": [
           {
            "automargin": true,
            "type": "pie"
           }
          ],
          "scatter": [
           {
            "fillpattern": {
             "fillmode": "overlay",
             "size": 10,
             "solidity": 0.2
            },
            "type": "scatter"
           }
          ],
          "scatter3d": [
           {
            "line": {
             "colorbar": {
              "outlinewidth": 0,
              "ticks": ""
             }
            },
            "marker": {
             "colorbar": {
              "outlinewidth": 0,
              "ticks": ""
             }
            },
            "type": "scatter3d"
           }
          ],
          "scattercarpet": [
           {
            "marker": {
             "colorbar": {
              "outlinewidth": 0,
              "ticks": ""
             }
            },
            "type": "scattercarpet"
           }
          ],
          "scattergeo": [
           {
            "marker": {
             "colorbar": {
              "outlinewidth": 0,
              "ticks": ""
             }
            },
            "type": "scattergeo"
           }
          ],
          "scattergl": [
           {
            "marker": {
             "colorbar": {
              "outlinewidth": 0,
              "ticks": ""
             }
            },
            "type": "scattergl"
           }
          ],
          "scattermap": [
           {
            "marker": {
             "colorbar": {
              "outlinewidth": 0,
              "ticks": ""
             }
            },
            "type": "scattermap"
           }
          ],
          "scattermapbox": [
           {
            "marker": {
             "colorbar": {
              "outlinewidth": 0,
              "ticks": ""
             }
            },
            "type": "scattermapbox"
           }
          ],
          "scatterpolar": [
           {
            "marker": {
             "colorbar": {
              "outlinewidth": 0,
              "ticks": ""
             }
            },
            "type": "scatterpolar"
           }
          ],
          "scatterpolargl": [
           {
            "marker": {
             "colorbar": {
              "outlinewidth": 0,
              "ticks": ""
             }
            },
            "type": "scatterpolargl"
           }
          ],
          "scatterternary": [
           {
            "marker": {
             "colorbar": {
              "outlinewidth": 0,
              "ticks": ""
             }
            },
            "type": "scatterternary"
           }
          ],
          "surface": [
           {
            "colorbar": {
             "outlinewidth": 0,
             "ticks": ""
            },
            "colorscale": [
             [
              0,
              "#0d0887"
             ],
             [
              0.1111111111111111,
              "#46039f"
             ],
             [
              0.2222222222222222,
              "#7201a8"
             ],
             [
              0.3333333333333333,
              "#9c179e"
             ],
             [
              0.4444444444444444,
              "#bd3786"
             ],
             [
              0.5555555555555556,
              "#d8576b"
             ],
             [
              0.6666666666666666,
              "#ed7953"
             ],
             [
              0.7777777777777778,
              "#fb9f3a"
             ],
             [
              0.8888888888888888,
              "#fdca26"
             ],
             [
              1,
              "#f0f921"
             ]
            ],
            "type": "surface"
           }
          ],
          "table": [
           {
            "cells": {
             "fill": {
              "color": "#EBF0F8"
             },
             "line": {
              "color": "white"
             }
            },
            "header": {
             "fill": {
              "color": "#C8D4E3"
             },
             "line": {
              "color": "white"
             }
            },
            "type": "table"
           }
          ]
         },
         "layout": {
          "annotationdefaults": {
           "arrowcolor": "#2a3f5f",
           "arrowhead": 0,
           "arrowwidth": 1
          },
          "autotypenumbers": "strict",
          "coloraxis": {
           "colorbar": {
            "outlinewidth": 0,
            "ticks": ""
           }
          },
          "colorscale": {
           "diverging": [
            [
             0,
             "#8e0152"
            ],
            [
             0.1,
             "#c51b7d"
            ],
            [
             0.2,
             "#de77ae"
            ],
            [
             0.3,
             "#f1b6da"
            ],
            [
             0.4,
             "#fde0ef"
            ],
            [
             0.5,
             "#f7f7f7"
            ],
            [
             0.6,
             "#e6f5d0"
            ],
            [
             0.7,
             "#b8e186"
            ],
            [
             0.8,
             "#7fbc41"
            ],
            [
             0.9,
             "#4d9221"
            ],
            [
             1,
             "#276419"
            ]
           ],
           "sequential": [
            [
             0,
             "#0d0887"
            ],
            [
             0.1111111111111111,
             "#46039f"
            ],
            [
             0.2222222222222222,
             "#7201a8"
            ],
            [
             0.3333333333333333,
             "#9c179e"
            ],
            [
             0.4444444444444444,
             "#bd3786"
            ],
            [
             0.5555555555555556,
             "#d8576b"
            ],
            [
             0.6666666666666666,
             "#ed7953"
            ],
            [
             0.7777777777777778,
             "#fb9f3a"
            ],
            [
             0.8888888888888888,
             "#fdca26"
            ],
            [
             1,
             "#f0f921"
            ]
           ],
           "sequentialminus": [
            [
             0,
             "#0d0887"
            ],
            [
             0.1111111111111111,
             "#46039f"
            ],
            [
             0.2222222222222222,
             "#7201a8"
            ],
            [
             0.3333333333333333,
             "#9c179e"
            ],
            [
             0.4444444444444444,
             "#bd3786"
            ],
            [
             0.5555555555555556,
             "#d8576b"
            ],
            [
             0.6666666666666666,
             "#ed7953"
            ],
            [
             0.7777777777777778,
             "#fb9f3a"
            ],
            [
             0.8888888888888888,
             "#fdca26"
            ],
            [
             1,
             "#f0f921"
            ]
           ]
          },
          "colorway": [
           "#636efa",
           "#EF553B",
           "#00cc96",
           "#ab63fa",
           "#FFA15A",
           "#19d3f3",
           "#FF6692",
           "#B6E880",
           "#FF97FF",
           "#FECB52"
          ],
          "font": {
           "color": "#2a3f5f"
          },
          "geo": {
           "bgcolor": "white",
           "lakecolor": "white",
           "landcolor": "#E5ECF6",
           "showlakes": true,
           "showland": true,
           "subunitcolor": "white"
          },
          "hoverlabel": {
           "align": "left"
          },
          "hovermode": "closest",
          "mapbox": {
           "style": "light"
          },
          "paper_bgcolor": "white",
          "plot_bgcolor": "#E5ECF6",
          "polar": {
           "angularaxis": {
            "gridcolor": "white",
            "linecolor": "white",
            "ticks": ""
           },
           "bgcolor": "#E5ECF6",
           "radialaxis": {
            "gridcolor": "white",
            "linecolor": "white",
            "ticks": ""
           }
          },
          "scene": {
           "xaxis": {
            "backgroundcolor": "#E5ECF6",
            "gridcolor": "white",
            "gridwidth": 2,
            "linecolor": "white",
            "showbackground": true,
            "ticks": "",
            "zerolinecolor": "white"
           },
           "yaxis": {
            "backgroundcolor": "#E5ECF6",
            "gridcolor": "white",
            "gridwidth": 2,
            "linecolor": "white",
            "showbackground": true,
            "ticks": "",
            "zerolinecolor": "white"
           },
           "zaxis": {
            "backgroundcolor": "#E5ECF6",
            "gridcolor": "white",
            "gridwidth": 2,
            "linecolor": "white",
            "showbackground": true,
            "ticks": "",
            "zerolinecolor": "white"
           }
          },
          "shapedefaults": {
           "line": {
            "color": "#2a3f5f"
           }
          },
          "ternary": {
           "aaxis": {
            "gridcolor": "white",
            "linecolor": "white",
            "ticks": ""
           },
           "baxis": {
            "gridcolor": "white",
            "linecolor": "white",
            "ticks": ""
           },
           "bgcolor": "#E5ECF6",
           "caxis": {
            "gridcolor": "white",
            "linecolor": "white",
            "ticks": ""
           }
          },
          "title": {
           "x": 0.05
          },
          "xaxis": {
           "automargin": true,
           "gridcolor": "white",
           "linecolor": "white",
           "ticks": "",
           "title": {
            "standoff": 15
           },
           "zerolinecolor": "white",
           "zerolinewidth": 2
          },
          "yaxis": {
           "automargin": true,
           "gridcolor": "white",
           "linecolor": "white",
           "ticks": "",
           "title": {
            "standoff": 15
           },
           "zerolinecolor": "white",
           "zerolinewidth": 2
          }
         }
        },
        "title": {
         "text": "Serie de tiempo General (df_final vs df)"
        },
        "xaxis": {
         "anchor": "y",
         "domain": [
          0,
          1
         ],
         "title": {
          "text": "Fecha"
         }
        },
        "yaxis": {
         "anchor": "x",
         "domain": [
          0,
          1
         ],
         "title": {
          "text": "Valor"
         }
        }
       }
      }
     },
     "metadata": {},
     "output_type": "display_data"
    }
   ],
   "source": [
    "# fig = px.scatter(tmp, x='Fecha', y='Valor',title=f\"Serie de tiempo General (df_final vs df)\", \n",
    "fig = px.line(df_acumulado, x='Fecha', y='Valor',title=f\"Serie de tiempo General (df_final)\", \n",
    "              hover_data={'Semana': True, 'Fecha': True},\n",
    "              markers=True,\n",
    "            )\n",
    "# Ajustar el tamaño de los marcadores\n",
    "fig.update_traces(marker=dict(size=4))\n",
    "# # fig.update_layout(height=800)\n",
    "fig.show()"
   ]
  },
  {
   "cell_type": "markdown",
   "id": "33b40407",
   "metadata": {},
   "source": [
    "#### Datos Base"
   ]
  },
  {
   "cell_type": "code",
   "execution_count": 227,
   "id": "5c516082",
   "metadata": {},
   "outputs": [
    {
     "data": {
      "application/vnd.plotly.v1+json": {
       "config": {
        "plotlyServerURL": "https://plot.ly"
       },
       "data": [
        {
         "customdata": {
          "bdata": "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",
          "dtype": "u4"
         },
         "hovertemplate": "<b>Fecha</b>: %{x}<br><b>Valor Acumulado</b>: %{y}<br><b>Semana</b>: %{customdata}<br><extra></extra>",
         "marker": {
          "size": 4
         },
         "mode": "lines+markers",
         "name": "Datos con Fechas Completas",
         "type": "scatter",
         "x": [
          "2014-01-06T00:00:00",
          "2014-01-13T00:00:00",
          "2014-01-20T00:00:00",
          "2014-01-27T00:00:00",
          "2014-02-03T00:00:00",
          "2014-02-10T00:00:00",
          "2014-02-17T00:00:00",
          "2014-02-24T00:00:00",
          "2014-03-03T00:00:00",
          "2014-03-10T00:00:00",
          "2014-03-17T00:00:00",
          "2014-03-24T00:00:00",
          "2014-03-31T00:00:00",
          "2014-04-07T00:00:00",
          "2014-04-14T00:00:00",
          "2014-04-21T00:00:00",
          "2014-04-28T00:00:00",
          "2014-05-05T00:00:00",
          "2014-05-12T00:00:00",
          "2014-05-19T00:00:00",
          "2014-05-26T00:00:00",
          "2014-06-02T00:00:00",
          "2014-06-09T00:00:00",
          "2014-06-16T00:00:00",
          "2014-06-23T00:00:00",
          "2014-06-30T00:00:00",
          "2014-07-07T00:00:00",
          "2014-07-14T00:00:00",
          "2014-07-21T00:00:00",
          "2014-07-28T00:00:00",
          "2014-08-04T00:00:00",
          "2014-08-11T00:00:00",
          "2014-08-18T00:00:00",
          "2014-08-25T00:00:00",
          "2014-09-01T00:00:00",
          "2014-09-08T00:00:00",
          "2014-09-15T00:00:00",
          "2014-09-22T00:00:00",
          "2014-09-29T00:00:00",
          "2014-10-06T00:00:00",
          "2014-10-13T00:00:00",
          "2014-10-20T00:00:00",
          "2014-10-27T00:00:00",
          "2014-11-03T00:00:00",
          "2014-11-10T00:00:00",
          "2014-11-17T00:00:00",
          "2014-11-24T00:00:00",
          "2014-12-01T00:00:00",
          "2014-12-08T00:00:00",
          "2014-12-15T00:00:00",
          "2014-12-22T00:00:00",
          "2014-12-29T00:00:00",
          "2015-01-05T00:00:00",
          "2015-01-12T00:00:00",
          "2015-01-19T00:00:00",
          "2015-01-26T00:00:00",
          "2015-02-02T00:00:00",
          "2015-02-09T00:00:00",
          "2015-02-16T00:00:00",
          "2015-02-23T00:00:00",
          "2015-03-02T00:00:00",
          "2015-03-09T00:00:00",
          "2015-03-16T00:00:00",
          "2015-03-23T00:00:00",
          "2015-03-30T00:00:00",
          "2015-04-06T00:00:00",
          "2015-04-13T00:00:00",
          "2015-04-20T00:00:00",
          "2015-04-27T00:00:00",
          "2015-05-04T00:00:00",
          "2015-05-11T00:00:00",
          "2015-05-18T00:00:00",
          "2015-05-25T00:00:00",
          "2015-06-01T00:00:00",
          "2015-06-08T00:00:00",
          "2015-06-15T00:00:00",
          "2015-06-22T00:00:00",
          "2015-06-29T00:00:00",
          "2015-07-06T00:00:00",
          "2015-07-13T00:00:00",
          "2015-07-20T00:00:00",
          "2015-07-27T00:00:00",
          "2015-08-03T00:00:00",
          "2015-08-10T00:00:00",
          "2015-08-17T00:00:00",
          "2015-08-24T00:00:00",
          "2015-08-31T00:00:00",
          "2015-09-07T00:00:00",
          "2015-09-14T00:00:00",
          "2015-09-21T00:00:00",
          "2015-09-28T00:00:00",
          "2015-10-05T00:00:00",
          "2015-10-12T00:00:00",
          "2015-10-19T00:00:00",
          "2015-10-26T00:00:00",
          "2015-11-02T00:00:00",
          "2015-11-09T00:00:00",
          "2015-11-16T00:00:00",
          "2015-11-23T00:00:00",
          "2015-11-30T00:00:00",
          "2015-12-07T00:00:00",
          "2015-12-14T00:00:00",
          "2015-12-21T00:00:00",
          "2015-12-28T00:00:00",
          "2016-01-04T00:00:00",
          "2016-01-11T00:00:00",
          "2016-01-18T00:00:00",
          "2016-01-25T00:00:00",
          "2016-02-01T00:00:00",
          "2016-02-08T00:00:00",
          "2016-02-15T00:00:00",
          "2016-02-22T00:00:00",
          "2016-02-29T00:00:00",
          "2016-03-07T00:00:00",
          "2016-03-14T00:00:00",
          "2016-03-21T00:00:00",
          "2016-03-28T00:00:00",
          "2016-04-04T00:00:00",
          "2016-04-11T00:00:00",
          "2016-04-18T00:00:00",
          "2016-04-25T00:00:00",
          "2016-05-02T00:00:00",
          "2016-05-09T00:00:00",
          "2016-05-16T00:00:00",
          "2016-05-23T00:00:00",
          "2016-05-30T00:00:00",
          "2016-06-06T00:00:00",
          "2016-06-13T00:00:00",
          "2016-06-20T00:00:00",
          "2016-06-27T00:00:00",
          "2016-07-04T00:00:00",
          "2016-07-11T00:00:00",
          "2016-07-18T00:00:00",
          "2016-07-25T00:00:00",
          "2016-08-01T00:00:00",
          "2016-08-08T00:00:00",
          "2016-08-15T00:00:00",
          "2016-08-22T00:00:00",
          "2016-08-29T00:00:00",
          "2016-09-05T00:00:00",
          "2016-09-12T00:00:00",
          "2016-09-19T00:00:00",
          "2016-09-26T00:00:00",
          "2016-10-03T00:00:00",
          "2016-10-10T00:00:00",
          "2016-10-17T00:00:00",
          "2016-10-24T00:00:00",
          "2016-10-31T00:00:00",
          "2016-11-07T00:00:00",
          "2016-11-14T00:00:00",
          "2016-11-21T00:00:00",
          "2016-11-28T00:00:00",
          "2016-12-05T00:00:00",
          "2016-12-12T00:00:00",
          "2016-12-19T00:00:00",
          "2016-12-26T00:00:00",
          "2017-01-02T00:00:00",
          "2017-01-09T00:00:00",
          "2017-01-16T00:00:00",
          "2017-01-23T00:00:00",
          "2017-01-30T00:00:00",
          "2017-02-06T00:00:00",
          "2017-02-13T00:00:00",
          "2017-02-20T00:00:00",
          "2017-02-27T00:00:00",
          "2017-03-06T00:00:00",
          "2017-03-13T00:00:00",
          "2017-03-20T00:00:00",
          "2017-03-27T00:00:00",
          "2017-04-03T00:00:00",
          "2017-04-10T00:00:00",
          "2017-04-17T00:00:00",
          "2017-04-24T00:00:00",
          "2017-05-01T00:00:00",
          "2017-05-08T00:00:00",
          "2017-05-15T00:00:00",
          "2017-05-22T00:00:00",
          "2017-05-29T00:00:00",
          "2017-06-05T00:00:00",
          "2017-06-12T00:00:00",
          "2017-06-19T00:00:00",
          "2017-06-26T00:00:00",
          "2017-07-03T00:00:00",
          "2017-07-10T00:00:00",
          "2017-07-17T00:00:00",
          "2017-07-24T00:00:00",
          "2017-07-31T00:00:00",
          "2017-08-07T00:00:00",
          "2017-08-14T00:00:00",
          "2017-08-21T00:00:00",
          "2017-08-28T00:00:00",
          "2017-09-04T00:00:00",
          "2017-09-11T00:00:00",
          "2017-09-18T00:00:00",
          "2017-09-25T00:00:00",
          "2017-10-02T00:00:00",
          "2017-10-09T00:00:00",
          "2017-10-16T00:00:00",
          "2017-10-23T00:00:00",
          "2017-10-30T00:00:00",
          "2017-11-06T00:00:00",
          "2017-11-13T00:00:00",
          "2017-11-20T00:00:00",
          "2017-11-27T00:00:00",
          "2017-12-04T00:00:00",
          "2017-12-11T00:00:00",
          "2017-12-18T00:00:00",
          "2017-12-25T00:00:00",
          "2018-01-01T00:00:00",
          "2018-01-08T00:00:00",
          "2018-01-15T00:00:00",
          "2018-01-22T00:00:00",
          "2018-01-29T00:00:00",
          "2018-02-05T00:00:00",
          "2018-02-12T00:00:00",
          "2018-02-19T00:00:00",
          "2018-02-26T00:00:00",
          "2018-03-05T00:00:00",
          "2018-03-12T00:00:00",
          "2018-03-19T00:00:00",
          "2018-03-26T00:00:00",
          "2018-04-02T00:00:00",
          "2018-04-09T00:00:00",
          "2018-04-16T00:00:00",
          "2018-04-23T00:00:00",
          "2018-04-30T00:00:00",
          "2018-05-07T00:00:00",
          "2018-05-14T00:00:00",
          "2018-05-21T00:00:00",
          "2018-05-28T00:00:00",
          "2018-06-04T00:00:00",
          "2018-06-11T00:00:00",
          "2018-06-18T00:00:00",
          "2018-06-25T00:00:00",
          "2018-07-02T00:00:00",
          "2018-07-09T00:00:00",
          "2018-07-16T00:00:00",
          "2018-07-23T00:00:00",
          "2018-07-30T00:00:00",
          "2018-08-06T00:00:00",
          "2018-08-13T00:00:00",
          "2018-08-20T00:00:00",
          "2018-08-27T00:00:00",
          "2018-09-03T00:00:00",
          "2018-09-10T00:00:00",
          "2018-09-17T00:00:00",
          "2018-09-24T00:00:00",
          "2018-10-01T00:00:00",
          "2018-10-08T00:00:00",
          "2018-10-15T00:00:00",
          "2018-10-22T00:00:00",
          "2018-10-29T00:00:00",
          "2018-11-05T00:00:00",
          "2018-11-12T00:00:00",
          "2018-11-19T00:00:00",
          "2018-11-26T00:00:00",
          "2018-12-03T00:00:00",
          "2018-12-10T00:00:00",
          "2018-12-17T00:00:00",
          "2018-12-24T00:00:00",
          "2018-12-31T00:00:00",
          "2019-01-07T00:00:00",
          "2019-01-14T00:00:00",
          "2019-01-21T00:00:00",
          "2019-01-28T00:00:00",
          "2019-02-04T00:00:00",
          "2019-02-11T00:00:00",
          "2019-02-18T00:00:00",
          "2019-02-25T00:00:00",
          "2019-03-04T00:00:00",
          "2019-03-11T00:00:00",
          "2019-03-18T00:00:00",
          "2019-03-25T00:00:00",
          "2019-04-01T00:00:00",
          "2019-04-08T00:00:00",
          "2019-04-15T00:00:00",
          "2019-04-22T00:00:00",
          "2019-04-29T00:00:00",
          "2019-05-06T00:00:00",
          "2019-05-13T00:00:00",
          "2019-05-20T00:00:00",
          "2019-05-27T00:00:00",
          "2019-06-03T00:00:00",
          "2019-06-10T00:00:00",
          "2019-06-17T00:00:00",
          "2019-06-24T00:00:00",
          "2019-07-01T00:00:00",
          "2019-07-08T00:00:00",
          "2019-07-15T00:00:00",
          "2019-07-22T00:00:00",
          "2019-07-29T00:00:00",
          "2019-08-05T00:00:00",
          "2019-08-12T00:00:00",
          "2019-08-19T00:00:00",
          "2019-08-26T00:00:00",
          "2019-09-02T00:00:00",
          "2019-09-09T00:00:00",
          "2019-09-16T00:00:00",
          "2019-09-23T00:00:00",
          "2019-09-30T00:00:00",
          "2019-10-07T00:00:00",
          "2019-10-14T00:00:00",
          "2019-10-21T00:00:00",
          "2019-10-28T00:00:00",
          "2019-11-04T00:00:00",
          "2019-11-11T00:00:00",
          "2019-11-18T00:00:00",
          "2019-11-25T00:00:00",
          "2019-12-02T00:00:00",
          "2019-12-09T00:00:00",
          "2019-12-16T00:00:00",
          "2019-12-23T00:00:00",
          "2019-12-30T00:00:00",
          "2020-01-06T00:00:00",
          "2020-01-13T00:00:00",
          "2020-01-20T00:00:00",
          "2020-01-27T00:00:00",
          "2020-02-03T00:00:00",
          "2020-02-10T00:00:00",
          "2020-02-17T00:00:00",
          "2020-02-24T00:00:00",
          "2020-03-02T00:00:00",
          "2020-03-09T00:00:00",
          "2020-03-16T00:00:00",
          "2020-03-23T00:00:00",
          "2020-03-30T00:00:00",
          "2020-04-06T00:00:00",
          "2020-04-13T00:00:00",
          "2020-04-20T00:00:00",
          "2020-04-27T00:00:00",
          "2020-05-04T00:00:00",
          "2020-05-11T00:00:00",
          "2020-05-18T00:00:00",
          "2020-05-25T00:00:00",
          "2020-06-01T00:00:00",
          "2020-06-08T00:00:00",
          "2020-06-15T00:00:00",
          "2020-06-22T00:00:00",
          "2020-06-29T00:00:00",
          "2020-07-06T00:00:00",
          "2020-07-13T00:00:00",
          "2020-07-20T00:00:00",
          "2020-07-27T00:00:00",
          "2020-08-03T00:00:00",
          "2020-08-10T00:00:00",
          "2020-08-17T00:00:00",
          "2020-08-24T00:00:00",
          "2020-08-31T00:00:00",
          "2020-09-07T00:00:00",
          "2020-09-14T00:00:00",
          "2020-09-21T00:00:00",
          "2020-09-28T00:00:00",
          "2020-10-05T00:00:00",
          "2020-10-12T00:00:00",
          "2020-10-19T00:00:00",
          "2020-10-26T00:00:00",
          "2020-11-02T00:00:00",
          "2020-11-09T00:00:00",
          "2020-11-16T00:00:00",
          "2020-11-23T00:00:00",
          "2020-11-30T00:00:00",
          "2020-12-07T00:00:00",
          "2020-12-14T00:00:00",
          "2020-12-21T00:00:00",
          "2020-12-28T00:00:00",
          "2021-01-04T00:00:00",
          "2021-01-11T00:00:00",
          "2021-01-18T00:00:00",
          "2021-01-25T00:00:00",
          "2021-02-01T00:00:00",
          "2021-02-08T00:00:00",
          "2021-02-15T00:00:00",
          "2021-02-22T00:00:00",
          "2021-03-01T00:00:00",
          "2021-03-08T00:00:00",
          "2021-03-15T00:00:00",
          "2021-03-22T00:00:00",
          "2021-03-29T00:00:00",
          "2021-04-05T00:00:00",
          "2021-04-12T00:00:00",
          "2021-04-19T00:00:00",
          "2021-04-26T00:00:00",
          "2021-05-03T00:00:00",
          "2021-05-10T00:00:00",
          "2021-05-17T00:00:00",
          "2021-05-24T00:00:00",
          "2021-05-31T00:00:00",
          "2021-06-07T00:00:00",
          "2021-06-14T00:00:00",
          "2021-06-21T00:00:00",
          "2021-06-28T00:00:00",
          "2021-07-05T00:00:00",
          "2021-07-12T00:00:00",
          "2021-07-19T00:00:00",
          "2021-07-26T00:00:00",
          "2021-08-02T00:00:00",
          "2021-08-09T00:00:00",
          "2021-08-16T00:00:00",
          "2021-08-23T00:00:00",
          "2021-08-30T00:00:00",
          "2021-09-06T00:00:00",
          "2021-09-13T00:00:00",
          "2021-09-20T00:00:00",
          "2021-09-27T00:00:00",
          "2021-10-04T00:00:00",
          "2021-10-11T00:00:00",
          "2021-10-18T00:00:00",
          "2021-10-25T00:00:00",
          "2021-11-01T00:00:00",
          "2021-11-08T00:00:00",
          "2021-11-15T00:00:00",
          "2021-11-22T00:00:00",
          "2021-11-29T00:00:00",
          "2021-12-06T00:00:00",
          "2021-12-13T00:00:00",
          "2021-12-20T00:00:00",
          "2021-12-27T00:00:00",
          "2022-01-03T00:00:00",
          "2022-01-10T00:00:00",
          "2022-01-17T00:00:00",
          "2022-01-24T00:00:00",
          "2022-01-31T00:00:00",
          "2022-02-07T00:00:00",
          "2022-02-14T00:00:00",
          "2022-02-21T00:00:00",
          "2022-02-28T00:00:00",
          "2022-03-07T00:00:00",
          "2022-03-14T00:00:00",
          "2022-03-21T00:00:00",
          "2022-03-28T00:00:00",
          "2022-04-04T00:00:00",
          "2022-04-11T00:00:00",
          "2022-04-18T00:00:00",
          "2022-04-25T00:00:00",
          "2022-05-02T00:00:00",
          "2022-05-09T00:00:00",
          "2022-05-16T00:00:00",
          "2022-05-23T00:00:00",
          "2022-05-30T00:00:00",
          "2022-06-06T00:00:00",
          "2022-06-13T00:00:00",
          "2022-06-20T00:00:00",
          "2022-06-27T00:00:00",
          "2022-07-04T00:00:00",
          "2022-07-11T00:00:00",
          "2022-07-18T00:00:00",
          "2022-07-25T00:00:00",
          "2022-08-01T00:00:00",
          "2022-08-08T00:00:00",
          "2022-08-15T00:00:00",
          "2022-08-22T00:00:00",
          "2022-08-29T00:00:00",
          "2022-09-05T00:00:00",
          "2022-09-12T00:00:00",
          "2022-09-19T00:00:00",
          "2022-09-26T00:00:00",
          "2022-10-03T00:00:00",
          "2022-10-10T00:00:00",
          "2022-10-17T00:00:00",
          "2022-10-24T00:00:00",
          "2022-10-31T00:00:00",
          "2022-11-07T00:00:00",
          "2022-11-14T00:00:00",
          "2022-11-21T00:00:00",
          "2022-11-28T00:00:00",
          "2022-12-05T00:00:00",
          "2022-12-12T00:00:00",
          "2022-12-19T00:00:00",
          "2022-12-26T00:00:00",
          "2023-01-02T00:00:00",
          "2023-01-09T00:00:00",
          "2023-01-16T00:00:00",
          "2023-01-23T00:00:00",
          "2023-01-30T00:00:00",
          "2023-02-06T00:00:00",
          "2023-02-13T00:00:00",
          "2023-02-20T00:00:00",
          "2023-02-27T00:00:00",
          "2023-03-06T00:00:00",
          "2023-03-13T00:00:00",
          "2023-03-20T00:00:00",
          "2023-03-27T00:00:00",
          "2023-04-03T00:00:00",
          "2023-04-10T00:00:00",
          "2023-04-17T00:00:00",
          "2023-04-24T00:00:00",
          "2023-05-01T00:00:00",
          "2023-05-08T00:00:00",
          "2023-05-15T00:00:00",
          "2023-05-22T00:00:00",
          "2023-05-29T00:00:00",
          "2023-06-05T00:00:00",
          "2023-06-12T00:00:00",
          "2023-06-19T00:00:00",
          "2023-06-26T00:00:00",
          "2023-07-03T00:00:00",
          "2023-07-10T00:00:00",
          "2023-07-17T00:00:00",
          "2023-07-24T00:00:00",
          "2023-07-31T00:00:00",
          "2023-08-07T00:00:00",
          "2023-08-14T00:00:00",
          "2023-08-21T00:00:00",
          "2023-08-28T00:00:00",
          "2023-09-04T00:00:00",
          "2023-09-11T00:00:00",
          "2023-09-18T00:00:00",
          "2023-09-25T00:00:00",
          "2023-10-02T00:00:00",
          "2023-10-09T00:00:00",
          "2023-10-16T00:00:00",
          "2023-10-23T00:00:00",
          "2023-10-30T00:00:00",
          "2023-11-06T00:00:00",
          "2023-11-13T00:00:00",
          "2023-11-20T00:00:00",
          "2023-11-27T00:00:00",
          "2023-12-04T00:00:00",
          "2023-12-11T00:00:00",
          "2023-12-18T00:00:00",
          "2023-12-25T00:00:00",
          "2024-01-01T00:00:00",
          "2024-01-08T00:00:00",
          "2024-01-15T00:00:00",
          "2024-01-22T00:00:00",
          "2024-01-29T00:00:00",
          "2024-02-05T00:00:00",
          "2024-02-12T00:00:00",
          "2024-02-19T00:00:00",
          "2024-02-26T00:00:00",
          "2024-03-04T00:00:00",
          "2024-03-11T00:00:00",
          "2024-03-18T00:00:00",
          "2024-03-25T00:00:00",
          "2024-04-01T00:00:00",
          "2024-04-08T00:00:00",
          "2024-04-15T00:00:00",
          "2024-04-22T00:00:00",
          "2024-04-29T00:00:00",
          "2024-05-06T00:00:00",
          "2024-05-13T00:00:00",
          "2024-05-20T00:00:00",
          "2024-05-27T00:00:00",
          "2024-06-03T00:00:00",
          "2024-06-10T00:00:00",
          "2024-06-17T00:00:00",
          "2024-06-24T00:00:00",
          "2024-07-01T00:00:00",
          "2024-07-08T00:00:00",
          "2024-07-15T00:00:00",
          "2024-07-22T00:00:00",
          "2024-07-29T00:00:00",
          "2024-08-05T00:00:00",
          "2024-08-12T00:00:00",
          "2024-08-19T00:00:00",
          "2024-08-26T00:00:00",
          "2024-09-02T00:00:00",
          "2024-09-09T00:00:00",
          "2024-09-16T00:00:00",
          "2024-09-23T00:00:00",
          "2024-09-30T00:00:00",
          "2024-10-07T00:00:00",
          "2024-10-14T00:00:00",
          "2024-10-21T00:00:00",
          "2024-10-28T00:00:00",
          "2024-11-04T00:00:00",
          "2024-11-11T00:00:00",
          "2024-11-18T00:00:00",
          "2024-11-25T00:00:00",
          "2024-12-02T00:00:00",
          "2024-12-09T00:00:00",
          "2024-12-16T00:00:00",
          "2024-12-23T00:00:00"
         ],
         "y": {
          "bdata": "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",
          "dtype": "f8"
         }
        },
        {
         "customdata": {
          "bdata": "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",
          "dtype": "u4"
         },
         "hovertemplate": "<b>Fecha</b>: %{x}<br><b>Valor Acumulado</b>: %{y}<br><b>Semana</b>: %{customdata}<br><extra></extra>",
         "marker": {
          "size": 4
         },
         "mode": "markers",
         "name": "Datos base",
         "type": "scatter",
         "x": [
          "2014-01-06T00:00:00",
          "2014-01-13T00:00:00",
          "2014-01-20T00:00:00",
          "2014-01-27T00:00:00",
          "2014-02-03T00:00:00",
          "2014-02-10T00:00:00",
          "2014-02-17T00:00:00",
          "2014-02-24T00:00:00",
          "2014-03-03T00:00:00",
          "2014-03-10T00:00:00",
          "2014-03-17T00:00:00",
          "2014-03-24T00:00:00",
          "2014-03-31T00:00:00",
          "2014-04-07T00:00:00",
          "2014-04-14T00:00:00",
          "2014-04-21T00:00:00",
          "2014-04-28T00:00:00",
          "2014-05-05T00:00:00",
          "2014-05-12T00:00:00",
          "2014-05-19T00:00:00",
          "2014-05-26T00:00:00",
          "2014-06-02T00:00:00",
          "2014-06-09T00:00:00",
          "2014-06-16T00:00:00",
          "2014-06-23T00:00:00",
          "2014-06-30T00:00:00",
          "2014-07-07T00:00:00",
          "2014-07-14T00:00:00",
          "2014-07-21T00:00:00",
          "2014-07-28T00:00:00",
          "2014-08-04T00:00:00",
          "2014-08-11T00:00:00",
          "2014-08-18T00:00:00",
          "2014-08-25T00:00:00",
          "2014-09-01T00:00:00",
          "2014-09-08T00:00:00",
          "2014-09-15T00:00:00",
          "2014-09-22T00:00:00",
          "2014-09-29T00:00:00",
          "2014-10-06T00:00:00",
          "2014-10-13T00:00:00",
          "2014-10-20T00:00:00",
          "2014-10-27T00:00:00",
          "2014-11-03T00:00:00",
          "2014-11-10T00:00:00",
          "2014-11-17T00:00:00",
          "2014-11-24T00:00:00",
          "2014-12-01T00:00:00",
          "2014-12-08T00:00:00",
          "2014-12-15T00:00:00",
          "2014-12-22T00:00:00",
          "2014-12-29T00:00:00",
          "2015-01-05T00:00:00",
          "2015-01-12T00:00:00",
          "2015-01-19T00:00:00",
          "2015-01-26T00:00:00",
          "2015-02-02T00:00:00",
          "2015-02-09T00:00:00",
          "2015-02-16T00:00:00",
          "2015-02-23T00:00:00",
          "2015-03-02T00:00:00",
          "2015-03-09T00:00:00",
          "2015-03-16T00:00:00",
          "2015-03-23T00:00:00",
          "2015-03-30T00:00:00",
          "2015-04-06T00:00:00",
          "2015-04-13T00:00:00",
          "2015-04-20T00:00:00",
          "2015-04-27T00:00:00",
          "2015-05-04T00:00:00",
          "2015-05-11T00:00:00",
          "2015-05-18T00:00:00",
          "2015-05-25T00:00:00",
          "2015-06-01T00:00:00",
          "2015-06-08T00:00:00",
          "2015-06-15T00:00:00",
          "2015-06-22T00:00:00",
          "2015-06-29T00:00:00",
          "2015-07-06T00:00:00",
          "2015-07-13T00:00:00",
          "2015-07-20T00:00:00",
          "2015-07-27T00:00:00",
          "2015-08-03T00:00:00",
          "2015-08-10T00:00:00",
          "2015-08-17T00:00:00",
          "2015-08-24T00:00:00",
          "2015-08-31T00:00:00",
          "2015-09-07T00:00:00",
          "2015-09-14T00:00:00",
          "2015-09-21T00:00:00",
          "2015-09-28T00:00:00",
          "2015-10-05T00:00:00",
          "2015-10-12T00:00:00",
          "2015-10-19T00:00:00",
          "2015-10-26T00:00:00",
          "2015-11-02T00:00:00",
          "2015-11-09T00:00:00",
          "2015-11-16T00:00:00",
          "2015-11-23T00:00:00",
          "2015-11-30T00:00:00",
          "2015-12-07T00:00:00",
          "2015-12-14T00:00:00",
          "2015-12-21T00:00:00",
          "2016-01-04T00:00:00",
          "2016-01-11T00:00:00",
          "2016-01-18T00:00:00",
          "2016-01-25T00:00:00",
          "2016-02-01T00:00:00",
          "2016-02-08T00:00:00",
          "2016-02-15T00:00:00",
          "2016-02-22T00:00:00",
          "2016-02-29T00:00:00",
          "2016-03-07T00:00:00",
          "2016-03-14T00:00:00",
          "2016-03-21T00:00:00",
          "2016-03-28T00:00:00",
          "2016-04-04T00:00:00",
          "2016-04-11T00:00:00",
          "2016-04-18T00:00:00",
          "2016-04-25T00:00:00",
          "2016-05-02T00:00:00",
          "2016-05-09T00:00:00",
          "2016-05-16T00:00:00",
          "2016-05-23T00:00:00",
          "2016-05-30T00:00:00",
          "2016-06-06T00:00:00",
          "2016-06-13T00:00:00",
          "2016-06-20T00:00:00",
          "2016-06-27T00:00:00",
          "2016-07-04T00:00:00",
          "2016-07-11T00:00:00",
          "2016-07-18T00:00:00",
          "2016-07-25T00:00:00",
          "2016-08-01T00:00:00",
          "2016-08-08T00:00:00",
          "2016-08-15T00:00:00",
          "2016-08-22T00:00:00",
          "2016-08-29T00:00:00",
          "2016-09-05T00:00:00",
          "2016-09-12T00:00:00",
          "2016-09-19T00:00:00",
          "2016-09-26T00:00:00",
          "2016-10-03T00:00:00",
          "2016-10-10T00:00:00",
          "2016-10-17T00:00:00",
          "2016-10-24T00:00:00",
          "2016-10-31T00:00:00",
          "2016-11-07T00:00:00",
          "2016-11-14T00:00:00",
          "2016-11-21T00:00:00",
          "2016-11-28T00:00:00",
          "2016-12-05T00:00:00",
          "2016-12-12T00:00:00",
          "2016-12-19T00:00:00",
          "2016-12-26T00:00:00",
          "2017-01-02T00:00:00",
          "2017-01-09T00:00:00",
          "2017-01-16T00:00:00",
          "2017-01-23T00:00:00",
          "2017-01-30T00:00:00",
          "2017-02-06T00:00:00",
          "2017-02-13T00:00:00",
          "2017-02-20T00:00:00",
          "2017-02-27T00:00:00",
          "2017-03-06T00:00:00",
          "2017-03-13T00:00:00",
          "2017-03-20T00:00:00",
          "2017-03-27T00:00:00",
          "2017-04-03T00:00:00",
          "2017-04-10T00:00:00",
          "2017-04-17T00:00:00",
          "2017-04-24T00:00:00",
          "2017-05-01T00:00:00",
          "2017-05-08T00:00:00",
          "2017-05-15T00:00:00",
          "2017-05-22T00:00:00",
          "2017-05-29T00:00:00",
          "2017-06-05T00:00:00",
          "2017-06-12T00:00:00",
          "2017-06-19T00:00:00",
          "2017-06-26T00:00:00",
          "2017-07-03T00:00:00",
          "2017-07-10T00:00:00",
          "2017-07-17T00:00:00",
          "2017-07-24T00:00:00",
          "2017-07-31T00:00:00",
          "2017-08-07T00:00:00",
          "2017-08-14T00:00:00",
          "2017-08-21T00:00:00",
          "2017-08-28T00:00:00",
          "2017-09-04T00:00:00",
          "2017-09-11T00:00:00",
          "2017-09-18T00:00:00",
          "2017-09-25T00:00:00",
          "2017-10-02T00:00:00",
          "2017-10-09T00:00:00",
          "2017-10-16T00:00:00",
          "2017-10-23T00:00:00",
          "2017-10-30T00:00:00",
          "2017-11-06T00:00:00",
          "2017-11-13T00:00:00",
          "2017-11-20T00:00:00",
          "2017-11-27T00:00:00",
          "2017-12-04T00:00:00",
          "2017-12-11T00:00:00",
          "2017-12-18T00:00:00",
          "2017-12-25T00:00:00",
          "2018-01-01T00:00:00",
          "2018-01-08T00:00:00",
          "2018-01-15T00:00:00",
          "2018-01-22T00:00:00",
          "2018-01-29T00:00:00",
          "2018-02-05T00:00:00",
          "2018-02-12T00:00:00",
          "2018-02-19T00:00:00",
          "2018-02-26T00:00:00",
          "2018-03-05T00:00:00",
          "2018-03-12T00:00:00",
          "2018-03-19T00:00:00",
          "2018-03-26T00:00:00",
          "2018-04-02T00:00:00",
          "2018-04-09T00:00:00",
          "2018-04-16T00:00:00",
          "2018-04-23T00:00:00",
          "2018-04-30T00:00:00",
          "2018-05-07T00:00:00",
          "2018-05-14T00:00:00",
          "2018-05-21T00:00:00",
          "2018-05-28T00:00:00",
          "2018-06-04T00:00:00",
          "2018-06-11T00:00:00",
          "2018-06-18T00:00:00",
          "2018-06-25T00:00:00",
          "2018-07-02T00:00:00",
          "2018-07-09T00:00:00",
          "2018-07-16T00:00:00",
          "2018-07-23T00:00:00",
          "2018-07-30T00:00:00",
          "2018-08-06T00:00:00",
          "2018-08-13T00:00:00",
          "2018-08-20T00:00:00",
          "2018-08-27T00:00:00",
          "2018-09-03T00:00:00",
          "2018-09-10T00:00:00",
          "2018-09-17T00:00:00",
          "2018-09-24T00:00:00",
          "2018-10-01T00:00:00",
          "2018-10-08T00:00:00",
          "2018-10-15T00:00:00",
          "2018-10-22T00:00:00",
          "2018-10-29T00:00:00",
          "2018-11-05T00:00:00",
          "2018-11-12T00:00:00",
          "2018-11-19T00:00:00",
          "2018-11-26T00:00:00",
          "2018-12-03T00:00:00",
          "2018-12-10T00:00:00",
          "2018-12-17T00:00:00",
          "2018-12-24T00:00:00",
          "2018-12-31T00:00:00",
          "2019-01-07T00:00:00",
          "2019-01-14T00:00:00",
          "2019-01-21T00:00:00",
          "2019-01-28T00:00:00",
          "2019-02-04T00:00:00",
          "2019-02-11T00:00:00",
          "2019-02-18T00:00:00",
          "2019-02-25T00:00:00",
          "2019-03-04T00:00:00",
          "2019-03-11T00:00:00",
          "2019-03-18T00:00:00",
          "2019-03-25T00:00:00",
          "2019-04-01T00:00:00",
          "2019-04-08T00:00:00",
          "2019-04-15T00:00:00",
          "2019-04-22T00:00:00",
          "2019-04-29T00:00:00",
          "2019-05-06T00:00:00",
          "2019-05-13T00:00:00",
          "2019-05-20T00:00:00",
          "2019-05-27T00:00:00",
          "2019-06-03T00:00:00",
          "2019-06-10T00:00:00",
          "2019-06-17T00:00:00",
          "2019-06-24T00:00:00",
          "2019-07-01T00:00:00",
          "2019-07-08T00:00:00",
          "2019-07-15T00:00:00",
          "2019-07-22T00:00:00",
          "2019-07-29T00:00:00",
          "2019-08-05T00:00:00",
          "2019-08-12T00:00:00",
          "2019-08-19T00:00:00",
          "2019-08-26T00:00:00",
          "2019-09-02T00:00:00",
          "2019-09-09T00:00:00",
          "2019-09-16T00:00:00",
          "2019-09-23T00:00:00",
          "2019-09-30T00:00:00",
          "2019-10-07T00:00:00",
          "2019-10-14T00:00:00",
          "2019-10-21T00:00:00",
          "2019-10-28T00:00:00",
          "2019-11-04T00:00:00",
          "2019-11-11T00:00:00",
          "2019-11-18T00:00:00",
          "2019-11-25T00:00:00",
          "2019-12-02T00:00:00",
          "2019-12-09T00:00:00",
          "2019-12-16T00:00:00",
          "2019-12-23T00:00:00",
          "2019-12-30T00:00:00",
          "2020-01-06T00:00:00",
          "2020-01-13T00:00:00",
          "2020-01-20T00:00:00",
          "2020-01-27T00:00:00",
          "2020-02-03T00:00:00",
          "2020-02-10T00:00:00",
          "2020-02-17T00:00:00",
          "2020-02-24T00:00:00",
          "2020-03-02T00:00:00",
          "2020-03-09T00:00:00",
          "2020-03-16T00:00:00",
          "2020-03-23T00:00:00",
          "2020-03-30T00:00:00",
          "2020-04-06T00:00:00",
          "2020-04-13T00:00:00",
          "2020-04-20T00:00:00",
          "2020-04-27T00:00:00",
          "2020-05-04T00:00:00",
          "2020-05-11T00:00:00",
          "2020-05-18T00:00:00",
          "2020-05-25T00:00:00",
          "2020-06-01T00:00:00",
          "2020-06-08T00:00:00",
          "2020-06-15T00:00:00",
          "2020-06-22T00:00:00",
          "2020-06-29T00:00:00",
          "2020-07-06T00:00:00",
          "2020-07-13T00:00:00",
          "2020-07-20T00:00:00",
          "2020-07-27T00:00:00",
          "2020-08-03T00:00:00",
          "2020-08-10T00:00:00",
          "2020-08-17T00:00:00",
          "2020-08-24T00:00:00",
          "2020-08-31T00:00:00",
          "2020-09-07T00:00:00",
          "2020-09-14T00:00:00",
          "2020-09-21T00:00:00",
          "2020-09-28T00:00:00",
          "2020-10-05T00:00:00",
          "2020-10-12T00:00:00",
          "2020-10-19T00:00:00",
          "2020-10-26T00:00:00",
          "2020-11-02T00:00:00",
          "2020-11-09T00:00:00",
          "2020-11-16T00:00:00",
          "2020-11-23T00:00:00",
          "2020-11-30T00:00:00",
          "2020-12-07T00:00:00",
          "2020-12-14T00:00:00",
          "2020-12-21T00:00:00",
          "2020-12-28T00:00:00",
          "2021-01-04T00:00:00",
          "2021-01-11T00:00:00",
          "2021-01-18T00:00:00",
          "2021-01-25T00:00:00",
          "2021-02-01T00:00:00",
          "2021-02-08T00:00:00",
          "2021-02-15T00:00:00",
          "2021-02-22T00:00:00",
          "2021-03-01T00:00:00",
          "2021-03-08T00:00:00",
          "2021-03-15T00:00:00",
          "2021-03-22T00:00:00",
          "2021-03-29T00:00:00",
          "2021-04-05T00:00:00",
          "2021-04-12T00:00:00",
          "2021-04-19T00:00:00",
          "2021-04-26T00:00:00",
          "2021-05-03T00:00:00",
          "2021-05-10T00:00:00",
          "2021-05-17T00:00:00",
          "2021-05-24T00:00:00",
          "2021-05-31T00:00:00",
          "2021-06-07T00:00:00",
          "2021-06-14T00:00:00",
          "2021-06-21T00:00:00",
          "2021-06-28T00:00:00",
          "2021-07-05T00:00:00",
          "2021-07-12T00:00:00",
          "2021-07-19T00:00:00",
          "2021-07-26T00:00:00",
          "2021-08-02T00:00:00",
          "2021-08-09T00:00:00",
          "2021-08-16T00:00:00",
          "2021-08-23T00:00:00",
          "2021-08-30T00:00:00",
          "2021-09-06T00:00:00",
          "2021-09-13T00:00:00",
          "2021-09-20T00:00:00",
          "2021-09-27T00:00:00",
          "2021-10-04T00:00:00",
          "2021-10-11T00:00:00",
          "2021-10-18T00:00:00",
          "2021-10-25T00:00:00",
          "2021-11-01T00:00:00",
          "2021-11-08T00:00:00",
          "2021-11-15T00:00:00",
          "2021-11-22T00:00:00",
          "2021-11-29T00:00:00",
          "2021-12-06T00:00:00",
          "2021-12-13T00:00:00",
          "2021-12-20T00:00:00",
          "2021-12-27T00:00:00",
          "2022-01-03T00:00:00",
          "2022-01-10T00:00:00",
          "2022-01-17T00:00:00",
          "2022-01-24T00:00:00",
          "2022-01-31T00:00:00",
          "2022-02-07T00:00:00",
          "2022-02-14T00:00:00",
          "2022-02-21T00:00:00",
          "2022-02-28T00:00:00",
          "2022-03-07T00:00:00",
          "2022-03-14T00:00:00",
          "2022-03-21T00:00:00",
          "2022-03-28T00:00:00",
          "2022-04-04T00:00:00",
          "2022-04-11T00:00:00",
          "2022-04-18T00:00:00",
          "2022-04-25T00:00:00",
          "2022-05-02T00:00:00",
          "2022-05-09T00:00:00",
          "2022-05-16T00:00:00",
          "2022-05-23T00:00:00",
          "2022-05-30T00:00:00",
          "2022-06-06T00:00:00",
          "2022-06-13T00:00:00",
          "2022-06-20T00:00:00",
          "2022-06-27T00:00:00",
          "2022-07-04T00:00:00",
          "2022-07-11T00:00:00",
          "2022-07-18T00:00:00",
          "2022-07-25T00:00:00",
          "2022-08-01T00:00:00",
          "2022-08-08T00:00:00",
          "2022-08-15T00:00:00",
          "2022-08-22T00:00:00",
          "2022-08-29T00:00:00",
          "2022-09-05T00:00:00",
          "2022-09-12T00:00:00",
          "2022-09-19T00:00:00",
          "2022-09-26T00:00:00",
          "2022-10-03T00:00:00",
          "2022-10-10T00:00:00",
          "2022-10-17T00:00:00",
          "2022-10-24T00:00:00",
          "2022-10-31T00:00:00",
          "2022-11-07T00:00:00",
          "2022-11-14T00:00:00",
          "2022-11-21T00:00:00",
          "2022-11-28T00:00:00",
          "2022-12-05T00:00:00",
          "2022-12-12T00:00:00",
          "2022-12-19T00:00:00",
          "2022-12-26T00:00:00",
          "2023-01-02T00:00:00",
          "2023-01-09T00:00:00",
          "2023-01-16T00:00:00",
          "2023-01-23T00:00:00",
          "2023-01-30T00:00:00",
          "2023-02-06T00:00:00",
          "2023-02-13T00:00:00",
          "2023-02-20T00:00:00",
          "2023-02-27T00:00:00",
          "2023-03-06T00:00:00",
          "2023-03-13T00:00:00",
          "2023-03-20T00:00:00",
          "2023-03-27T00:00:00",
          "2023-04-03T00:00:00",
          "2023-04-10T00:00:00",
          "2023-04-17T00:00:00",
          "2023-04-24T00:00:00",
          "2023-05-01T00:00:00",
          "2023-05-08T00:00:00",
          "2023-05-15T00:00:00",
          "2023-05-22T00:00:00",
          "2023-05-29T00:00:00",
          "2023-06-05T00:00:00",
          "2023-06-12T00:00:00",
          "2023-06-19T00:00:00",
          "2023-06-26T00:00:00",
          "2023-07-03T00:00:00",
          "2023-07-10T00:00:00",
          "2023-07-17T00:00:00",
          "2023-07-24T00:00:00",
          "2023-07-31T00:00:00",
          "2023-08-07T00:00:00",
          "2023-08-14T00:00:00",
          "2023-08-21T00:00:00",
          "2023-08-28T00:00:00",
          "2023-09-04T00:00:00",
          "2023-09-11T00:00:00",
          "2023-09-18T00:00:00",
          "2023-09-25T00:00:00",
          "2023-10-02T00:00:00",
          "2023-10-09T00:00:00",
          "2023-10-16T00:00:00",
          "2023-10-23T00:00:00",
          "2023-10-30T00:00:00",
          "2023-11-06T00:00:00",
          "2023-11-13T00:00:00",
          "2023-11-20T00:00:00",
          "2023-11-27T00:00:00",
          "2023-12-04T00:00:00",
          "2023-12-11T00:00:00",
          "2023-12-18T00:00:00",
          "2023-12-25T00:00:00",
          "2024-01-01T00:00:00",
          "2024-01-08T00:00:00",
          "2024-01-15T00:00:00",
          "2024-01-22T00:00:00",
          "2024-01-29T00:00:00",
          "2024-02-05T00:00:00",
          "2024-02-12T00:00:00",
          "2024-02-19T00:00:00",
          "2024-02-26T00:00:00",
          "2024-03-04T00:00:00",
          "2024-03-11T00:00:00",
          "2024-03-18T00:00:00",
          "2024-03-25T00:00:00",
          "2024-04-01T00:00:00",
          "2024-04-08T00:00:00",
          "2024-04-15T00:00:00",
          "2024-04-22T00:00:00",
          "2024-04-29T00:00:00",
          "2024-05-06T00:00:00",
          "2024-05-13T00:00:00",
          "2024-05-20T00:00:00",
          "2024-05-27T00:00:00",
          "2024-06-03T00:00:00",
          "2024-06-10T00:00:00",
          "2024-06-17T00:00:00",
          "2024-06-24T00:00:00",
          "2024-07-01T00:00:00",
          "2024-07-08T00:00:00",
          "2024-07-15T00:00:00",
          "2024-07-22T00:00:00",
          "2024-07-29T00:00:00",
          "2024-08-05T00:00:00",
          "2024-08-12T00:00:00",
          "2024-08-19T00:00:00",
          "2024-08-26T00:00:00",
          "2024-09-02T00:00:00",
          "2024-09-09T00:00:00",
          "2024-09-16T00:00:00",
          "2024-09-23T00:00:00",
          "2024-09-30T00:00:00",
          "2024-10-07T00:00:00",
          "2024-10-14T00:00:00",
          "2024-10-21T00:00:00",
          "2024-10-28T00:00:00",
          "2024-11-04T00:00:00",
          "2024-11-11T00:00:00",
          "2024-11-18T00:00:00",
          "2024-11-25T00:00:00",
          "2024-12-02T00:00:00",
          "2024-12-09T00:00:00",
          "2024-12-16T00:00:00",
          "2024-12-23T00:00:00"
         ],
         "y": {
          "bdata": "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",
          "dtype": "i4"
         }
        }
       ],
       "layout": {
        "template": {
         "data": {
          "bar": [
           {
            "error_x": {
             "color": "#2a3f5f"
            },
            "error_y": {
             "color": "#2a3f5f"
            },
            "marker": {
             "line": {
              "color": "#E5ECF6",
              "width": 0.5
             },
             "pattern": {
              "fillmode": "overlay",
              "size": 10,
              "solidity": 0.2
             }
            },
            "type": "bar"
           }
          ],
          "barpolar": [
           {
            "marker": {
             "line": {
              "color": "#E5ECF6",
              "width": 0.5
             },
             "pattern": {
              "fillmode": "overlay",
              "size": 10,
              "solidity": 0.2
             }
            },
            "type": "barpolar"
           }
          ],
          "carpet": [
           {
            "aaxis": {
             "endlinecolor": "#2a3f5f",
             "gridcolor": "white",
             "linecolor": "white",
             "minorgridcolor": "white",
             "startlinecolor": "#2a3f5f"
            },
            "baxis": {
             "endlinecolor": "#2a3f5f",
             "gridcolor": "white",
             "linecolor": "white",
             "minorgridcolor": "white",
             "startlinecolor": "#2a3f5f"
            },
            "type": "carpet"
           }
          ],
          "choropleth": [
           {
            "colorbar": {
             "outlinewidth": 0,
             "ticks": ""
            },
            "type": "choropleth"
           }
          ],
          "contour": [
           {
            "colorbar": {
             "outlinewidth": 0,
             "ticks": ""
            },
            "colorscale": [
             [
              0,
              "#0d0887"
             ],
             [
              0.1111111111111111,
              "#46039f"
             ],
             [
              0.2222222222222222,
              "#7201a8"
             ],
             [
              0.3333333333333333,
              "#9c179e"
             ],
             [
              0.4444444444444444,
              "#bd3786"
             ],
             [
              0.5555555555555556,
              "#d8576b"
             ],
             [
              0.6666666666666666,
              "#ed7953"
             ],
             [
              0.7777777777777778,
              "#fb9f3a"
             ],
             [
              0.8888888888888888,
              "#fdca26"
             ],
             [
              1,
              "#f0f921"
             ]
            ],
            "type": "contour"
           }
          ],
          "contourcarpet": [
           {
            "colorbar": {
             "outlinewidth": 0,
             "ticks": ""
            },
            "type": "contourcarpet"
           }
          ],
          "heatmap": [
           {
            "colorbar": {
             "outlinewidth": 0,
             "ticks": ""
            },
            "colorscale": [
             [
              0,
              "#0d0887"
             ],
             [
              0.1111111111111111,
              "#46039f"
             ],
             [
              0.2222222222222222,
              "#7201a8"
             ],
             [
              0.3333333333333333,
              "#9c179e"
             ],
             [
              0.4444444444444444,
              "#bd3786"
             ],
             [
              0.5555555555555556,
              "#d8576b"
             ],
             [
              0.6666666666666666,
              "#ed7953"
             ],
             [
              0.7777777777777778,
              "#fb9f3a"
             ],
             [
              0.8888888888888888,
              "#fdca26"
             ],
             [
              1,
              "#f0f921"
             ]
            ],
            "type": "heatmap"
           }
          ],
          "histogram": [
           {
            "marker": {
             "pattern": {
              "fillmode": "overlay",
              "size": 10,
              "solidity": 0.2
             }
            },
            "type": "histogram"
           }
          ],
          "histogram2d": [
           {
            "colorbar": {
             "outlinewidth": 0,
             "ticks": ""
            },
            "colorscale": [
             [
              0,
              "#0d0887"
             ],
             [
              0.1111111111111111,
              "#46039f"
             ],
             [
              0.2222222222222222,
              "#7201a8"
             ],
             [
              0.3333333333333333,
              "#9c179e"
             ],
             [
              0.4444444444444444,
              "#bd3786"
             ],
             [
              0.5555555555555556,
              "#d8576b"
             ],
             [
              0.6666666666666666,
              "#ed7953"
             ],
             [
              0.7777777777777778,
              "#fb9f3a"
             ],
             [
              0.8888888888888888,
              "#fdca26"
             ],
             [
              1,
              "#f0f921"
             ]
            ],
            "type": "histogram2d"
           }
          ],
          "histogram2dcontour": [
           {
            "colorbar": {
             "outlinewidth": 0,
             "ticks": ""
            },
            "colorscale": [
             [
              0,
              "#0d0887"
             ],
             [
              0.1111111111111111,
              "#46039f"
             ],
             [
              0.2222222222222222,
              "#7201a8"
             ],
             [
              0.3333333333333333,
              "#9c179e"
             ],
             [
              0.4444444444444444,
              "#bd3786"
             ],
             [
              0.5555555555555556,
              "#d8576b"
             ],
             [
              0.6666666666666666,
              "#ed7953"
             ],
             [
              0.7777777777777778,
              "#fb9f3a"
             ],
             [
              0.8888888888888888,
              "#fdca26"
             ],
             [
              1,
              "#f0f921"
             ]
            ],
            "type": "histogram2dcontour"
           }
          ],
          "mesh3d": [
           {
            "colorbar": {
             "outlinewidth": 0,
             "ticks": ""
            },
            "type": "mesh3d"
           }
          ],
          "parcoords": [
           {
            "line": {
             "colorbar": {
              "outlinewidth": 0,
              "ticks": ""
             }
            },
            "type": "parcoords"
           }
          ],
          "pie": [
           {
            "automargin": true,
            "type": "pie"
           }
          ],
          "scatter": [
           {
            "fillpattern": {
             "fillmode": "overlay",
             "size": 10,
             "solidity": 0.2
            },
            "type": "scatter"
           }
          ],
          "scatter3d": [
           {
            "line": {
             "colorbar": {
              "outlinewidth": 0,
              "ticks": ""
             }
            },
            "marker": {
             "colorbar": {
              "outlinewidth": 0,
              "ticks": ""
             }
            },
            "type": "scatter3d"
           }
          ],
          "scattercarpet": [
           {
            "marker": {
             "colorbar": {
              "outlinewidth": 0,
              "ticks": ""
             }
            },
            "type": "scattercarpet"
           }
          ],
          "scattergeo": [
           {
            "marker": {
             "colorbar": {
              "outlinewidth": 0,
              "ticks": ""
             }
            },
            "type": "scattergeo"
           }
          ],
          "scattergl": [
           {
            "marker": {
             "colorbar": {
              "outlinewidth": 0,
              "ticks": ""
             }
            },
            "type": "scattergl"
           }
          ],
          "scattermap": [
           {
            "marker": {
             "colorbar": {
              "outlinewidth": 0,
              "ticks": ""
             }
            },
            "type": "scattermap"
           }
          ],
          "scattermapbox": [
           {
            "marker": {
             "colorbar": {
              "outlinewidth": 0,
              "ticks": ""
             }
            },
            "type": "scattermapbox"
           }
          ],
          "scatterpolar": [
           {
            "marker": {
             "colorbar": {
              "outlinewidth": 0,
              "ticks": ""
             }
            },
            "type": "scatterpolar"
           }
          ],
          "scatterpolargl": [
           {
            "marker": {
             "colorbar": {
              "outlinewidth": 0,
              "ticks": ""
             }
            },
            "type": "scatterpolargl"
           }
          ],
          "scatterternary": [
           {
            "marker": {
             "colorbar": {
              "outlinewidth": 0,
              "ticks": ""
             }
            },
            "type": "scatterternary"
           }
          ],
          "surface": [
           {
            "colorbar": {
             "outlinewidth": 0,
             "ticks": ""
            },
            "colorscale": [
             [
              0,
              "#0d0887"
             ],
             [
              0.1111111111111111,
              "#46039f"
             ],
             [
              0.2222222222222222,
              "#7201a8"
             ],
             [
              0.3333333333333333,
              "#9c179e"
             ],
             [
              0.4444444444444444,
              "#bd3786"
             ],
             [
              0.5555555555555556,
              "#d8576b"
             ],
             [
              0.6666666666666666,
              "#ed7953"
             ],
             [
              0.7777777777777778,
              "#fb9f3a"
             ],
             [
              0.8888888888888888,
              "#fdca26"
             ],
             [
              1,
              "#f0f921"
             ]
            ],
            "type": "surface"
           }
          ],
          "table": [
           {
            "cells": {
             "fill": {
              "color": "#EBF0F8"
             },
             "line": {
              "color": "white"
             }
            },
            "header": {
             "fill": {
              "color": "#C8D4E3"
             },
             "line": {
              "color": "white"
             }
            },
            "type": "table"
           }
          ]
         },
         "layout": {
          "annotationdefaults": {
           "arrowcolor": "#2a3f5f",
           "arrowhead": 0,
           "arrowwidth": 1
          },
          "autotypenumbers": "strict",
          "coloraxis": {
           "colorbar": {
            "outlinewidth": 0,
            "ticks": ""
           }
          },
          "colorscale": {
           "diverging": [
            [
             0,
             "#8e0152"
            ],
            [
             0.1,
             "#c51b7d"
            ],
            [
             0.2,
             "#de77ae"
            ],
            [
             0.3,
             "#f1b6da"
            ],
            [
             0.4,
             "#fde0ef"
            ],
            [
             0.5,
             "#f7f7f7"
            ],
            [
             0.6,
             "#e6f5d0"
            ],
            [
             0.7,
             "#b8e186"
            ],
            [
             0.8,
             "#7fbc41"
            ],
            [
             0.9,
             "#4d9221"
            ],
            [
             1,
             "#276419"
            ]
           ],
           "sequential": [
            [
             0,
             "#0d0887"
            ],
            [
             0.1111111111111111,
             "#46039f"
            ],
            [
             0.2222222222222222,
             "#7201a8"
            ],
            [
             0.3333333333333333,
             "#9c179e"
            ],
            [
             0.4444444444444444,
             "#bd3786"
            ],
            [
             0.5555555555555556,
             "#d8576b"
            ],
            [
             0.6666666666666666,
             "#ed7953"
            ],
            [
             0.7777777777777778,
             "#fb9f3a"
            ],
            [
             0.8888888888888888,
             "#fdca26"
            ],
            [
             1,
             "#f0f921"
            ]
           ],
           "sequentialminus": [
            [
             0,
             "#0d0887"
            ],
            [
             0.1111111111111111,
             "#46039f"
            ],
            [
             0.2222222222222222,
             "#7201a8"
            ],
            [
             0.3333333333333333,
             "#9c179e"
            ],
            [
             0.4444444444444444,
             "#bd3786"
            ],
            [
             0.5555555555555556,
             "#d8576b"
            ],
            [
             0.6666666666666666,
             "#ed7953"
            ],
            [
             0.7777777777777778,
             "#fb9f3a"
            ],
            [
             0.8888888888888888,
             "#fdca26"
            ],
            [
             1,
             "#f0f921"
            ]
           ]
          },
          "colorway": [
           "#636efa",
           "#EF553B",
           "#00cc96",
           "#ab63fa",
           "#FFA15A",
           "#19d3f3",
           "#FF6692",
           "#B6E880",
           "#FF97FF",
           "#FECB52"
          ],
          "font": {
           "color": "#2a3f5f"
          },
          "geo": {
           "bgcolor": "white",
           "lakecolor": "white",
           "landcolor": "#E5ECF6",
           "showlakes": true,
           "showland": true,
           "subunitcolor": "white"
          },
          "hoverlabel": {
           "align": "left"
          },
          "hovermode": "closest",
          "mapbox": {
           "style": "light"
          },
          "paper_bgcolor": "white",
          "plot_bgcolor": "#E5ECF6",
          "polar": {
           "angularaxis": {
            "gridcolor": "white",
            "linecolor": "white",
            "ticks": ""
           },
           "bgcolor": "#E5ECF6",
           "radialaxis": {
            "gridcolor": "white",
            "linecolor": "white",
            "ticks": ""
           }
          },
          "scene": {
           "xaxis": {
            "backgroundcolor": "#E5ECF6",
            "gridcolor": "white",
            "gridwidth": 2,
            "linecolor": "white",
            "showbackground": true,
            "ticks": "",
            "zerolinecolor": "white"
           },
           "yaxis": {
            "backgroundcolor": "#E5ECF6",
            "gridcolor": "white",
            "gridwidth": 2,
            "linecolor": "white",
            "showbackground": true,
            "ticks": "",
            "zerolinecolor": "white"
           },
           "zaxis": {
            "backgroundcolor": "#E5ECF6",
            "gridcolor": "white",
            "gridwidth": 2,
            "linecolor": "white",
            "showbackground": true,
            "ticks": "",
            "zerolinecolor": "white"
           }
          },
          "shapedefaults": {
           "line": {
            "color": "#2a3f5f"
           }
          },
          "ternary": {
           "aaxis": {
            "gridcolor": "white",
            "linecolor": "white",
            "ticks": ""
           },
           "baxis": {
            "gridcolor": "white",
            "linecolor": "white",
            "ticks": ""
           },
           "bgcolor": "#E5ECF6",
           "caxis": {
            "gridcolor": "white",
            "linecolor": "white",
            "ticks": ""
           }
          },
          "title": {
           "x": 0.05
          },
          "xaxis": {
           "automargin": true,
           "gridcolor": "white",
           "linecolor": "white",
           "ticks": "",
           "title": {
            "standoff": 15
           },
           "zerolinecolor": "white",
           "zerolinewidth": 2
          },
          "yaxis": {
           "automargin": true,
           "gridcolor": "white",
           "linecolor": "white",
           "ticks": "",
           "title": {
            "standoff": 15
           },
           "zerolinecolor": "white",
           "zerolinewidth": 2
          }
         }
        }
       }
      }
     },
     "metadata": {},
     "output_type": "display_data"
    }
   ],
   "source": [
    "fig = go.Figure()\n",
    "\n",
    "fig.add_trace(go.Scatter(\n",
    "    x = df_acumulado['Fecha'],\n",
    "    y= df_acumulado['Valor'],\n",
    "    name= 'Datos con Fechas Completas',\n",
    "    mode='lines+markers',\n",
    "    customdata=df_acumulado['Semana'],\n",
    "    hovertemplate=(\n",
    "        '<b>Fecha</b>: %{x}<br>' +\n",
    "        '<b>Valor Acumulado</b>: %{y}<br>' +\n",
    "        '<b>Semana</b>: %{customdata}<br>' + # Accede a la primera columna de customdata\n",
    "        '<extra></extra>' # Oculta la información secundaria del trace\n",
    "    )\n",
    "))\n",
    "fig.add_trace(go.Scatter(\n",
    "    x = df_acumulado_base['Fecha'],\n",
    "    y= df_acumulado_base['Valor'],\n",
    "    name= 'Datos base',\n",
    "    mode='markers',\n",
    "    customdata=df_acumulado_base['Semana'],\n",
    "    hovertemplate=(\n",
    "        '<b>Fecha</b>: %{x}<br>' +\n",
    "        '<b>Valor Acumulado</b>: %{y}<br>' +\n",
    "        '<b>Semana</b>: %{customdata}<br>' + # Accede a la primera columna de customdata\n",
    "        '<extra></extra>' # Oculta la información secundaria del trace\n",
    "    )\n",
    "))\n",
    "fig.update_traces(marker=dict(size=4))\n",
    "fig.show()"
   ]
  },
  {
   "cell_type": "code",
   "execution_count": 50,
   "id": "3ede9e88",
   "metadata": {},
   "outputs": [
    {
     "data": {
      "text/html": [
       "<div>\n",
       "<style scoped>\n",
       "    .dataframe tbody tr th:only-of-type {\n",
       "        vertical-align: middle;\n",
       "    }\n",
       "\n",
       "    .dataframe tbody tr th {\n",
       "        vertical-align: top;\n",
       "    }\n",
       "\n",
       "    .dataframe thead th {\n",
       "        text-align: right;\n",
       "    }\n",
       "</style>\n",
       "<table border=\"1\" class=\"dataframe\">\n",
       "  <thead>\n",
       "    <tr style=\"text-align: right;\">\n",
       "      <th></th>\n",
       "      <th>Fecha</th>\n",
       "      <th>Cuadro</th>\n",
       "      <th>Estado</th>\n",
       "      <th>Codigo Padecimiento</th>\n",
       "      <th>Ax_003</th>\n",
       "      <th>Año</th>\n",
       "      <th>Semana</th>\n",
       "      <th>Ax_001</th>\n",
       "      <th>Ax_002</th>\n",
       "      <th>Valor</th>\n",
       "      <th>Padecimiento</th>\n",
       "    </tr>\n",
       "  </thead>\n",
       "  <tbody>\n",
       "    <tr>\n",
       "      <th>55104</th>\n",
       "      <td>2014-01-06</td>\n",
       "      <td>CUADRO 17.</td>\n",
       "      <td>TOTAL</td>\n",
       "      <td>F32</td>\n",
       "      <td>Sem.</td>\n",
       "      <td>2014</td>\n",
       "      <td>2</td>\n",
       "      <td>2014.0</td>\n",
       "      <td>0</td>\n",
       "      <td>131.0</td>\n",
       "      <td>DepresiónCIE-10ª REV.F32</td>\n",
       "    </tr>\n",
       "    <tr>\n",
       "      <th>55105</th>\n",
       "      <td>2014-01-13</td>\n",
       "      <td>CUADRO 17.</td>\n",
       "      <td>TOTAL</td>\n",
       "      <td>F32</td>\n",
       "      <td>Sem.</td>\n",
       "      <td>2014</td>\n",
       "      <td>3</td>\n",
       "      <td>2014.0</td>\n",
       "      <td>0</td>\n",
       "      <td>658.0</td>\n",
       "      <td>DepresiónCIE-10ª REV.F32</td>\n",
       "    </tr>\n",
       "    <tr>\n",
       "      <th>55106</th>\n",
       "      <td>2014-01-20</td>\n",
       "      <td>CUADRO 17.</td>\n",
       "      <td>TOTAL</td>\n",
       "      <td>F32</td>\n",
       "      <td>Sem.</td>\n",
       "      <td>2014</td>\n",
       "      <td>4</td>\n",
       "      <td>2014.0</td>\n",
       "      <td>0</td>\n",
       "      <td>933.0</td>\n",
       "      <td>DepresiónCIE-10ª REV.F32</td>\n",
       "    </tr>\n",
       "    <tr>\n",
       "      <th>55107</th>\n",
       "      <td>2014-01-27</td>\n",
       "      <td>CUADRO 17.</td>\n",
       "      <td>TOTAL</td>\n",
       "      <td>F32</td>\n",
       "      <td>Sem.</td>\n",
       "      <td>2014</td>\n",
       "      <td>5</td>\n",
       "      <td>2014.0</td>\n",
       "      <td>0</td>\n",
       "      <td>1023.0</td>\n",
       "      <td>DepresiónCIE-10ª REV.F32</td>\n",
       "    </tr>\n",
       "    <tr>\n",
       "      <th>55108</th>\n",
       "      <td>2014-02-03</td>\n",
       "      <td>CUADRO 17.</td>\n",
       "      <td>TOTAL</td>\n",
       "      <td>F32</td>\n",
       "      <td>Sem.</td>\n",
       "      <td>2014</td>\n",
       "      <td>6</td>\n",
       "      <td>2014.0</td>\n",
       "      <td>0</td>\n",
       "      <td>1151.0</td>\n",
       "      <td>DepresiónCIE-10ª REV.F32</td>\n",
       "    </tr>\n",
       "  </tbody>\n",
       "</table>\n",
       "</div>"
      ],
      "text/plain": [
       "           Fecha      Cuadro Estado Codigo Padecimiento Ax_003   Año  Semana  \\\n",
       "55104 2014-01-06  CUADRO 17.  TOTAL                 F32   Sem.  2014       2   \n",
       "55105 2014-01-13  CUADRO 17.  TOTAL                 F32   Sem.  2014       3   \n",
       "55106 2014-01-20  CUADRO 17.  TOTAL                 F32   Sem.  2014       4   \n",
       "55107 2014-01-27  CUADRO 17.  TOTAL                 F32   Sem.  2014       5   \n",
       "55108 2014-02-03  CUADRO 17.  TOTAL                 F32   Sem.  2014       6   \n",
       "\n",
       "       Ax_001 Ax_002   Valor              Padecimiento  \n",
       "55104  2014.0      0   131.0  DepresiónCIE-10ª REV.F32  \n",
       "55105  2014.0      0   658.0  DepresiónCIE-10ª REV.F32  \n",
       "55106  2014.0      0   933.0  DepresiónCIE-10ª REV.F32  \n",
       "55107  2014.0      0  1023.0  DepresiónCIE-10ª REV.F32  \n",
       "55108  2014.0      0  1151.0  DepresiónCIE-10ª REV.F32  "
      ]
     },
     "execution_count": 50,
     "metadata": {},
     "output_type": "execute_result"
    }
   ],
   "source": [
    "filtros = (df_final['Estado']=='TOTAL') \\\n",
    "          & (df_final['Ax_003'] == 'Sem.')\n",
    "df_general = df_final[filtros]\n",
    "df_general.head()"
   ]
  },
  {
   "cell_type": "code",
   "execution_count": 51,
   "id": "57050e32",
   "metadata": {},
   "outputs": [
    {
     "data": {
      "text/html": [
       "<div>\n",
       "<style scoped>\n",
       "    .dataframe tbody tr th:only-of-type {\n",
       "        vertical-align: middle;\n",
       "    }\n",
       "\n",
       "    .dataframe tbody tr th {\n",
       "        vertical-align: top;\n",
       "    }\n",
       "\n",
       "    .dataframe thead th {\n",
       "        text-align: right;\n",
       "    }\n",
       "</style>\n",
       "<table border=\"1\" class=\"dataframe\">\n",
       "  <thead>\n",
       "    <tr style=\"text-align: right;\">\n",
       "      <th></th>\n",
       "      <th>Fecha</th>\n",
       "      <th>Valor</th>\n",
       "      <th>Semana</th>\n",
       "    </tr>\n",
       "  </thead>\n",
       "  <tbody>\n",
       "    <tr>\n",
       "      <th>0</th>\n",
       "      <td>2014-01-06</td>\n",
       "      <td>146.0</td>\n",
       "      <td>2</td>\n",
       "    </tr>\n",
       "    <tr>\n",
       "      <th>1</th>\n",
       "      <td>2014-01-13</td>\n",
       "      <td>776.0</td>\n",
       "      <td>3</td>\n",
       "    </tr>\n",
       "    <tr>\n",
       "      <th>2</th>\n",
       "      <td>2014-01-20</td>\n",
       "      <td>1107.0</td>\n",
       "      <td>4</td>\n",
       "    </tr>\n",
       "    <tr>\n",
       "      <th>3</th>\n",
       "      <td>2014-01-27</td>\n",
       "      <td>1173.0</td>\n",
       "      <td>5</td>\n",
       "    </tr>\n",
       "    <tr>\n",
       "      <th>4</th>\n",
       "      <td>2014-02-03</td>\n",
       "      <td>1351.0</td>\n",
       "      <td>6</td>\n",
       "    </tr>\n",
       "  </tbody>\n",
       "</table>\n",
       "</div>"
      ],
      "text/plain": [
       "       Fecha   Valor  Semana\n",
       "0 2014-01-06   146.0       2\n",
       "1 2014-01-13   776.0       3\n",
       "2 2014-01-20  1107.0       4\n",
       "3 2014-01-27  1173.0       5\n",
       "4 2014-02-03  1351.0       6"
      ]
     },
     "metadata": {},
     "output_type": "display_data"
    },
    {
     "data": {
      "application/vnd.plotly.v1+json": {
       "config": {
        "plotlyServerURL": "https://plot.ly"
       },
       "data": [
        {
         "customdata": {
          "bdata": "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",
          "dtype": "u4",
          "shape": "573, 1"
         },
         "hovertemplate": "Fecha=%{x}<br>Valor=%{y}<br>Semana=%{customdata[0]}<extra></extra>",
         "legendgroup": "",
         "line": {
          "color": "#636efa",
          "dash": "solid"
         },
         "marker": {
          "size": 4,
          "symbol": "circle"
         },
         "mode": "lines+markers",
         "name": "",
         "orientation": "v",
         "showlegend": false,
         "type": "scatter",
         "x": [
          "2014-01-06T00:00:00",
          "2014-01-13T00:00:00",
          "2014-01-20T00:00:00",
          "2014-01-27T00:00:00",
          "2014-02-03T00:00:00",
          "2014-02-10T00:00:00",
          "2014-02-17T00:00:00",
          "2014-02-24T00:00:00",
          "2014-03-03T00:00:00",
          "2014-03-10T00:00:00",
          "2014-03-17T00:00:00",
          "2014-03-24T00:00:00",
          "2014-03-31T00:00:00",
          "2014-04-07T00:00:00",
          "2014-04-14T00:00:00",
          "2014-04-21T00:00:00",
          "2014-04-28T00:00:00",
          "2014-05-05T00:00:00",
          "2014-05-12T00:00:00",
          "2014-05-19T00:00:00",
          "2014-05-26T00:00:00",
          "2014-06-02T00:00:00",
          "2014-06-09T00:00:00",
          "2014-06-16T00:00:00",
          "2014-06-23T00:00:00",
          "2014-06-30T00:00:00",
          "2014-07-07T00:00:00",
          "2014-07-14T00:00:00",
          "2014-07-21T00:00:00",
          "2014-07-28T00:00:00",
          "2014-08-04T00:00:00",
          "2014-08-11T00:00:00",
          "2014-08-18T00:00:00",
          "2014-08-25T00:00:00",
          "2014-09-01T00:00:00",
          "2014-09-08T00:00:00",
          "2014-09-15T00:00:00",
          "2014-09-22T00:00:00",
          "2014-09-29T00:00:00",
          "2014-10-06T00:00:00",
          "2014-10-13T00:00:00",
          "2014-10-20T00:00:00",
          "2014-10-27T00:00:00",
          "2014-11-03T00:00:00",
          "2014-11-10T00:00:00",
          "2014-11-17T00:00:00",
          "2014-11-24T00:00:00",
          "2014-12-01T00:00:00",
          "2014-12-08T00:00:00",
          "2014-12-15T00:00:00",
          "2014-12-22T00:00:00",
          "2014-12-29T00:00:00",
          "2015-01-05T00:00:00",
          "2015-01-12T00:00:00",
          "2015-01-19T00:00:00",
          "2015-01-26T00:00:00",
          "2015-02-02T00:00:00",
          "2015-02-09T00:00:00",
          "2015-02-16T00:00:00",
          "2015-02-23T00:00:00",
          "2015-03-02T00:00:00",
          "2015-03-09T00:00:00",
          "2015-03-16T00:00:00",
          "2015-03-23T00:00:00",
          "2015-03-30T00:00:00",
          "2015-04-06T00:00:00",
          "2015-04-13T00:00:00",
          "2015-04-20T00:00:00",
          "2015-04-27T00:00:00",
          "2015-05-04T00:00:00",
          "2015-05-11T00:00:00",
          "2015-05-18T00:00:00",
          "2015-05-25T00:00:00",
          "2015-06-01T00:00:00",
          "2015-06-08T00:00:00",
          "2015-06-15T00:00:00",
          "2015-06-22T00:00:00",
          "2015-06-29T00:00:00",
          "2015-07-06T00:00:00",
          "2015-07-13T00:00:00",
          "2015-07-20T00:00:00",
          "2015-07-27T00:00:00",
          "2015-08-03T00:00:00",
          "2015-08-10T00:00:00",
          "2015-08-17T00:00:00",
          "2015-08-24T00:00:00",
          "2015-08-31T00:00:00",
          "2015-09-07T00:00:00",
          "2015-09-14T00:00:00",
          "2015-09-21T00:00:00",
          "2015-09-28T00:00:00",
          "2015-10-05T00:00:00",
          "2015-10-12T00:00:00",
          "2015-10-19T00:00:00",
          "2015-10-26T00:00:00",
          "2015-11-02T00:00:00",
          "2015-11-09T00:00:00",
          "2015-11-16T00:00:00",
          "2015-11-23T00:00:00",
          "2015-11-30T00:00:00",
          "2015-12-07T00:00:00",
          "2015-12-14T00:00:00",
          "2015-12-21T00:00:00",
          "2015-12-28T00:00:00",
          "2016-01-04T00:00:00",
          "2016-01-11T00:00:00",
          "2016-01-18T00:00:00",
          "2016-01-25T00:00:00",
          "2016-02-01T00:00:00",
          "2016-02-08T00:00:00",
          "2016-02-15T00:00:00",
          "2016-02-22T00:00:00",
          "2016-02-29T00:00:00",
          "2016-03-07T00:00:00",
          "2016-03-14T00:00:00",
          "2016-03-21T00:00:00",
          "2016-03-28T00:00:00",
          "2016-04-04T00:00:00",
          "2016-04-11T00:00:00",
          "2016-04-18T00:00:00",
          "2016-04-25T00:00:00",
          "2016-05-02T00:00:00",
          "2016-05-09T00:00:00",
          "2016-05-16T00:00:00",
          "2016-05-23T00:00:00",
          "2016-05-30T00:00:00",
          "2016-06-06T00:00:00",
          "2016-06-13T00:00:00",
          "2016-06-20T00:00:00",
          "2016-06-27T00:00:00",
          "2016-07-04T00:00:00",
          "2016-07-11T00:00:00",
          "2016-07-18T00:00:00",
          "2016-07-25T00:00:00",
          "2016-08-01T00:00:00",
          "2016-08-08T00:00:00",
          "2016-08-15T00:00:00",
          "2016-08-22T00:00:00",
          "2016-08-29T00:00:00",
          "2016-09-05T00:00:00",
          "2016-09-12T00:00:00",
          "2016-09-19T00:00:00",
          "2016-09-26T00:00:00",
          "2016-10-03T00:00:00",
          "2016-10-10T00:00:00",
          "2016-10-17T00:00:00",
          "2016-10-24T00:00:00",
          "2016-10-31T00:00:00",
          "2016-11-07T00:00:00",
          "2016-11-14T00:00:00",
          "2016-11-21T00:00:00",
          "2016-11-28T00:00:00",
          "2016-12-05T00:00:00",
          "2016-12-12T00:00:00",
          "2016-12-19T00:00:00",
          "2016-12-26T00:00:00",
          "2017-01-02T00:00:00",
          "2017-01-09T00:00:00",
          "2017-01-16T00:00:00",
          "2017-01-23T00:00:00",
          "2017-01-30T00:00:00",
          "2017-02-06T00:00:00",
          "2017-02-13T00:00:00",
          "2017-02-20T00:00:00",
          "2017-02-27T00:00:00",
          "2017-03-06T00:00:00",
          "2017-03-13T00:00:00",
          "2017-03-20T00:00:00",
          "2017-03-27T00:00:00",
          "2017-04-03T00:00:00",
          "2017-04-10T00:00:00",
          "2017-04-17T00:00:00",
          "2017-04-24T00:00:00",
          "2017-05-01T00:00:00",
          "2017-05-08T00:00:00",
          "2017-05-15T00:00:00",
          "2017-05-22T00:00:00",
          "2017-05-29T00:00:00",
          "2017-06-05T00:00:00",
          "2017-06-12T00:00:00",
          "2017-06-19T00:00:00",
          "2017-06-26T00:00:00",
          "2017-07-03T00:00:00",
          "2017-07-10T00:00:00",
          "2017-07-17T00:00:00",
          "2017-07-24T00:00:00",
          "2017-07-31T00:00:00",
          "2017-08-07T00:00:00",
          "2017-08-14T00:00:00",
          "2017-08-21T00:00:00",
          "2017-08-28T00:00:00",
          "2017-09-04T00:00:00",
          "2017-09-11T00:00:00",
          "2017-09-18T00:00:00",
          "2017-09-25T00:00:00",
          "2017-10-02T00:00:00",
          "2017-10-09T00:00:00",
          "2017-10-16T00:00:00",
          "2017-10-23T00:00:00",
          "2017-10-30T00:00:00",
          "2017-11-06T00:00:00",
          "2017-11-13T00:00:00",
          "2017-11-20T00:00:00",
          "2017-11-27T00:00:00",
          "2017-12-04T00:00:00",
          "2017-12-11T00:00:00",
          "2017-12-18T00:00:00",
          "2017-12-25T00:00:00",
          "2018-01-01T00:00:00",
          "2018-01-08T00:00:00",
          "2018-01-15T00:00:00",
          "2018-01-22T00:00:00",
          "2018-01-29T00:00:00",
          "2018-02-05T00:00:00",
          "2018-02-12T00:00:00",
          "2018-02-19T00:00:00",
          "2018-02-26T00:00:00",
          "2018-03-05T00:00:00",
          "2018-03-12T00:00:00",
          "2018-03-19T00:00:00",
          "2018-03-26T00:00:00",
          "2018-04-02T00:00:00",
          "2018-04-09T00:00:00",
          "2018-04-16T00:00:00",
          "2018-04-23T00:00:00",
          "2018-04-30T00:00:00",
          "2018-05-07T00:00:00",
          "2018-05-14T00:00:00",
          "2018-05-21T00:00:00",
          "2018-05-28T00:00:00",
          "2018-06-04T00:00:00",
          "2018-06-11T00:00:00",
          "2018-06-18T00:00:00",
          "2018-06-25T00:00:00",
          "2018-07-02T00:00:00",
          "2018-07-09T00:00:00",
          "2018-07-16T00:00:00",
          "2018-07-23T00:00:00",
          "2018-07-30T00:00:00",
          "2018-08-06T00:00:00",
          "2018-08-13T00:00:00",
          "2018-08-20T00:00:00",
          "2018-08-27T00:00:00",
          "2018-09-03T00:00:00",
          "2018-09-10T00:00:00",
          "2018-09-17T00:00:00",
          "2018-09-24T00:00:00",
          "2018-10-01T00:00:00",
          "2018-10-08T00:00:00",
          "2018-10-15T00:00:00",
          "2018-10-22T00:00:00",
          "2018-10-29T00:00:00",
          "2018-11-05T00:00:00",
          "2018-11-12T00:00:00",
          "2018-11-19T00:00:00",
          "2018-11-26T00:00:00",
          "2018-12-03T00:00:00",
          "2018-12-10T00:00:00",
          "2018-12-17T00:00:00",
          "2018-12-24T00:00:00",
          "2018-12-31T00:00:00",
          "2019-01-07T00:00:00",
          "2019-01-14T00:00:00",
          "2019-01-21T00:00:00",
          "2019-01-28T00:00:00",
          "2019-02-04T00:00:00",
          "2019-02-11T00:00:00",
          "2019-02-18T00:00:00",
          "2019-02-25T00:00:00",
          "2019-03-04T00:00:00",
          "2019-03-11T00:00:00",
          "2019-03-18T00:00:00",
          "2019-03-25T00:00:00",
          "2019-04-01T00:00:00",
          "2019-04-08T00:00:00",
          "2019-04-15T00:00:00",
          "2019-04-22T00:00:00",
          "2019-04-29T00:00:00",
          "2019-05-06T00:00:00",
          "2019-05-13T00:00:00",
          "2019-05-20T00:00:00",
          "2019-05-27T00:00:00",
          "2019-06-03T00:00:00",
          "2019-06-10T00:00:00",
          "2019-06-17T00:00:00",
          "2019-06-24T00:00:00",
          "2019-07-01T00:00:00",
          "2019-07-08T00:00:00",
          "2019-07-15T00:00:00",
          "2019-07-22T00:00:00",
          "2019-07-29T00:00:00",
          "2019-08-05T00:00:00",
          "2019-08-12T00:00:00",
          "2019-08-19T00:00:00",
          "2019-08-26T00:00:00",
          "2019-09-02T00:00:00",
          "2019-09-09T00:00:00",
          "2019-09-16T00:00:00",
          "2019-09-23T00:00:00",
          "2019-09-30T00:00:00",
          "2019-10-07T00:00:00",
          "2019-10-14T00:00:00",
          "2019-10-21T00:00:00",
          "2019-10-28T00:00:00",
          "2019-11-04T00:00:00",
          "2019-11-11T00:00:00",
          "2019-11-18T00:00:00",
          "2019-11-25T00:00:00",
          "2019-12-02T00:00:00",
          "2019-12-09T00:00:00",
          "2019-12-16T00:00:00",
          "2019-12-23T00:00:00",
          "2019-12-30T00:00:00",
          "2020-01-06T00:00:00",
          "2020-01-13T00:00:00",
          "2020-01-20T00:00:00",
          "2020-01-27T00:00:00",
          "2020-02-03T00:00:00",
          "2020-02-10T00:00:00",
          "2020-02-17T00:00:00",
          "2020-02-24T00:00:00",
          "2020-03-02T00:00:00",
          "2020-03-09T00:00:00",
          "2020-03-16T00:00:00",
          "2020-03-23T00:00:00",
          "2020-03-30T00:00:00",
          "2020-04-06T00:00:00",
          "2020-04-13T00:00:00",
          "2020-04-20T00:00:00",
          "2020-04-27T00:00:00",
          "2020-05-04T00:00:00",
          "2020-05-11T00:00:00",
          "2020-05-18T00:00:00",
          "2020-05-25T00:00:00",
          "2020-06-01T00:00:00",
          "2020-06-08T00:00:00",
          "2020-06-15T00:00:00",
          "2020-06-22T00:00:00",
          "2020-06-29T00:00:00",
          "2020-07-06T00:00:00",
          "2020-07-13T00:00:00",
          "2020-07-20T00:00:00",
          "2020-07-27T00:00:00",
          "2020-08-03T00:00:00",
          "2020-08-10T00:00:00",
          "2020-08-17T00:00:00",
          "2020-08-24T00:00:00",
          "2020-08-31T00:00:00",
          "2020-09-07T00:00:00",
          "2020-09-14T00:00:00",
          "2020-09-21T00:00:00",
          "2020-09-28T00:00:00",
          "2020-10-05T00:00:00",
          "2020-10-12T00:00:00",
          "2020-10-19T00:00:00",
          "2020-10-26T00:00:00",
          "2020-11-02T00:00:00",
          "2020-11-09T00:00:00",
          "2020-11-16T00:00:00",
          "2020-11-23T00:00:00",
          "2020-11-30T00:00:00",
          "2020-12-07T00:00:00",
          "2020-12-14T00:00:00",
          "2020-12-21T00:00:00",
          "2020-12-28T00:00:00",
          "2021-01-04T00:00:00",
          "2021-01-11T00:00:00",
          "2021-01-18T00:00:00",
          "2021-01-25T00:00:00",
          "2021-02-01T00:00:00",
          "2021-02-08T00:00:00",
          "2021-02-15T00:00:00",
          "2021-02-22T00:00:00",
          "2021-03-01T00:00:00",
          "2021-03-08T00:00:00",
          "2021-03-15T00:00:00",
          "2021-03-22T00:00:00",
          "2021-03-29T00:00:00",
          "2021-04-05T00:00:00",
          "2021-04-12T00:00:00",
          "2021-04-19T00:00:00",
          "2021-04-26T00:00:00",
          "2021-05-03T00:00:00",
          "2021-05-10T00:00:00",
          "2021-05-17T00:00:00",
          "2021-05-24T00:00:00",
          "2021-05-31T00:00:00",
          "2021-06-07T00:00:00",
          "2021-06-14T00:00:00",
          "2021-06-21T00:00:00",
          "2021-06-28T00:00:00",
          "2021-07-05T00:00:00",
          "2021-07-12T00:00:00",
          "2021-07-19T00:00:00",
          "2021-07-26T00:00:00",
          "2021-08-02T00:00:00",
          "2021-08-09T00:00:00",
          "2021-08-16T00:00:00",
          "2021-08-23T00:00:00",
          "2021-08-30T00:00:00",
          "2021-09-06T00:00:00",
          "2021-09-13T00:00:00",
          "2021-09-20T00:00:00",
          "2021-09-27T00:00:00",
          "2021-10-04T00:00:00",
          "2021-10-11T00:00:00",
          "2021-10-18T00:00:00",
          "2021-10-25T00:00:00",
          "2021-11-01T00:00:00",
          "2021-11-08T00:00:00",
          "2021-11-15T00:00:00",
          "2021-11-22T00:00:00",
          "2021-11-29T00:00:00",
          "2021-12-06T00:00:00",
          "2021-12-13T00:00:00",
          "2021-12-20T00:00:00",
          "2021-12-27T00:00:00",
          "2022-01-03T00:00:00",
          "2022-01-10T00:00:00",
          "2022-01-17T00:00:00",
          "2022-01-24T00:00:00",
          "2022-01-31T00:00:00",
          "2022-02-07T00:00:00",
          "2022-02-14T00:00:00",
          "2022-02-21T00:00:00",
          "2022-02-28T00:00:00",
          "2022-03-07T00:00:00",
          "2022-03-14T00:00:00",
          "2022-03-21T00:00:00",
          "2022-03-28T00:00:00",
          "2022-04-04T00:00:00",
          "2022-04-11T00:00:00",
          "2022-04-18T00:00:00",
          "2022-04-25T00:00:00",
          "2022-05-02T00:00:00",
          "2022-05-09T00:00:00",
          "2022-05-16T00:00:00",
          "2022-05-23T00:00:00",
          "2022-05-30T00:00:00",
          "2022-06-06T00:00:00",
          "2022-06-13T00:00:00",
          "2022-06-20T00:00:00",
          "2022-06-27T00:00:00",
          "2022-07-04T00:00:00",
          "2022-07-11T00:00:00",
          "2022-07-18T00:00:00",
          "2022-07-25T00:00:00",
          "2022-08-01T00:00:00",
          "2022-08-08T00:00:00",
          "2022-08-15T00:00:00",
          "2022-08-22T00:00:00",
          "2022-08-29T00:00:00",
          "2022-09-05T00:00:00",
          "2022-09-12T00:00:00",
          "2022-09-19T00:00:00",
          "2022-09-26T00:00:00",
          "2022-10-03T00:00:00",
          "2022-10-10T00:00:00",
          "2022-10-17T00:00:00",
          "2022-10-24T00:00:00",
          "2022-10-31T00:00:00",
          "2022-11-07T00:00:00",
          "2022-11-14T00:00:00",
          "2022-11-21T00:00:00",
          "2022-11-28T00:00:00",
          "2022-12-05T00:00:00",
          "2022-12-12T00:00:00",
          "2022-12-19T00:00:00",
          "2022-12-26T00:00:00",
          "2023-01-02T00:00:00",
          "2023-01-09T00:00:00",
          "2023-01-16T00:00:00",
          "2023-01-23T00:00:00",
          "2023-01-30T00:00:00",
          "2023-02-06T00:00:00",
          "2023-02-13T00:00:00",
          "2023-02-20T00:00:00",
          "2023-02-27T00:00:00",
          "2023-03-06T00:00:00",
          "2023-03-13T00:00:00",
          "2023-03-20T00:00:00",
          "2023-03-27T00:00:00",
          "2023-04-03T00:00:00",
          "2023-04-10T00:00:00",
          "2023-04-17T00:00:00",
          "2023-04-24T00:00:00",
          "2023-05-01T00:00:00",
          "2023-05-08T00:00:00",
          "2023-05-15T00:00:00",
          "2023-05-22T00:00:00",
          "2023-05-29T00:00:00",
          "2023-06-05T00:00:00",
          "2023-06-12T00:00:00",
          "2023-06-19T00:00:00",
          "2023-06-26T00:00:00",
          "2023-07-03T00:00:00",
          "2023-07-10T00:00:00",
          "2023-07-17T00:00:00",
          "2023-07-24T00:00:00",
          "2023-07-31T00:00:00",
          "2023-08-07T00:00:00",
          "2023-08-14T00:00:00",
          "2023-08-21T00:00:00",
          "2023-08-28T00:00:00",
          "2023-09-04T00:00:00",
          "2023-09-11T00:00:00",
          "2023-09-18T00:00:00",
          "2023-09-25T00:00:00",
          "2023-10-02T00:00:00",
          "2023-10-09T00:00:00",
          "2023-10-16T00:00:00",
          "2023-10-23T00:00:00",
          "2023-10-30T00:00:00",
          "2023-11-06T00:00:00",
          "2023-11-13T00:00:00",
          "2023-11-20T00:00:00",
          "2023-11-27T00:00:00",
          "2023-12-04T00:00:00",
          "2023-12-11T00:00:00",
          "2023-12-18T00:00:00",
          "2023-12-25T00:00:00",
          "2024-01-01T00:00:00",
          "2024-01-08T00:00:00",
          "2024-01-15T00:00:00",
          "2024-01-22T00:00:00",
          "2024-01-29T00:00:00",
          "2024-02-05T00:00:00",
          "2024-02-12T00:00:00",
          "2024-02-19T00:00:00",
          "2024-02-26T00:00:00",
          "2024-03-04T00:00:00",
          "2024-03-11T00:00:00",
          "2024-03-18T00:00:00",
          "2024-03-25T00:00:00",
          "2024-04-01T00:00:00",
          "2024-04-08T00:00:00",
          "2024-04-15T00:00:00",
          "2024-04-22T00:00:00",
          "2024-04-29T00:00:00",
          "2024-05-06T00:00:00",
          "2024-05-13T00:00:00",
          "2024-05-20T00:00:00",
          "2024-05-27T00:00:00",
          "2024-06-03T00:00:00",
          "2024-06-10T00:00:00",
          "2024-06-17T00:00:00",
          "2024-06-24T00:00:00",
          "2024-07-01T00:00:00",
          "2024-07-08T00:00:00",
          "2024-07-15T00:00:00",
          "2024-07-22T00:00:00",
          "2024-07-29T00:00:00",
          "2024-08-05T00:00:00",
          "2024-08-12T00:00:00",
          "2024-08-19T00:00:00",
          "2024-08-26T00:00:00",
          "2024-09-02T00:00:00",
          "2024-09-09T00:00:00",
          "2024-09-16T00:00:00",
          "2024-09-23T00:00:00",
          "2024-09-30T00:00:00",
          "2024-10-07T00:00:00",
          "2024-10-14T00:00:00",
          "2024-10-21T00:00:00",
          "2024-10-28T00:00:00",
          "2024-11-04T00:00:00",
          "2024-11-11T00:00:00",
          "2024-11-18T00:00:00",
          "2024-11-25T00:00:00",
          "2024-12-02T00:00:00",
          "2024-12-09T00:00:00",
          "2024-12-16T00:00:00",
          "2024-12-23T00:00:00"
         ],
         "xaxis": "x",
         "y": {
          "bdata": "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",
          "dtype": "f8"
         },
         "yaxis": "y"
        }
       ],
       "layout": {
        "legend": {
         "tracegroupgap": 0
        },
        "template": {
         "data": {
          "bar": [
           {
            "error_x": {
             "color": "#2a3f5f"
            },
            "error_y": {
             "color": "#2a3f5f"
            },
            "marker": {
             "line": {
              "color": "#E5ECF6",
              "width": 0.5
             },
             "pattern": {
              "fillmode": "overlay",
              "size": 10,
              "solidity": 0.2
             }
            },
            "type": "bar"
           }
          ],
          "barpolar": [
           {
            "marker": {
             "line": {
              "color": "#E5ECF6",
              "width": 0.5
             },
             "pattern": {
              "fillmode": "overlay",
              "size": 10,
              "solidity": 0.2
             }
            },
            "type": "barpolar"
           }
          ],
          "carpet": [
           {
            "aaxis": {
             "endlinecolor": "#2a3f5f",
             "gridcolor": "white",
             "linecolor": "white",
             "minorgridcolor": "white",
             "startlinecolor": "#2a3f5f"
            },
            "baxis": {
             "endlinecolor": "#2a3f5f",
             "gridcolor": "white",
             "linecolor": "white",
             "minorgridcolor": "white",
             "startlinecolor": "#2a3f5f"
            },
            "type": "carpet"
           }
          ],
          "choropleth": [
           {
            "colorbar": {
             "outlinewidth": 0,
             "ticks": ""
            },
            "type": "choropleth"
           }
          ],
          "contour": [
           {
            "colorbar": {
             "outlinewidth": 0,
             "ticks": ""
            },
            "colorscale": [
             [
              0,
              "#0d0887"
             ],
             [
              0.1111111111111111,
              "#46039f"
             ],
             [
              0.2222222222222222,
              "#7201a8"
             ],
             [
              0.3333333333333333,
              "#9c179e"
             ],
             [
              0.4444444444444444,
              "#bd3786"
             ],
             [
              0.5555555555555556,
              "#d8576b"
             ],
             [
              0.6666666666666666,
              "#ed7953"
             ],
             [
              0.7777777777777778,
              "#fb9f3a"
             ],
             [
              0.8888888888888888,
              "#fdca26"
             ],
             [
              1,
              "#f0f921"
             ]
            ],
            "type": "contour"
           }
          ],
          "contourcarpet": [
           {
            "colorbar": {
             "outlinewidth": 0,
             "ticks": ""
            },
            "type": "contourcarpet"
           }
          ],
          "heatmap": [
           {
            "colorbar": {
             "outlinewidth": 0,
             "ticks": ""
            },
            "colorscale": [
             [
              0,
              "#0d0887"
             ],
             [
              0.1111111111111111,
              "#46039f"
             ],
             [
              0.2222222222222222,
              "#7201a8"
             ],
             [
              0.3333333333333333,
              "#9c179e"
             ],
             [
              0.4444444444444444,
              "#bd3786"
             ],
             [
              0.5555555555555556,
              "#d8576b"
             ],
             [
              0.6666666666666666,
              "#ed7953"
             ],
             [
              0.7777777777777778,
              "#fb9f3a"
             ],
             [
              0.8888888888888888,
              "#fdca26"
             ],
             [
              1,
              "#f0f921"
             ]
            ],
            "type": "heatmap"
           }
          ],
          "histogram": [
           {
            "marker": {
             "pattern": {
              "fillmode": "overlay",
              "size": 10,
              "solidity": 0.2
             }
            },
            "type": "histogram"
           }
          ],
          "histogram2d": [
           {
            "colorbar": {
             "outlinewidth": 0,
             "ticks": ""
            },
            "colorscale": [
             [
              0,
              "#0d0887"
             ],
             [
              0.1111111111111111,
              "#46039f"
             ],
             [
              0.2222222222222222,
              "#7201a8"
             ],
             [
              0.3333333333333333,
              "#9c179e"
             ],
             [
              0.4444444444444444,
              "#bd3786"
             ],
             [
              0.5555555555555556,
              "#d8576b"
             ],
             [
              0.6666666666666666,
              "#ed7953"
             ],
             [
              0.7777777777777778,
              "#fb9f3a"
             ],
             [
              0.8888888888888888,
              "#fdca26"
             ],
             [
              1,
              "#f0f921"
             ]
            ],
            "type": "histogram2d"
           }
          ],
          "histogram2dcontour": [
           {
            "colorbar": {
             "outlinewidth": 0,
             "ticks": ""
            },
            "colorscale": [
             [
              0,
              "#0d0887"
             ],
             [
              0.1111111111111111,
              "#46039f"
             ],
             [
              0.2222222222222222,
              "#7201a8"
             ],
             [
              0.3333333333333333,
              "#9c179e"
             ],
             [
              0.4444444444444444,
              "#bd3786"
             ],
             [
              0.5555555555555556,
              "#d8576b"
             ],
             [
              0.6666666666666666,
              "#ed7953"
             ],
             [
              0.7777777777777778,
              "#fb9f3a"
             ],
             [
              0.8888888888888888,
              "#fdca26"
             ],
             [
              1,
              "#f0f921"
             ]
            ],
            "type": "histogram2dcontour"
           }
          ],
          "mesh3d": [
           {
            "colorbar": {
             "outlinewidth": 0,
             "ticks": ""
            },
            "type": "mesh3d"
           }
          ],
          "parcoords": [
           {
            "line": {
             "colorbar": {
              "outlinewidth": 0,
              "ticks": ""
             }
            },
            "type": "parcoords"
           }
          ],
          "pie": [
           {
            "automargin": true,
            "type": "pie"
           }
          ],
          "scatter": [
           {
            "fillpattern": {
             "fillmode": "overlay",
             "size": 10,
             "solidity": 0.2
            },
            "type": "scatter"
           }
          ],
          "scatter3d": [
           {
            "line": {
             "colorbar": {
              "outlinewidth": 0,
              "ticks": ""
             }
            },
            "marker": {
             "colorbar": {
              "outlinewidth": 0,
              "ticks": ""
             }
            },
            "type": "scatter3d"
           }
          ],
          "scattercarpet": [
           {
            "marker": {
             "colorbar": {
              "outlinewidth": 0,
              "ticks": ""
             }
            },
            "type": "scattercarpet"
           }
          ],
          "scattergeo": [
           {
            "marker": {
             "colorbar": {
              "outlinewidth": 0,
              "ticks": ""
             }
            },
            "type": "scattergeo"
           }
          ],
          "scattergl": [
           {
            "marker": {
             "colorbar": {
              "outlinewidth": 0,
              "ticks": ""
             }
            },
            "type": "scattergl"
           }
          ],
          "scattermap": [
           {
            "marker": {
             "colorbar": {
              "outlinewidth": 0,
              "ticks": ""
             }
            },
            "type": "scattermap"
           }
          ],
          "scattermapbox": [
           {
            "marker": {
             "colorbar": {
              "outlinewidth": 0,
              "ticks": ""
             }
            },
            "type": "scattermapbox"
           }
          ],
          "scatterpolar": [
           {
            "marker": {
             "colorbar": {
              "outlinewidth": 0,
              "ticks": ""
             }
            },
            "type": "scatterpolar"
           }
          ],
          "scatterpolargl": [
           {
            "marker": {
             "colorbar": {
              "outlinewidth": 0,
              "ticks": ""
             }
            },
            "type": "scatterpolargl"
           }
          ],
          "scatterternary": [
           {
            "marker": {
             "colorbar": {
              "outlinewidth": 0,
              "ticks": ""
             }
            },
            "type": "scatterternary"
           }
          ],
          "surface": [
           {
            "colorbar": {
             "outlinewidth": 0,
             "ticks": ""
            },
            "colorscale": [
             [
              0,
              "#0d0887"
             ],
             [
              0.1111111111111111,
              "#46039f"
             ],
             [
              0.2222222222222222,
              "#7201a8"
             ],
             [
              0.3333333333333333,
              "#9c179e"
             ],
             [
              0.4444444444444444,
              "#bd3786"
             ],
             [
              0.5555555555555556,
              "#d8576b"
             ],
             [
              0.6666666666666666,
              "#ed7953"
             ],
             [
              0.7777777777777778,
              "#fb9f3a"
             ],
             [
              0.8888888888888888,
              "#fdca26"
             ],
             [
              1,
              "#f0f921"
             ]
            ],
            "type": "surface"
           }
          ],
          "table": [
           {
            "cells": {
             "fill": {
              "color": "#EBF0F8"
             },
             "line": {
              "color": "white"
             }
            },
            "header": {
             "fill": {
              "color": "#C8D4E3"
             },
             "line": {
              "color": "white"
             }
            },
            "type": "table"
           }
          ]
         },
         "layout": {
          "annotationdefaults": {
           "arrowcolor": "#2a3f5f",
           "arrowhead": 0,
           "arrowwidth": 1
          },
          "autotypenumbers": "strict",
          "coloraxis": {
           "colorbar": {
            "outlinewidth": 0,
            "ticks": ""
           }
          },
          "colorscale": {
           "diverging": [
            [
             0,
             "#8e0152"
            ],
            [
             0.1,
             "#c51b7d"
            ],
            [
             0.2,
             "#de77ae"
            ],
            [
             0.3,
             "#f1b6da"
            ],
            [
             0.4,
             "#fde0ef"
            ],
            [
             0.5,
             "#f7f7f7"
            ],
            [
             0.6,
             "#e6f5d0"
            ],
            [
             0.7,
             "#b8e186"
            ],
            [
             0.8,
             "#7fbc41"
            ],
            [
             0.9,
             "#4d9221"
            ],
            [
             1,
             "#276419"
            ]
           ],
           "sequential": [
            [
             0,
             "#0d0887"
            ],
            [
             0.1111111111111111,
             "#46039f"
            ],
            [
             0.2222222222222222,
             "#7201a8"
            ],
            [
             0.3333333333333333,
             "#9c179e"
            ],
            [
             0.4444444444444444,
             "#bd3786"
            ],
            [
             0.5555555555555556,
             "#d8576b"
            ],
            [
             0.6666666666666666,
             "#ed7953"
            ],
            [
             0.7777777777777778,
             "#fb9f3a"
            ],
            [
             0.8888888888888888,
             "#fdca26"
            ],
            [
             1,
             "#f0f921"
            ]
           ],
           "sequentialminus": [
            [
             0,
             "#0d0887"
            ],
            [
             0.1111111111111111,
             "#46039f"
            ],
            [
             0.2222222222222222,
             "#7201a8"
            ],
            [
             0.3333333333333333,
             "#9c179e"
            ],
            [
             0.4444444444444444,
             "#bd3786"
            ],
            [
             0.5555555555555556,
             "#d8576b"
            ],
            [
             0.6666666666666666,
             "#ed7953"
            ],
            [
             0.7777777777777778,
             "#fb9f3a"
            ],
            [
             0.8888888888888888,
             "#fdca26"
            ],
            [
             1,
             "#f0f921"
            ]
           ]
          },
          "colorway": [
           "#636efa",
           "#EF553B",
           "#00cc96",
           "#ab63fa",
           "#FFA15A",
           "#19d3f3",
           "#FF6692",
           "#B6E880",
           "#FF97FF",
           "#FECB52"
          ],
          "font": {
           "color": "#2a3f5f"
          },
          "geo": {
           "bgcolor": "white",
           "lakecolor": "white",
           "landcolor": "#E5ECF6",
           "showlakes": true,
           "showland": true,
           "subunitcolor": "white"
          },
          "hoverlabel": {
           "align": "left"
          },
          "hovermode": "closest",
          "mapbox": {
           "style": "light"
          },
          "paper_bgcolor": "white",
          "plot_bgcolor": "#E5ECF6",
          "polar": {
           "angularaxis": {
            "gridcolor": "white",
            "linecolor": "white",
            "ticks": ""
           },
           "bgcolor": "#E5ECF6",
           "radialaxis": {
            "gridcolor": "white",
            "linecolor": "white",
            "ticks": ""
           }
          },
          "scene": {
           "xaxis": {
            "backgroundcolor": "#E5ECF6",
            "gridcolor": "white",
            "gridwidth": 2,
            "linecolor": "white",
            "showbackground": true,
            "ticks": "",
            "zerolinecolor": "white"
           },
           "yaxis": {
            "backgroundcolor": "#E5ECF6",
            "gridcolor": "white",
            "gridwidth": 2,
            "linecolor": "white",
            "showbackground": true,
            "ticks": "",
            "zerolinecolor": "white"
           },
           "zaxis": {
            "backgroundcolor": "#E5ECF6",
            "gridcolor": "white",
            "gridwidth": 2,
            "linecolor": "white",
            "showbackground": true,
            "ticks": "",
            "zerolinecolor": "white"
           }
          },
          "shapedefaults": {
           "line": {
            "color": "#2a3f5f"
           }
          },
          "ternary": {
           "aaxis": {
            "gridcolor": "white",
            "linecolor": "white",
            "ticks": ""
           },
           "baxis": {
            "gridcolor": "white",
            "linecolor": "white",
            "ticks": ""
           },
           "bgcolor": "#E5ECF6",
           "caxis": {
            "gridcolor": "white",
            "linecolor": "white",
            "ticks": ""
           }
          },
          "title": {
           "x": 0.05
          },
          "xaxis": {
           "automargin": true,
           "gridcolor": "white",
           "linecolor": "white",
           "ticks": "",
           "title": {
            "standoff": 15
           },
           "zerolinecolor": "white",
           "zerolinewidth": 2
          },
          "yaxis": {
           "automargin": true,
           "gridcolor": "white",
           "linecolor": "white",
           "ticks": "",
           "title": {
            "standoff": 15
           },
           "zerolinecolor": "white",
           "zerolinewidth": 2
          }
         }
        },
        "title": {
         "text": "Serie de tiempo General (df)"
        },
        "xaxis": {
         "anchor": "y",
         "domain": [
          0,
          1
         ],
         "title": {
          "text": "Fecha"
         }
        },
        "yaxis": {
         "anchor": "x",
         "domain": [
          0,
          1
         ],
         "title": {
          "text": "Valor"
         }
        }
       }
      }
     },
     "metadata": {},
     "output_type": "display_data"
    }
   ],
   "source": [
    "df_acumulado = df_general.groupby('Fecha')['Valor'].sum().reset_index()\n",
    "df_acumulado['Semana'] = df_acumulado[\"Fecha\"].dt.isocalendar().week\n",
    "display(df_acumulado.head())\n",
    "# \n",
    "fig = px.line(df_acumulado, x='Fecha', y='Valor',title=f\"Serie de tiempo General (df)\", \n",
    "              hover_data={'Semana': True, 'Fecha': True},\n",
    "              markers=True, \n",
    "            )\n",
    "# Ajustar el tamaño de los marcadores\n",
    "fig.update_traces(marker=dict(size=4))\n",
    "# # fig.update_layout(height=800)\n",
    "fig.show()"
   ]
  },
  {
   "cell_type": "code",
   "execution_count": 49,
   "id": "7764a829",
   "metadata": {},
   "outputs": [
    {
     "name": "stdout",
     "output_type": "stream",
     "text": [
      "╭─────────────────────┬─────────┬──────────╮\n",
      "│ Fecha               │   Valor │   Semana │\n",
      "├─────────────────────┼─────────┼──────────┤\n",
      "│ 2014-01-06 00:00:00 │     146 │        2 │\n",
      "│ 2014-01-13 00:00:00 │     776 │        3 │\n",
      "│ 2014-01-20 00:00:00 │    1107 │        4 │\n",
      "│ 2014-01-27 00:00:00 │    1173 │        5 │\n",
      "│ 2014-02-03 00:00:00 │    1351 │        6 │\n",
      "│ 2014-02-10 00:00:00 │    1077 │        7 │\n",
      "│ 2014-02-17 00:00:00 │    1474 │        8 │\n",
      "│ 2014-02-24 00:00:00 │    1411 │        9 │\n",
      "│ 2014-03-03 00:00:00 │    1530 │       10 │\n",
      "│ 2014-03-10 00:00:00 │    1474 │       11 │\n",
      "│ 2014-03-17 00:00:00 │    1644 │       12 │\n",
      "│ 2014-03-24 00:00:00 │    1466 │       13 │\n",
      "│ 2014-03-31 00:00:00 │    1670 │       14 │\n",
      "│ 2014-04-07 00:00:00 │    1658 │       15 │\n",
      "│ 2014-04-14 00:00:00 │    1668 │       16 │\n",
      "│ 2014-04-21 00:00:00 │    1044 │       17 │\n",
      "│ 2014-04-28 00:00:00 │    1639 │       18 │\n",
      "│ 2014-05-05 00:00:00 │    1283 │       19 │\n",
      "│ 2014-05-12 00:00:00 │    1511 │       20 │\n",
      "│ 2014-05-19 00:00:00 │    1747 │       21 │\n",
      "│ 2014-05-26 00:00:00 │    1754 │       22 │\n",
      "│ 2014-06-02 00:00:00 │    1747 │       23 │\n",
      "│ 2014-06-09 00:00:00 │    1765 │       24 │\n",
      "│ 2014-06-16 00:00:00 │    1855 │       25 │\n",
      "│ 2014-06-23 00:00:00 │    1866 │       26 │\n",
      "│ 2014-06-30 00:00:00 │    1698 │       27 │\n",
      "│ 2014-07-07 00:00:00 │    1629 │       28 │\n",
      "│ 2014-07-14 00:00:00 │    1674 │       29 │\n",
      "│ 2014-07-21 00:00:00 │    1512 │       30 │\n",
      "│ 2014-07-28 00:00:00 │    1569 │       31 │\n",
      "│ 2014-08-04 00:00:00 │    1340 │       32 │\n",
      "│ 2014-08-11 00:00:00 │    1452 │       33 │\n",
      "│ 2014-08-18 00:00:00 │    1679 │       34 │\n",
      "│ 2014-08-25 00:00:00 │    1741 │       35 │\n",
      "│ 2014-09-01 00:00:00 │    1643 │       36 │\n",
      "│ 2014-09-08 00:00:00 │    1716 │       37 │\n",
      "│ 2014-09-15 00:00:00 │    1628 │       38 │\n",
      "│ 2014-09-22 00:00:00 │    1383 │       39 │\n",
      "│ 2014-09-29 00:00:00 │    1795 │       40 │\n",
      "│ 2014-10-06 00:00:00 │    1506 │       41 │\n",
      "│ 2014-10-13 00:00:00 │    1536 │       42 │\n",
      "│ 2014-10-20 00:00:00 │    1656 │       43 │\n",
      "│ 2014-10-27 00:00:00 │    1670 │       44 │\n",
      "│ 2014-11-03 00:00:00 │    1492 │       45 │\n",
      "│ 2014-11-10 00:00:00 │    1492 │       46 │\n",
      "│ 2014-11-17 00:00:00 │    1480 │       47 │\n",
      "│ 2014-11-24 00:00:00 │    1251 │       48 │\n",
      "│ 2014-12-01 00:00:00 │    1445 │       49 │\n",
      "│ 2014-12-08 00:00:00 │    1343 │       50 │\n",
      "│ 2014-12-15 00:00:00 │    1127 │       51 │\n",
      "│ 2014-12-22 00:00:00 │    1067 │       52 │\n",
      "│ 2014-12-29 00:00:00 │    1216 │        1 │\n",
      "│ 2015-01-05 00:00:00 │    1092 │        2 │\n",
      "│ 2015-01-12 00:00:00 │    1296 │        3 │\n",
      "│ 2015-01-19 00:00:00 │    1507 │        4 │\n",
      "│ 2015-01-26 00:00:00 │    1392 │        5 │\n",
      "│ 2015-02-02 00:00:00 │    1299 │        6 │\n",
      "│ 2015-02-09 00:00:00 │    1447 │        7 │\n",
      "│ 2015-02-16 00:00:00 │    1555 │        8 │\n",
      "│ 2015-02-23 00:00:00 │    1521 │        9 │\n",
      "│ 2015-03-02 00:00:00 │    1548 │       10 │\n",
      "│ 2015-03-09 00:00:00 │    1370 │       11 │\n",
      "│ 2015-03-16 00:00:00 │    1341 │       12 │\n",
      "│ 2015-03-23 00:00:00 │    1527 │       13 │\n",
      "│ 2015-03-30 00:00:00 │    1620 │       14 │\n",
      "│ 2015-04-06 00:00:00 │    2078 │       15 │\n",
      "│ 2015-04-13 00:00:00 │    2185 │       16 │\n",
      "│ 2015-04-20 00:00:00 │    2173 │       17 │\n",
      "│ 2015-04-27 00:00:00 │    2028 │       18 │\n",
      "│ 2015-05-04 00:00:00 │    2036 │       19 │\n",
      "│ 2015-05-11 00:00:00 │    2160 │       20 │\n",
      "│ 2015-05-18 00:00:00 │    2463 │       21 │\n",
      "│ 2015-05-25 00:00:00 │    2212 │       22 │\n",
      "│ 2015-06-01 00:00:00 │    2384 │       23 │\n",
      "│ 2015-06-08 00:00:00 │    2441 │       24 │\n",
      "│ 2015-06-15 00:00:00 │    2305 │       25 │\n",
      "│ 2015-06-22 00:00:00 │    2241 │       26 │\n",
      "│ 2015-06-29 00:00:00 │    2270 │       27 │\n",
      "│ 2015-07-06 00:00:00 │    2136 │       28 │\n",
      "│ 2015-07-13 00:00:00 │    2009 │       29 │\n",
      "│ 2015-07-20 00:00:00 │    2037 │       30 │\n",
      "│ 2015-07-27 00:00:00 │    2066 │       31 │\n",
      "│ 2015-08-03 00:00:00 │    2115 │       32 │\n",
      "│ 2015-08-10 00:00:00 │    2273 │       33 │\n",
      "│ 2015-08-17 00:00:00 │    2226 │       34 │\n",
      "│ 2015-08-24 00:00:00 │    2276 │       35 │\n",
      "│ 2015-08-31 00:00:00 │    2160 │       36 │\n",
      "│ 2015-09-07 00:00:00 │    2280 │       37 │\n",
      "│ 2015-09-14 00:00:00 │    1723 │       38 │\n",
      "│ 2015-09-21 00:00:00 │    2252 │       39 │\n",
      "│ 2015-09-28 00:00:00 │    2282 │       40 │\n",
      "│ 2015-10-05 00:00:00 │    2272 │       41 │\n",
      "│ 2015-10-12 00:00:00 │    2356 │       42 │\n",
      "│ 2015-10-19 00:00:00 │    2245 │       43 │\n",
      "│ 2015-10-26 00:00:00 │    2096 │       44 │\n",
      "│ 2015-11-02 00:00:00 │    1894 │       45 │\n",
      "│ 2015-11-09 00:00:00 │    2043 │       46 │\n",
      "│ 2015-11-16 00:00:00 │    1951 │       47 │\n",
      "│ 2015-11-23 00:00:00 │    2057 │       48 │\n",
      "│ 2015-11-30 00:00:00 │    2102 │       49 │\n",
      "│ 2015-12-07 00:00:00 │    1947 │       50 │\n",
      "│ 2015-12-14 00:00:00 │    1659 │       51 │\n",
      "│ 2015-12-21 00:00:00 │    1153 │       52 │\n",
      "│ 2016-01-04 00:00:00 │    1120 │        1 │\n",
      "│ 2016-01-11 00:00:00 │    1647 │        2 │\n",
      "│ 2016-01-18 00:00:00 │    2043 │        3 │\n",
      "│ 2016-01-25 00:00:00 │    2171 │        4 │\n",
      "│ 2016-02-01 00:00:00 │    2025 │        5 │\n",
      "│ 2016-02-08 00:00:00 │    2006 │        6 │\n",
      "│ 2016-02-15 00:00:00 │    2086 │        7 │\n",
      "│ 2016-02-22 00:00:00 │    2141 │        8 │\n",
      "│ 2016-02-29 00:00:00 │    2310 │        9 │\n",
      "│ 2016-03-07 00:00:00 │    2193 │       10 │\n",
      "│ 2016-03-14 00:00:00 │    2235 │       11 │\n",
      "│ 2016-03-21 00:00:00 │    2173 │       12 │\n",
      "│ 2016-03-28 00:00:00 │    1253 │       13 │\n",
      "│ 2016-04-04 00:00:00 │    2221 │       14 │\n",
      "│ 2016-04-11 00:00:00 │    2351 │       15 │\n",
      "│ 2016-04-18 00:00:00 │    2450 │       16 │\n",
      "│ 2016-04-25 00:00:00 │    2439 │       17 │\n",
      "│ 2016-05-02 00:00:00 │    2342 │       18 │\n",
      "│ 2016-05-09 00:00:00 │    2207 │       19 │\n",
      "│ 2016-05-16 00:00:00 │    2047 │       20 │\n",
      "│ 2016-05-23 00:00:00 │    2443 │       21 │\n",
      "│ 2016-05-30 00:00:00 │    2467 │       22 │\n",
      "│ 2016-06-06 00:00:00 │    2369 │       23 │\n",
      "│ 2016-06-13 00:00:00 │    2393 │       24 │\n",
      "│ 2016-06-20 00:00:00 │    2377 │       25 │\n",
      "│ 2016-06-27 00:00:00 │    2217 │       26 │\n",
      "│ 2016-07-04 00:00:00 │    2174 │       27 │\n",
      "│ 2016-07-11 00:00:00 │    2199 │       28 │\n",
      "│ 2016-07-18 00:00:00 │    2176 │       29 │\n",
      "│ 2016-07-25 00:00:00 │    2244 │       30 │\n",
      "│ 2016-08-01 00:00:00 │    1897 │       31 │\n",
      "│ 2016-08-08 00:00:00 │    2174 │       32 │\n",
      "│ 2016-08-15 00:00:00 │    2199 │       33 │\n",
      "│ 2016-08-22 00:00:00 │    2346 │       34 │\n",
      "│ 2016-08-29 00:00:00 │    2397 │       35 │\n",
      "│ 2016-09-05 00:00:00 │    2342 │       36 │\n",
      "│ 2016-09-12 00:00:00 │    2377 │       37 │\n",
      "│ 2016-09-19 00:00:00 │    1742 │       38 │\n",
      "│ 2016-09-26 00:00:00 │    2407 │       39 │\n",
      "│ 2016-10-03 00:00:00 │    2329 │       40 │\n",
      "│ 2016-10-10 00:00:00 │    2410 │       41 │\n",
      "│ 2016-10-17 00:00:00 │    2381 │       42 │\n",
      "│ 2016-10-24 00:00:00 │    2460 │       43 │\n",
      "│ 2016-10-31 00:00:00 │    2204 │       44 │\n",
      "│ 2016-11-07 00:00:00 │    1957 │       45 │\n",
      "│ 2016-11-14 00:00:00 │    2332 │       46 │\n",
      "│ 2016-11-21 00:00:00 │    2126 │       47 │\n",
      "│ 2016-11-28 00:00:00 │    1857 │       48 │\n",
      "│ 2016-12-05 00:00:00 │    1852 │       49 │\n",
      "│ 2016-12-12 00:00:00 │    1959 │       50 │\n",
      "│ 2016-12-19 00:00:00 │    1725 │       51 │\n",
      "│ 2016-12-26 00:00:00 │    1384 │       52 │\n",
      "│ 2017-01-02 00:00:00 │    1362 │        1 │\n",
      "│ 2017-01-09 00:00:00 │    1778 │        2 │\n",
      "│ 2017-01-16 00:00:00 │    2408 │        3 │\n",
      "│ 2017-01-23 00:00:00 │    2819 │        4 │\n",
      "│ 2017-01-30 00:00:00 │    2710 │        5 │\n",
      "│ 2017-02-06 00:00:00 │    2385 │        6 │\n",
      "│ 2017-02-13 00:00:00 │    2263 │        7 │\n",
      "│ 2017-02-20 00:00:00 │    2546 │        8 │\n",
      "│ 2017-02-27 00:00:00 │    2732 │        9 │\n",
      "│ 2017-03-06 00:00:00 │    2538 │       10 │\n",
      "│ 2017-03-13 00:00:00 │    2655 │       11 │\n",
      "│ 2017-03-20 00:00:00 │    2719 │       12 │\n",
      "│ 2017-03-27 00:00:00 │    2478 │       13 │\n",
      "│ 2017-04-03 00:00:00 │    2863 │       14 │\n",
      "│ 2017-04-10 00:00:00 │    2447 │       15 │\n",
      "│ 2017-04-17 00:00:00 │    1904 │       16 │\n",
      "│ 2017-04-24 00:00:00 │    2543 │       17 │\n",
      "│ 2017-05-01 00:00:00 │    2585 │       18 │\n",
      "│ 2017-05-08 00:00:00 │    2113 │       19 │\n",
      "│ 2017-05-15 00:00:00 │    2468 │       20 │\n",
      "│ 2017-05-22 00:00:00 │    2737 │       21 │\n",
      "│ 2017-05-29 00:00:00 │    2901 │       22 │\n",
      "│ 2017-06-05 00:00:00 │    2905 │       23 │\n",
      "│ 2017-06-12 00:00:00 │    2800 │       24 │\n",
      "│ 2017-06-19 00:00:00 │    2936 │       25 │\n",
      "│ 2017-06-26 00:00:00 │    2736 │       26 │\n",
      "│ 2017-07-03 00:00:00 │    2781 │       27 │\n",
      "│ 2017-07-10 00:00:00 │    2489 │       28 │\n",
      "│ 2017-07-17 00:00:00 │    2329 │       29 │\n",
      "│ 2017-07-24 00:00:00 │    2436 │       30 │\n",
      "│ 2017-07-31 00:00:00 │    2427 │       31 │\n",
      "│ 2017-08-07 00:00:00 │    2212 │       32 │\n",
      "│ 2017-08-14 00:00:00 │    2289 │       33 │\n",
      "│ 2017-08-21 00:00:00 │    2576 │       34 │\n",
      "│ 2017-08-28 00:00:00 │    2643 │       35 │\n",
      "│ 2017-09-04 00:00:00 │    2779 │       36 │\n",
      "│ 2017-09-11 00:00:00 │    2531 │       37 │\n",
      "│ 2017-09-18 00:00:00 │    2428 │       38 │\n",
      "│ 2017-09-25 00:00:00 │    2500 │       39 │\n",
      "│ 2017-10-02 00:00:00 │    2736 │       40 │\n",
      "│ 2017-10-09 00:00:00 │    2737 │       41 │\n",
      "│ 2017-10-16 00:00:00 │    2688 │       42 │\n",
      "│ 2017-10-23 00:00:00 │    2802 │       43 │\n",
      "│ 2017-10-30 00:00:00 │    2476 │       44 │\n",
      "│ 2017-11-06 00:00:00 │    2104 │       45 │\n",
      "│ 2017-11-13 00:00:00 │    2555 │       46 │\n",
      "│ 2017-11-20 00:00:00 │    2464 │       47 │\n",
      "│ 2017-11-27 00:00:00 │    2235 │       48 │\n",
      "│ 2017-12-04 00:00:00 │    2408 │       49 │\n",
      "│ 2017-12-11 00:00:00 │    2255 │       50 │\n",
      "│ 2017-12-18 00:00:00 │    1972 │       51 │\n",
      "│ 2017-12-25 00:00:00 │    1609 │       52 │\n",
      "│ 2018-01-01 00:00:00 │    1485 │        1 │\n",
      "│ 2018-01-08 00:00:00 │    1549 │        2 │\n",
      "│ 2018-01-15 00:00:00 │    2173 │        3 │\n",
      "│ 2018-01-22 00:00:00 │    2451 │        4 │\n",
      "│ 2018-01-29 00:00:00 │    2364 │        5 │\n",
      "│ 2018-02-05 00:00:00 │    2343 │        6 │\n",
      "│ 2018-02-12 00:00:00 │    2286 │        7 │\n",
      "│ 2018-02-19 00:00:00 │    2505 │        8 │\n",
      "│ 2018-02-26 00:00:00 │    2584 │        9 │\n",
      "│ 2018-03-05 00:00:00 │    2531 │       10 │\n",
      "│ 2018-03-12 00:00:00 │    2614 │       11 │\n",
      "│ 2018-03-19 00:00:00 │    2548 │       12 │\n",
      "│ 2018-03-26 00:00:00 │    2271 │       13 │\n",
      "│ 2018-04-02 00:00:00 │    1910 │       14 │\n",
      "│ 2018-04-09 00:00:00 │    2477 │       15 │\n",
      "│ 2018-04-16 00:00:00 │    2730 │       16 │\n",
      "│ 2018-04-23 00:00:00 │    2781 │       17 │\n",
      "│ 2018-04-30 00:00:00 │    2463 │       18 │\n",
      "│ 2018-05-07 00:00:00 │    2111 │       19 │\n",
      "│ 2018-05-14 00:00:00 │    2182 │       20 │\n",
      "│ 2018-05-21 00:00:00 │    2579 │       21 │\n",
      "│ 2018-05-28 00:00:00 │    2583 │       22 │\n",
      "│ 2018-06-04 00:00:00 │    2638 │       23 │\n",
      "│ 2018-06-11 00:00:00 │    2653 │       24 │\n",
      "│ 2018-06-18 00:00:00 │    2565 │       25 │\n",
      "│ 2018-06-25 00:00:00 │    2599 │       26 │\n",
      "│ 2018-07-02 00:00:00 │    2493 │       27 │\n",
      "│ 2018-07-09 00:00:00 │    2377 │       28 │\n",
      "│ 2018-07-16 00:00:00 │    2421 │       29 │\n",
      "│ 2018-07-23 00:00:00 │    2380 │       30 │\n",
      "│ 2018-07-30 00:00:00 │    2519 │       31 │\n",
      "│ 2018-08-06 00:00:00 │    2245 │       32 │\n",
      "│ 2018-08-13 00:00:00 │    2522 │       33 │\n",
      "│ 2018-08-20 00:00:00 │    2632 │       34 │\n",
      "│ 2018-08-27 00:00:00 │    2713 │       35 │\n",
      "│ 2018-09-03 00:00:00 │    2749 │       36 │\n",
      "│ 2018-09-10 00:00:00 │    2629 │       37 │\n",
      "│ 2018-09-17 00:00:00 │    2870 │       38 │\n",
      "│ 2018-09-24 00:00:00 │    2748 │       39 │\n",
      "│ 2018-10-01 00:00:00 │    2828 │       40 │\n",
      "│ 2018-10-08 00:00:00 │    2702 │       41 │\n",
      "│ 2018-10-15 00:00:00 │    2823 │       42 │\n",
      "│ 2018-10-22 00:00:00 │    2725 │       43 │\n",
      "│ 2018-10-29 00:00:00 │    2682 │       44 │\n",
      "│ 2018-11-05 00:00:00 │    2351 │       45 │\n",
      "│ 2018-11-12 00:00:00 │    2587 │       46 │\n",
      "│ 2018-11-19 00:00:00 │    2552 │       47 │\n",
      "│ 2018-11-26 00:00:00 │    2181 │       48 │\n",
      "│ 2018-12-03 00:00:00 │    2512 │       49 │\n",
      "│ 2018-12-10 00:00:00 │    2420 │       50 │\n",
      "│ 2018-12-17 00:00:00 │    2119 │       51 │\n",
      "│ 2018-12-24 00:00:00 │    1708 │       52 │\n",
      "│ 2018-12-31 00:00:00 │    1388 │        1 │\n",
      "│ 2019-01-07 00:00:00 │    1569 │        2 │\n",
      "│ 2019-01-14 00:00:00 │    2326 │        3 │\n",
      "│ 2019-01-21 00:00:00 │    2549 │        4 │\n",
      "│ 2019-01-28 00:00:00 │    2619 │        5 │\n",
      "│ 2019-02-04 00:00:00 │    2541 │        6 │\n",
      "│ 2019-02-11 00:00:00 │    2153 │        7 │\n",
      "│ 2019-02-18 00:00:00 │    2737 │        8 │\n",
      "│ 2019-02-25 00:00:00 │    2794 │        9 │\n",
      "│ 2019-03-04 00:00:00 │    2733 │       10 │\n",
      "│ 2019-03-11 00:00:00 │    2828 │       11 │\n",
      "│ 2019-03-18 00:00:00 │    2792 │       12 │\n",
      "│ 2019-03-25 00:00:00 │    2518 │       13 │\n",
      "│ 2019-04-01 00:00:00 │    2666 │       14 │\n",
      "│ 2019-04-08 00:00:00 │    2881 │       15 │\n",
      "│ 2019-04-15 00:00:00 │    2697 │       16 │\n",
      "│ 2019-04-22 00:00:00 │    2030 │       17 │\n",
      "│ 2019-04-29 00:00:00 │    2509 │       18 │\n",
      "│ 2019-05-06 00:00:00 │    2415 │       19 │\n",
      "│ 2019-05-13 00:00:00 │    2384 │       20 │\n",
      "│ 2019-05-20 00:00:00 │    2835 │       21 │\n",
      "│ 2019-05-27 00:00:00 │    2917 │       22 │\n",
      "│ 2019-06-03 00:00:00 │    2798 │       23 │\n",
      "│ 2019-06-10 00:00:00 │    2813 │       24 │\n",
      "│ 2019-06-17 00:00:00 │    2743 │       25 │\n",
      "│ 2019-06-24 00:00:00 │    2742 │       26 │\n",
      "│ 2019-07-01 00:00:00 │    2636 │       27 │\n",
      "│ 2019-07-08 00:00:00 │    2721 │       28 │\n",
      "│ 2019-07-15 00:00:00 │    2705 │       29 │\n",
      "│ 2019-07-22 00:00:00 │    2584 │       30 │\n",
      "│ 2019-07-29 00:00:00 │    2497 │       31 │\n",
      "│ 2019-08-05 00:00:00 │    2465 │       32 │\n",
      "│ 2019-08-12 00:00:00 │    2623 │       33 │\n",
      "│ 2019-08-19 00:00:00 │    2562 │       34 │\n",
      "│ 2019-08-26 00:00:00 │    2671 │       35 │\n",
      "│ 2019-09-02 00:00:00 │    2673 │       36 │\n",
      "│ 2019-09-09 00:00:00 │    2679 │       37 │\n",
      "│ 2019-09-16 00:00:00 │    2638 │       38 │\n",
      "│ 2019-09-23 00:00:00 │    2195 │       39 │\n",
      "│ 2019-09-30 00:00:00 │    2817 │       40 │\n",
      "│ 2019-10-07 00:00:00 │    2515 │       41 │\n",
      "│ 2019-10-14 00:00:00 │    2671 │       42 │\n",
      "│ 2019-10-21 00:00:00 │    2630 │       43 │\n",
      "│ 2019-10-28 00:00:00 │    2795 │       44 │\n",
      "│ 2019-11-04 00:00:00 │    2503 │       45 │\n",
      "│ 2019-11-11 00:00:00 │    2819 │       46 │\n",
      "│ 2019-11-18 00:00:00 │    2692 │       47 │\n",
      "│ 2019-11-25 00:00:00 │    2315 │       48 │\n",
      "│ 2019-12-02 00:00:00 │    2708 │       49 │\n",
      "│ 2019-12-09 00:00:00 │    2719 │       50 │\n",
      "│ 2019-12-16 00:00:00 │    2454 │       51 │\n",
      "│ 2019-12-23 00:00:00 │    2276 │       52 │\n",
      "│ 2019-12-30 00:00:00 │    1267 │        1 │\n",
      "│ 2020-01-06 00:00:00 │    1382 │        2 │\n",
      "│ 2020-01-13 00:00:00 │    2053 │        3 │\n",
      "│ 2020-01-20 00:00:00 │    2681 │        4 │\n",
      "│ 2020-01-27 00:00:00 │    2618 │        5 │\n",
      "│ 2020-02-03 00:00:00 │    2807 │        6 │\n",
      "│ 2020-02-10 00:00:00 │    2378 │        7 │\n",
      "│ 2020-02-17 00:00:00 │    2698 │        8 │\n",
      "│ 2020-02-24 00:00:00 │    2977 │        9 │\n",
      "│ 2020-03-02 00:00:00 │    2739 │       10 │\n",
      "│ 2020-03-09 00:00:00 │    2605 │       11 │\n",
      "│ 2020-03-16 00:00:00 │    2696 │       12 │\n",
      "│ 2020-03-23 00:00:00 │    1984 │       13 │\n",
      "│ 2020-03-30 00:00:00 │    1719 │       14 │\n",
      "│ 2020-04-06 00:00:00 │    1293 │       15 │\n",
      "│ 2020-04-13 00:00:00 │     910 │       16 │\n",
      "│ 2020-04-20 00:00:00 │    1076 │       17 │\n",
      "│ 2020-04-27 00:00:00 │    1060 │       18 │\n",
      "│ 2020-05-04 00:00:00 │     935 │       19 │\n",
      "│ 2020-05-11 00:00:00 │    1158 │       20 │\n",
      "│ 2020-05-18 00:00:00 │    1190 │       21 │\n",
      "│ 2020-05-25 00:00:00 │    1191 │       22 │\n",
      "│ 2020-06-01 00:00:00 │    1333 │       23 │\n",
      "│ 2020-06-08 00:00:00 │    1198 │       24 │\n",
      "│ 2020-06-15 00:00:00 │    1294 │       25 │\n",
      "│ 2020-06-22 00:00:00 │    1297 │       26 │\n",
      "│ 2020-06-29 00:00:00 │    1194 │       27 │\n",
      "│ 2020-07-06 00:00:00 │    1320 │       28 │\n",
      "│ 2020-07-13 00:00:00 │    1326 │       29 │\n",
      "│ 2020-07-20 00:00:00 │    1575 │       30 │\n",
      "│ 2020-07-27 00:00:00 │    1309 │       31 │\n",
      "│ 2020-08-03 00:00:00 │    1277 │       32 │\n",
      "│ 2020-08-10 00:00:00 │    1528 │       33 │\n",
      "│ 2020-08-17 00:00:00 │    1448 │       34 │\n",
      "│ 2020-08-24 00:00:00 │    1564 │       35 │\n",
      "│ 2020-08-31 00:00:00 │    1635 │       36 │\n",
      "│ 2020-09-07 00:00:00 │    1742 │       37 │\n",
      "│ 2020-09-14 00:00:00 │    1828 │       38 │\n",
      "│ 2020-09-21 00:00:00 │    1541 │       39 │\n",
      "│ 2020-09-28 00:00:00 │    1796 │       40 │\n",
      "│ 2020-10-05 00:00:00 │    1970 │       41 │\n",
      "│ 2020-10-12 00:00:00 │    1773 │       42 │\n",
      "│ 2020-10-19 00:00:00 │    1867 │       43 │\n",
      "│ 2020-10-26 00:00:00 │    1928 │       44 │\n",
      "│ 2020-11-02 00:00:00 │    1833 │       45 │\n",
      "│ 2020-11-09 00:00:00 │    1622 │       46 │\n",
      "│ 2020-11-16 00:00:00 │    1726 │       47 │\n",
      "│ 2020-11-23 00:00:00 │    1568 │       48 │\n",
      "│ 2020-11-30 00:00:00 │    1824 │       49 │\n",
      "│ 2020-12-07 00:00:00 │    1636 │       50 │\n",
      "│ 2020-12-14 00:00:00 │    1624 │       51 │\n",
      "│ 2020-12-21 00:00:00 │    1383 │       52 │\n",
      "│ 2020-12-28 00:00:00 │     999 │       53 │\n",
      "│ 2021-01-04 00:00:00 │     862 │        1 │\n",
      "│ 2021-01-11 00:00:00 │    1277 │        2 │\n",
      "│ 2021-01-18 00:00:00 │    1525 │        3 │\n",
      "│ 2021-01-25 00:00:00 │    1511 │        4 │\n",
      "│ 2021-02-01 00:00:00 │    1739 │        5 │\n",
      "│ 2021-02-08 00:00:00 │    1528 │        6 │\n",
      "│ 2021-02-15 00:00:00 │    1774 │        7 │\n",
      "│ 2021-02-22 00:00:00 │    1705 │        8 │\n",
      "│ 2021-03-01 00:00:00 │    2035 │        9 │\n",
      "│ 2021-03-08 00:00:00 │    1960 │       10 │\n",
      "│ 2021-03-15 00:00:00 │    2035 │       11 │\n",
      "│ 2021-03-22 00:00:00 │    1921 │       12 │\n",
      "│ 2021-03-29 00:00:00 │    2175 │       13 │\n",
      "│ 2021-04-05 00:00:00 │    1588 │       14 │\n",
      "│ 2021-04-12 00:00:00 │    2039 │       15 │\n",
      "│ 2021-04-19 00:00:00 │    2348 │       16 │\n",
      "│ 2021-04-26 00:00:00 │    2166 │       17 │\n",
      "│ 2021-05-03 00:00:00 │    2327 │       18 │\n",
      "│ 2021-05-10 00:00:00 │    2129 │       19 │\n",
      "│ 2021-05-17 00:00:00 │    2048 │       20 │\n",
      "│ 2021-05-24 00:00:00 │    2466 │       21 │\n",
      "│ 2021-05-31 00:00:00 │    2629 │       22 │\n",
      "│ 2021-06-07 00:00:00 │    2294 │       23 │\n",
      "│ 2021-06-14 00:00:00 │    2497 │       24 │\n",
      "│ 2021-06-21 00:00:00 │    2507 │       25 │\n",
      "│ 2021-06-28 00:00:00 │    2498 │       26 │\n",
      "│ 2021-07-05 00:00:00 │    2500 │       27 │\n",
      "│ 2021-07-12 00:00:00 │    2375 │       28 │\n",
      "│ 2021-07-19 00:00:00 │    2337 │       29 │\n",
      "│ 2021-07-26 00:00:00 │    2299 │       30 │\n",
      "│ 2021-08-02 00:00:00 │    2084 │       31 │\n",
      "│ 2021-08-09 00:00:00 │    2101 │       32 │\n",
      "│ 2021-08-16 00:00:00 │    2204 │       33 │\n",
      "│ 2021-08-23 00:00:00 │    2177 │       34 │\n",
      "│ 2021-08-30 00:00:00 │    2200 │       35 │\n",
      "│ 2021-09-06 00:00:00 │    2093 │       36 │\n",
      "│ 2021-09-13 00:00:00 │    2181 │       37 │\n",
      "│ 2021-09-20 00:00:00 │    2031 │       38 │\n",
      "│ 2021-09-27 00:00:00 │    2416 │       39 │\n",
      "│ 2021-10-04 00:00:00 │    2379 │       40 │\n",
      "│ 2021-10-11 00:00:00 │    2627 │       41 │\n",
      "│ 2021-10-18 00:00:00 │    2630 │       42 │\n",
      "│ 2021-10-25 00:00:00 │    2766 │       43 │\n",
      "│ 2021-11-01 00:00:00 │    2675 │       44 │\n",
      "│ 2021-11-08 00:00:00 │    2153 │       45 │\n",
      "│ 2021-11-15 00:00:00 │    2565 │       46 │\n",
      "│ 2021-11-22 00:00:00 │    2315 │       47 │\n",
      "│ 2021-11-29 00:00:00 │    2532 │       48 │\n",
      "│ 2021-12-06 00:00:00 │    2464 │       49 │\n",
      "│ 2021-12-13 00:00:00 │    2506 │       50 │\n",
      "│ 2021-12-20 00:00:00 │    2139 │       51 │\n",
      "│ 2021-12-27 00:00:00 │    1525 │       52 │\n",
      "│ 2022-01-03 00:00:00 │    1302 │        1 │\n",
      "│ 2022-01-10 00:00:00 │    1607 │        2 │\n",
      "│ 2022-01-17 00:00:00 │    2024 │        3 │\n",
      "│ 2022-01-24 00:00:00 │    2137 │        4 │\n",
      "│ 2022-01-31 00:00:00 │    2263 │        5 │\n",
      "│ 2022-02-07 00:00:00 │    2304 │        6 │\n",
      "│ 2022-02-14 00:00:00 │    2235 │        7 │\n",
      "│ 2022-02-21 00:00:00 │    2814 │        8 │\n",
      "│ 2022-02-28 00:00:00 │    2869 │        9 │\n",
      "│ 2022-03-07 00:00:00 │    2813 │       10 │\n",
      "│ 2022-03-14 00:00:00 │    2942 │       11 │\n",
      "│ 2022-03-21 00:00:00 │    2975 │       12 │\n",
      "│ 2022-03-28 00:00:00 │    2516 │       13 │\n",
      "│ 2022-04-04 00:00:00 │    2916 │       14 │\n",
      "│ 2022-04-11 00:00:00 │    2894 │       15 │\n",
      "│ 2022-04-18 00:00:00 │    1999 │       16 │\n",
      "│ 2022-04-25 00:00:00 │    2884 │       17 │\n",
      "│ 2022-05-02 00:00:00 │    2938 │       18 │\n",
      "│ 2022-05-09 00:00:00 │    2500 │       19 │\n",
      "│ 2022-05-16 00:00:00 │    2608 │       20 │\n",
      "│ 2022-05-23 00:00:00 │    2812 │       21 │\n",
      "│ 2022-05-30 00:00:00 │    3018 │       22 │\n",
      "│ 2022-06-06 00:00:00 │    3061 │       23 │\n",
      "│ 2022-06-13 00:00:00 │    3140 │       24 │\n",
      "│ 2022-06-20 00:00:00 │    3028 │       25 │\n",
      "│ 2022-06-27 00:00:00 │    2892 │       26 │\n",
      "│ 2022-07-04 00:00:00 │    2710 │       27 │\n",
      "│ 2022-07-11 00:00:00 │    2735 │       28 │\n",
      "│ 2022-07-18 00:00:00 │    2846 │       29 │\n",
      "│ 2022-07-25 00:00:00 │    2748 │       30 │\n",
      "│ 2022-08-01 00:00:00 │    2784 │       31 │\n",
      "│ 2022-08-08 00:00:00 │    2694 │       32 │\n",
      "│ 2022-08-15 00:00:00 │    2814 │       33 │\n",
      "│ 2022-08-22 00:00:00 │    2939 │       34 │\n",
      "│ 2022-08-29 00:00:00 │    3037 │       35 │\n",
      "│ 2022-09-05 00:00:00 │    2982 │       36 │\n",
      "│ 2022-09-12 00:00:00 │    3050 │       37 │\n",
      "│ 2022-09-19 00:00:00 │    2513 │       38 │\n",
      "│ 2022-09-26 00:00:00 │    2961 │       39 │\n",
      "│ 2022-10-03 00:00:00 │    3264 │       40 │\n",
      "│ 2022-10-10 00:00:00 │    3046 │       41 │\n",
      "│ 2022-10-17 00:00:00 │    3123 │       42 │\n",
      "│ 2022-10-24 00:00:00 │    3127 │       43 │\n",
      "│ 2022-10-31 00:00:00 │    3086 │       44 │\n",
      "│ 2022-11-07 00:00:00 │    2407 │       45 │\n",
      "│ 2022-11-14 00:00:00 │    3042 │       46 │\n",
      "│ 2022-11-21 00:00:00 │    2903 │       47 │\n",
      "│ 2022-11-28 00:00:00 │    2576 │       48 │\n",
      "│ 2022-12-05 00:00:00 │    2701 │       49 │\n",
      "│ 2022-12-12 00:00:00 │    2387 │       50 │\n",
      "│ 2022-12-19 00:00:00 │    2350 │       51 │\n",
      "│ 2022-12-26 00:00:00 │    1799 │       52 │\n",
      "│ 2023-01-02 00:00:00 │    1496 │        1 │\n",
      "│ 2023-01-09 00:00:00 │    2092 │        2 │\n",
      "│ 2023-01-16 00:00:00 │    2856 │        3 │\n",
      "│ 2023-01-23 00:00:00 │    3048 │        4 │\n",
      "│ 2023-01-30 00:00:00 │    3210 │        5 │\n",
      "│ 2023-02-06 00:00:00 │    3158 │        6 │\n",
      "│ 2023-02-13 00:00:00 │    3011 │        7 │\n",
      "│ 2023-02-20 00:00:00 │    3463 │        8 │\n",
      "│ 2023-02-27 00:00:00 │    3561 │        9 │\n",
      "│ 2023-03-06 00:00:00 │    3312 │       10 │\n",
      "│ 2023-03-13 00:00:00 │    3574 │       11 │\n",
      "│ 2023-03-20 00:00:00 │    3611 │       12 │\n",
      "│ 2023-03-27 00:00:00 │    3126 │       13 │\n",
      "│ 2023-04-03 00:00:00 │    3491 │       14 │\n",
      "│ 2023-04-10 00:00:00 │    2284 │       15 │\n",
      "│ 2023-04-17 00:00:00 │    3321 │       16 │\n",
      "│ 2023-04-24 00:00:00 │    3627 │       17 │\n",
      "│ 2023-05-01 00:00:00 │    3615 │       18 │\n",
      "│ 2023-05-08 00:00:00 │    2957 │       19 │\n",
      "│ 2023-05-15 00:00:00 │    3416 │       20 │\n",
      "│ 2023-05-22 00:00:00 │    3701 │       21 │\n",
      "│ 2023-05-29 00:00:00 │    3875 │       22 │\n",
      "│ 2023-06-05 00:00:00 │    3687 │       23 │\n",
      "│ 2023-06-12 00:00:00 │    3997 │       24 │\n",
      "│ 2023-06-19 00:00:00 │    3815 │       25 │\n",
      "│ 2023-06-26 00:00:00 │    3641 │       26 │\n",
      "│ 2023-07-03 00:00:00 │    3639 │       27 │\n",
      "│ 2023-07-10 00:00:00 │    3774 │       28 │\n",
      "│ 2023-07-17 00:00:00 │    3584 │       29 │\n",
      "│ 2023-07-24 00:00:00 │    3682 │       30 │\n",
      "│ 2023-07-31 00:00:00 │    3565 │       31 │\n",
      "│ 2023-08-07 00:00:00 │    3567 │       32 │\n",
      "│ 2023-08-14 00:00:00 │    3620 │       33 │\n",
      "│ 2023-08-21 00:00:00 │    3792 │       34 │\n",
      "│ 2023-08-28 00:00:00 │    3712 │       35 │\n",
      "│ 2023-09-04 00:00:00 │    4018 │       36 │\n",
      "│ 2023-09-11 00:00:00 │    3675 │       37 │\n",
      "│ 2023-09-18 00:00:00 │    3627 │       38 │\n",
      "│ 2023-09-25 00:00:00 │    5081 │       39 │\n",
      "│ 2023-10-02 00:00:00 │    3842 │       40 │\n",
      "│ 2023-10-09 00:00:00 │    3986 │       41 │\n",
      "│ 2023-10-16 00:00:00 │    3794 │       42 │\n",
      "│ 2023-10-23 00:00:00 │    3826 │       43 │\n",
      "│ 2023-10-30 00:00:00 │    3501 │       44 │\n",
      "│ 2023-11-06 00:00:00 │    2865 │       45 │\n",
      "│ 2023-11-13 00:00:00 │    3526 │       46 │\n",
      "│ 2023-11-20 00:00:00 │    3703 │       47 │\n",
      "│ 2023-11-27 00:00:00 │    3110 │       48 │\n",
      "│ 2023-12-04 00:00:00 │    3357 │       49 │\n",
      "│ 2023-12-11 00:00:00 │    3228 │       50 │\n",
      "│ 2023-12-18 00:00:00 │    2658 │       51 │\n",
      "│ 2023-12-25 00:00:00 │    2268 │       52 │\n",
      "│ 2024-01-01 00:00:00 │    1788 │        1 │\n",
      "│ 2024-01-08 00:00:00 │    2188 │        2 │\n",
      "│ 2024-01-15 00:00:00 │    3175 │        3 │\n",
      "│ 2024-01-22 00:00:00 │    3658 │        4 │\n",
      "│ 2024-01-29 00:00:00 │    3770 │        5 │\n",
      "│ 2024-02-05 00:00:00 │    3524 │        6 │\n",
      "│ 2024-02-12 00:00:00 │    3158 │        7 │\n",
      "│ 2024-02-19 00:00:00 │    3604 │        8 │\n",
      "│ 2024-02-26 00:00:00 │    3857 │        9 │\n",
      "│ 2024-03-04 00:00:00 │     242 │       10 │\n",
      "│ 2024-03-11 00:00:00 │    3655 │       11 │\n",
      "│ 2024-03-18 00:00:00 │    3723 │       12 │\n",
      "│ 2024-03-25 00:00:00 │    3212 │       13 │\n",
      "│ 2024-04-01 00:00:00 │    2752 │       14 │\n",
      "│ 2024-04-08 00:00:00 │    3526 │       15 │\n",
      "│ 2024-04-15 00:00:00 │    3908 │       16 │\n",
      "│ 2024-04-22 00:00:00 │    3807 │       17 │\n",
      "│ 2024-04-29 00:00:00 │    3794 │       18 │\n",
      "│ 2024-05-06 00:00:00 │    3158 │       19 │\n",
      "│ 2024-05-13 00:00:00 │    3325 │       20 │\n",
      "│ 2024-05-20 00:00:00 │    3600 │       21 │\n",
      "│ 2024-05-27 00:00:00 │    3421 │       22 │\n",
      "│ 2024-06-03 00:00:00 │    3500 │       23 │\n",
      "│ 2024-06-10 00:00:00 │    3492 │       24 │\n",
      "│ 2024-06-17 00:00:00 │    3748 │       25 │\n",
      "│ 2024-06-24 00:00:00 │    3400 │       26 │\n",
      "│ 2024-07-01 00:00:00 │    3541 │       27 │\n",
      "│ 2024-07-08 00:00:00 │    3359 │       28 │\n",
      "│ 2024-07-15 00:00:00 │    3503 │       29 │\n",
      "│ 2024-07-22 00:00:00 │    3384 │       30 │\n",
      "│ 2024-07-29 00:00:00 │    3092 │       31 │\n",
      "│ 2024-08-05 00:00:00 │    3305 │       32 │\n",
      "│ 2024-08-12 00:00:00 │    3333 │       33 │\n",
      "│ 2024-08-19 00:00:00 │    3483 │       34 │\n",
      "│ 2024-08-26 00:00:00 │    3412 │       35 │\n",
      "│ 2024-09-02 00:00:00 │    3363 │       36 │\n",
      "│ 2024-09-09 00:00:00 │    3313 │       37 │\n",
      "│ 2024-09-16 00:00:00 │    3266 │       38 │\n",
      "│ 2024-09-23 00:00:00 │    3107 │       39 │\n",
      "│ 2024-09-30 00:00:00 │    3680 │       40 │\n",
      "│ 2024-10-07 00:00:00 │    3002 │       41 │\n",
      "│ 2024-10-14 00:00:00 │    3563 │       42 │\n",
      "│ 2024-10-21 00:00:00 │    3624 │       43 │\n",
      "│ 2024-10-28 00:00:00 │    3562 │       44 │\n",
      "│ 2024-11-04 00:00:00 │    3420 │       45 │\n",
      "│ 2024-11-11 00:00:00 │    3482 │       46 │\n",
      "│ 2024-11-18 00:00:00 │    3403 │       47 │\n",
      "│ 2024-11-25 00:00:00 │    2958 │       48 │\n",
      "│ 2024-12-02 00:00:00 │    3423 │       49 │\n",
      "│ 2024-12-09 00:00:00 │    3176 │       50 │\n",
      "│ 2024-12-16 00:00:00 │    2986 │       51 │\n",
      "│ 2024-12-23 00:00:00 │    2274 │       52 │\n",
      "╰─────────────────────┴─────────┴──────────╯\n"
     ]
    }
   ],
   "source": [
    "print(tabulate(df_acumulado,headers='keys',tablefmt='rounded_outline',showindex=False))"
   ]
  }
 ],
 "metadata": {
  "kernelspec": {
   "display_name": "depression-analysis",
   "language": "python",
   "name": "python3"
  },
  "language_info": {
   "codemirror_mode": {
    "name": "ipython",
    "version": 3
   },
   "file_extension": ".py",
   "mimetype": "text/x-python",
   "name": "python",
   "nbconvert_exporter": "python",
   "pygments_lexer": "ipython3",
   "version": "3.13.7"
  }
 },
 "nbformat": 4,
 "nbformat_minor": 5
}
